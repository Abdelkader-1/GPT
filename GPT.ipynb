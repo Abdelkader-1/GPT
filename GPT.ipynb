{
 "cells": [
  {
   "cell_type": "markdown",
   "metadata": {},
   "source": [
    "## Imports"
   ]
  },
  {
   "cell_type": "code",
   "execution_count": null,
   "metadata": {},
   "outputs": [],
   "source": []
  },
  {
   "cell_type": "code",
   "execution_count": 2,
   "metadata": {},
   "outputs": [],
   "source": [
    "import pandas as pd\n",
    "import sqlalchemy as sa\n",
    "import sqlite3\n",
    "import openai\n",
    "import pyodbc\n",
    "import pypyodbc as odbc"
   ]
  },
  {
   "cell_type": "markdown",
   "metadata": {},
   "source": [
    "## Database credentials"
   ]
  },
  {
   "cell_type": "code",
   "execution_count": 3,
   "metadata": {},
   "outputs": [
    {
     "data": {
      "text/plain": [
       "\"'\\nserver='like4.database.windows.net'\\ndatabase='like'\\nconnection_string='Driver={ODBC Driver 18 for SQL Server};Server=tcp:like4.database.windows.net,1433;Database=like;Uid=CloudSA42bee827;Pwd={XP2U@X3R5EOQ23};Encrypt=yes;TrustServerCertificate=no;Connection Timeout=30;'\\nconn=odbc.connect(connection_string)\\n\""
      ]
     },
     "execution_count": 3,
     "metadata": {},
     "output_type": "execute_result"
    }
   ],
   "source": [
    "''''\n",
    "server='like4.database.windows.net'\n",
    "database='like'\n",
    "connection_string='Driver={ODBC Driver 18 for SQL Server};Server=tcp:like4.database.windows.net,1433;Database=like;Uid=CloudSA42bee827;Pwd={XP2U@X3R5EOQ23};Encrypt=yes;TrustServerCertificate=no;Connection Timeout=30;'\n",
    "conn=odbc.connect(connection_string)\n",
    "'''"
   ]
  },
  {
   "cell_type": "code",
   "execution_count": 4,
   "metadata": {},
   "outputs": [
    {
     "data": {
      "text/plain": [
       "'\\ncursor=conn.cursor()\\ncursor.execute(sql)\\ndataset=cursor.fetchall()\\nprint(dataset)\\n'"
      ]
     },
     "execution_count": 4,
     "metadata": {},
     "output_type": "execute_result"
    }
   ],
   "source": [
    "''''\n",
    "sql=''' \n",
    "#SELECT count(user_id)\n",
    "#from dbo.Users \n",
    "'''\n",
    "cursor=conn.cursor()\n",
    "cursor.execute(sql)\n",
    "dataset=cursor.fetchall()\n",
    "print(dataset)\n",
    "'''"
   ]
  },
  {
   "cell_type": "markdown",
   "metadata": {},
   "source": [
    "## Connecting to the data warehouse"
   ]
  },
  {
   "cell_type": "code",
   "execution_count": 5,
   "metadata": {},
   "outputs": [],
   "source": [
    "f = open(\"Credintials.txt\", \"r\")\n",
    "email = None\n",
    "password = None\n",
    "for i, line in enumerate(f):\n",
    "    if i == 0:\n",
    "        email = line.strip()  # Assign the first line to email variable\n",
    "    elif i == 1:\n",
    "        password = line.strip()  # Assign the second line to password variable\n",
    "\n",
    "f.close()"
   ]
  },
  {
   "cell_type": "code",
   "execution_count": 6,
   "metadata": {},
   "outputs": [],
   "source": [
    "server = 'anmx3c2yurjethctgyba6xtuaq-vkvbn7t4322edeguc3ufhjtjeu.datawarehouse.pbidedicated.windows.net'\n",
    "database = 'likeCard'\n",
    "driver='ODBC Driver 18 for SQL Server'\n",
    "user= email # use %40 inplace of @\n",
    "pass1=password # use %40 inplace of @   \n",
    "\n",
    "# Create a connection string for SQL Server using Windows authentication\n",
    "connection_string = f'mssql+pyodbc://{user}:{pass1}@{server}/{database}?driver={driver}&Trusted_Connection=no&Authentication=ActiveDirectoryInteractive'"
   ]
  },
  {
   "cell_type": "code",
   "execution_count": 7,
   "metadata": {},
   "outputs": [],
   "source": [
    "engine = sa.create_engine(connection_string, echo=True, connect_args={'autocommit': True}, fast_executemany=True)\n"
   ]
  },
  {
   "cell_type": "code",
   "execution_count": null,
   "metadata": {},
   "outputs": [],
   "source": []
  },
  {
   "cell_type": "markdown",
   "metadata": {},
   "source": [
    "## Data Preprocessing"
   ]
  },
  {
   "cell_type": "code",
   "execution_count": 8,
   "metadata": {},
   "outputs": [
    {
     "name": "stdout",
     "output_type": "stream",
     "text": [
      "2024-01-07 14:54:33,908 INFO sqlalchemy.engine.Engine SELECT CAST(SERVERPROPERTY('ProductVersion') AS VARCHAR)\n",
      "2024-01-07 14:54:33,909 INFO sqlalchemy.engine.Engine [raw sql] ()\n",
      "2024-01-07 14:54:34,142 INFO sqlalchemy.engine.Engine SELECT schema_name()\n",
      "2024-01-07 14:54:34,142 INFO sqlalchemy.engine.Engine [generated in 0.00059s] ()\n",
      "2024-01-07 14:54:34,641 INFO sqlalchemy.engine.Engine SELECT CAST('test max support' AS NVARCHAR(max))\n",
      "2024-01-07 14:54:34,641 INFO sqlalchemy.engine.Engine [generated in 0.00072s] ()\n",
      "2024-01-07 14:54:34,908 INFO sqlalchemy.engine.Engine SELECT [INFORMATION_SCHEMA].[TABLES].[TABLE_NAME] \n",
      "FROM [INFORMATION_SCHEMA].[TABLES] \n",
      "WHERE [INFORMATION_SCHEMA].[TABLES].[TABLE_TYPE] = CAST(? AS NVARCHAR(max)) AND [INFORMATION_SCHEMA].[TABLES].[TABLE_NAME] = CAST(? AS NVARCHAR(max)) AND [INFORMATION_SCHEMA].[TABLES].[TABLE_SCHEMA] = CAST(? AS NVARCHAR(max))\n",
      "2024-01-07 14:54:34,909 INFO sqlalchemy.engine.Engine [generated in 0.00078s] ('BASE TABLE', \"\\nSELECT \\n    TABLE_SCHEMA,\\n    TABLE_NAME,\\n    COLUMN_NAME,\\n    DATA_TYPE\\nFROM \\n    INFORMATION_SCHEMA.COLUMNS\\nWHERE \\n    TABLE_NAME IN (SEL ... (16 characters truncated) ... ROM INFORMATION_SCHEMA.TABLES WHERE TABLE_TYPE = 'BASE TABLE')\\n    and TABLE_NAME like 'dim_product' \\n    or TABLE_NAME like 'fact_trans%' \\n    \\n\", 'dbo')\n",
      "2024-01-07 14:54:35,410 INFO sqlalchemy.engine.Engine \n",
      "SELECT \n",
      "    TABLE_SCHEMA,\n",
      "    TABLE_NAME,\n",
      "    COLUMN_NAME,\n",
      "    DATA_TYPE\n",
      "FROM \n",
      "    INFORMATION_SCHEMA.COLUMNS\n",
      "WHERE \n",
      "    TABLE_NAME IN (SELECT TABLE_NAME FROM INFORMATION_SCHEMA.TABLES WHERE TABLE_TYPE = 'BASE TABLE')\n",
      "    and TABLE_NAME like 'dim_product' \n",
      "    or TABLE_NAME like 'fact_trans%' \n",
      "    \n",
      "\n",
      "2024-01-07 14:54:35,410 INFO sqlalchemy.engine.Engine [raw sql] ()\n"
     ]
    }
   ],
   "source": [
    "sql_query = '''\n",
    "SELECT \n",
    "    TABLE_SCHEMA,\n",
    "    TABLE_NAME,\n",
    "    COLUMN_NAME,\n",
    "    DATA_TYPE\n",
    "FROM \n",
    "    INFORMATION_SCHEMA.COLUMNS\n",
    "WHERE \n",
    "    TABLE_NAME IN (SELECT TABLE_NAME FROM INFORMATION_SCHEMA.TABLES WHERE TABLE_TYPE = 'BASE TABLE')\n",
    "    and TABLE_NAME like 'dim_product' \n",
    "    or TABLE_NAME like 'fact_trans%' \n",
    "    \n",
    "'''\n",
    "df = pd.read_sql(sql_query, engine)"
   ]
  },
  {
   "cell_type": "code",
   "execution_count": 9,
   "metadata": {},
   "outputs": [],
   "source": [
    "table_schema=df.loc[0][0]"
   ]
  },
  {
   "cell_type": "code",
   "execution_count": 71,
   "metadata": {},
   "outputs": [
    {
     "name": "stdout",
     "output_type": "stream",
     "text": [
      "dbo\n"
     ]
    }
   ],
   "source": [
    "print(table_schema)"
   ]
  },
  {
   "cell_type": "code",
   "execution_count": 10,
   "metadata": {},
   "outputs": [],
   "source": [
    "df=df.drop(columns=['TABLE_SCHEMA'])\n"
   ]
  },
  {
   "cell_type": "code",
   "execution_count": 11,
   "metadata": {},
   "outputs": [
    {
     "data": {
      "text/plain": [
       "Index(['TABLE_NAME', 'COLUMN_NAME', 'DATA_TYPE'], dtype='object')"
      ]
     },
     "execution_count": 11,
     "metadata": {},
     "output_type": "execute_result"
    }
   ],
   "source": [
    "df.columns"
   ]
  },
  {
   "cell_type": "code",
   "execution_count": 12,
   "metadata": {},
   "outputs": [
    {
     "data": {
      "text/plain": [
       "[{'TABLE_NAME': 'fact_transactions',\n",
       "  'COLUMN_NAME': 'OrderDateTime',\n",
       "  'DATA_TYPE': 'datetime2'},\n",
       " {'TABLE_NAME': 'fact_transactions',\n",
       "  'COLUMN_NAME': 'user_id',\n",
       "  'DATA_TYPE': 'int'},\n",
       " {'TABLE_NAME': 'fact_transactions',\n",
       "  'COLUMN_NAME': 'order_id',\n",
       "  'DATA_TYPE': 'int'},\n",
       " {'TABLE_NAME': 'fact_transactions',\n",
       "  'COLUMN_NAME': 'store_id',\n",
       "  'DATA_TYPE': 'int'},\n",
       " {'TABLE_NAME': 'fact_transactions',\n",
       "  'COLUMN_NAME': 'payment_method_id',\n",
       "  'DATA_TYPE': 'int'},\n",
       " {'TABLE_NAME': 'fact_transactions',\n",
       "  'COLUMN_NAME': 'bank_id',\n",
       "  'DATA_TYPE': 'int'},\n",
       " {'TABLE_NAME': 'fact_transactions',\n",
       "  'COLUMN_NAME': 'product_id',\n",
       "  'DATA_TYPE': 'int'},\n",
       " {'TABLE_NAME': 'fact_transactions', 'COLUMN_NAME': 'qty', 'DATA_TYPE': 'int'},\n",
       " {'TABLE_NAME': 'fact_transactions',\n",
       "  'COLUMN_NAME': 'cost',\n",
       "  'DATA_TYPE': 'float'},\n",
       " {'TABLE_NAME': 'fact_transactions',\n",
       "  'COLUMN_NAME': 'coupon_code',\n",
       "  'DATA_TYPE': 'varchar'},\n",
       " {'TABLE_NAME': 'fact_transactions',\n",
       "  'COLUMN_NAME': 'fees',\n",
       "  'DATA_TYPE': 'float'},\n",
       " {'TABLE_NAME': 'fact_transactions',\n",
       "  'COLUMN_NAME': 'amount',\n",
       "  'DATA_TYPE': 'float'},\n",
       " {'TABLE_NAME': 'fact_transactions',\n",
       "  'COLUMN_NAME': 'total_amount',\n",
       "  'DATA_TYPE': 'float'},\n",
       " {'TABLE_NAME': 'fact_transactions', 'COLUMN_NAME': 'id', 'DATA_TYPE': 'int'},\n",
       " {'TABLE_NAME': 'fact_transactions',\n",
       "  'COLUMN_NAME': 'coupon_discount',\n",
       "  'DATA_TYPE': 'float'},\n",
       " {'TABLE_NAME': 'fact_transactions',\n",
       "  'COLUMN_NAME': 'time',\n",
       "  'DATA_TYPE': 'int'},\n",
       " {'TABLE_NAME': 'fact_transactions',\n",
       "  'COLUMN_NAME': 'OrderTimeKey',\n",
       "  'DATA_TYPE': 'varchar'},\n",
       " {'TABLE_NAME': 'fact_transactions',\n",
       "  'COLUMN_NAME': 'Hour',\n",
       "  'DATA_TYPE': 'int'}]"
      ]
     },
     "execution_count": 12,
     "metadata": {},
     "output_type": "execute_result"
    }
   ],
   "source": [
    "df_dict = df.to_dict(orient='records')\n",
    "df_dict"
   ]
  },
  {
   "cell_type": "code",
   "execution_count": 75,
   "metadata": {},
   "outputs": [
    {
     "name": "stdout",
     "output_type": "stream",
     "text": [
      "fact_transactions\n"
     ]
    }
   ],
   "source": [
    "unique_table_names = set(entry['TABLE_NAME'] for entry in df_dict)\n",
    "\n",
    "# Display unique table names\n",
    "for table_name in unique_table_names:\n",
    "    print(table_name)\n"
   ]
  },
  {
   "cell_type": "code",
   "execution_count": 66,
   "metadata": {},
   "outputs": [],
   "source": [
    "openai.api_type = \"azure\"\n",
    "openai.api_base = \"https://like-card-test.openai.azure.com/\"\n",
    "openai.api_version = \"2023-07-01-preview\"\n",
    "openai.api_key = \"85889c7998dd4adb9a4c89abe56b1242\" \n",
    "openai.azure_endpoint=\"https://like-card-test.openai.azure.com/openai/deployments/gpt-35-turbo-instruct/chat/completions?api-version=2023-07-01-preview\""
   ]
  },
  {
   "cell_type": "code",
   "execution_count": 77,
   "metadata": {},
   "outputs": [],
   "source": [
    "query = None\n",
    "def generate_sql_query(dictionary, text, table_schema):\n",
    "    prompt = \"\"\"You are a SQL query writer capable of generating concise SQL server queries. \n",
    "    Provide a natural language input text, and I will generate the corresponding SQL query using only function calls and parentheses. \n",
    "    Replace descriptive words with SQL functions, for example, replace DATE_SUB(CURRENT_DATE(), INTERVAL 1 DAY) with DATE_SUB(CURRENT_DATE(), 1).\n",
    "    The tables, columns, and data types are specified in this dictionary: {}.\n",
    "    The tables follow the schema: {}.\n",
    "    Input: {} SQL Query (without descriptive words).\n",
    "    Note: You have multiple tables, so join the necessary tables as needed.\n",
    "    \"\"\".format(dictionary, table_schema, text)\n",
    "\n",
    "    request = openai.ChatCompletion.create(\n",
    "        engine=\"gpt-35-turbo-instruct\",\n",
    "        messages=[\n",
    "            {\"role\": \"user\", \"content\": prompt},\n",
    "        ]\n",
    "    )\n",
    "    global query\n",
    "    query = request.choices[0].message.content\n",
    "    return query\n"
   ]
  },
  {
   "cell_type": "code",
   "execution_count": 78,
   "metadata": {},
   "outputs": [],
   "source": [
    "def executeSQLquery(df_dict,text,table_schema ,max_retries):\n",
    "    retry_count = 0\n",
    "    \n",
    "    while retry_count < max_retries:\n",
    "        try:\n",
    "            query = generate_sql_query(df_dict,text,table_schema)\n",
    "            result = pd.read_sql(query,engine)\n",
    "            return result\n",
    "        except Exception as e:\n",
    "            print(f\"Error executing query: {e}\")\n",
    "            retry_count += 1\n",
    "            if retry_count < max_retries:\n",
    "                print(f\"Retrying... (Attempt {retry_count}/{max_retries})\")\n",
    "            else:\n",
    "                print(\"Max retry attempts reached. Exiting.\")\n",
    "                raise"
   ]
  },
  {
   "cell_type": "code",
   "execution_count": null,
   "metadata": {},
   "outputs": [],
   "source": []
  },
  {
   "cell_type": "code",
   "execution_count": 123,
   "metadata": {},
   "outputs": [
    {
     "name": "stdout",
     "output_type": "stream",
     "text": [
      "2024-01-08 15:23:40,817 INFO sqlalchemy.engine.Engine SELECT [INFORMATION_SCHEMA].[TABLES].[TABLE_NAME] \n",
      "FROM [INFORMATION_SCHEMA].[TABLES] \n",
      "WHERE [INFORMATION_SCHEMA].[TABLES].[TABLE_TYPE] = CAST(? AS NVARCHAR(max)) AND [INFORMATION_SCHEMA].[TABLES].[TABLE_NAME] = CAST(? AS NVARCHAR(max)) AND [INFORMATION_SCHEMA].[TABLES].[TABLE_SCHEMA] = CAST(? AS NVARCHAR(max))\n",
      "2024-01-08 15:23:40,818 INFO sqlalchemy.engine.Engine [cached since 8.816e+04s ago] ('BASE TABLE', 'SELECT MONTH(OrderDateTime) AS Month, SUM(total_amount) AS Sales\\nFROM dbo.fact_transactions\\nWHERE YEAR(OrderDateTime) = 2023\\nGROUP BY MONTH(OrderDateTime)', 'dbo')\n",
      "2024-01-08 15:23:41,306 INFO sqlalchemy.engine.Engine SELECT MONTH(OrderDateTime) AS Month, SUM(total_amount) AS Sales\n",
      "FROM dbo.fact_transactions\n",
      "WHERE YEAR(OrderDateTime) = 2023\n",
      "GROUP BY MONTH(OrderDateTime)\n",
      "2024-01-08 15:23:41,306 INFO sqlalchemy.engine.Engine [raw sql] ()\n"
     ]
    }
   ],
   "source": [
    "def get_result_prompt(question,query,df_dict,table_schema,queryResult):\n",
    "\n",
    "    prompt = \"\"\"I want you to answer the input question based on the table schema ,\n",
    "    column name , column data type,input sql query where you can join between tables,\n",
    "    if the input result is empty then return the output as 'No data found', You should not tell about sql query and tables in the result, \n",
    "    If something wrong then return 'Try it in another way'. tables schema are: {}, input SQL is: {}, query result is :{}\n",
    "    and the input question is: {}. The output should be in natural language text.\"\"\".format(table_schema,query,queryResult,question)\n",
    "    return prompt\n",
    "text = 'what is the sales each month in 2023'\n",
    "queryResult = executeSQLquery(df_dict,text,table_schema ,6)\n",
    "result_prompt = get_result_prompt(text,query,df_dict,table_schema,queryResult)"
   ]
  },
  {
   "cell_type": "code",
   "execution_count": 126,
   "metadata": {},
   "outputs": [
    {
     "name": "stdout",
     "output_type": "stream",
     "text": [
      "The sales for each month in 2023 are as follows: In January, the sales amount is 1.325141e+08. In February, the sales amount is 1.225139e+08. In March, the sales amount is 1.522550e+08. In April, the sales amount is 1.695416e+08. In May, the sales amount is 1.517466e+08. In June, the sales amount is 1.544576e+08. In July, the sales amount is 1.521484e+08. In August, the sales amount is 1.653634e+08. In September, the sales amount is 1.809858e+08. In October, the sales amount is 1.901022e+08. In November, the sales amount is 1.952215e+08. And in December, the sales amount is 1.721561e+08.\n"
     ]
    }
   ],
   "source": [
    "request = openai.ChatCompletion.create(\n",
    "        engine=\"gpt-35-turbo\",\n",
    "        messages=[\n",
    "            {\"role\": \"user\", \"content\": result_prompt},\n",
    "        ]\n",
    "    )\n",
    "answer = request.choices[0].message.content\n",
    "print(answer)"
   ]
  },
  {
   "cell_type": "code",
   "execution_count": 136,
   "metadata": {},
   "outputs": [
    {
     "data": {
      "text/plain": [
       "'```python\\nimport pandas as pd\\nimport matplotlib.pyplot as plt\\n\\n# Input SQL query result\\ndata = {\\n    \\'Month\\': [1, 11, 3, 4, 5, 9, 12, 2, 8, 6, 10, 7],\\n    \\'Sales\\': [1.325141e+08, 1.952215e+08, 1.522550e+08, 1.695416e+08, 1.517466e+08, \\n              1.809858e+08, 1.721561e+08, 1.225139e+08, 1.653634e+08, 1.544576e+08,\\n              1.901022e+08, 1.521484e+08]\\n}\\n\\n# Create a pandas DataFrame\\ndf = pd.DataFrame(data)\\n\\n# Check if the DataFrame is empty\\nif df.empty:\\n    print(\"No data found.\")\\nelse:\\n    # Sort the DataFrame by Month\\n    df = df.sort_values(\\'Month\\', ascending=True)\\n\\n    # Plot the sales each month\\n    plt.plot(df[\\'Month\\'], df[\\'Sales\\'], marker=\\'o\\')\\n    plt.xlabel(\\'Month\\')\\n    plt.ylabel(\\'Sales\\')\\n    plt.title(\\'Sales Each Month in 2023\\')\\n    plt.show()\\n```'"
      ]
     },
     "execution_count": 136,
     "metadata": {},
     "output_type": "execute_result"
    }
   ],
   "source": [
    "def graph(question,query,df_dict,table_schema,queryResult):\n",
    "\n",
    "    prompt = \"\"\"**Task:** Write Python code using pandas and matplotlib to generate the graph based on the provided data.\n",
    "\n",
    "**Context:**\n",
    "- Table schema: {}\n",
    "- Input SQL query (with potential joins): {}\n",
    "- Query result: {}\n",
    "- Input question: {}\n",
    "\n",
    "**Requirements:**\n",
    "- Handle empty results with \"No data found.\"\n",
    "- Gracefully handle errors with \"Try it in another way.\"\n",
    "\n",
    "**Example:**\n",
    "> ```python\n",
    "> import pandas as pd\n",
    "> import matplotlib.pyplot as plt\n",
    "> \n",
    "> # Example code using pandas and matplotlib with no comments\n",
    "> # ...\n",
    "> ```\n",
    "\"\"\".format(table_schema, query, queryResult, question)\n",
    "\n",
    "\n",
    "    request = openai.ChatCompletion.create(\n",
    "        engine=\"gpt-35-turbo\",\n",
    "        messages=[\n",
    "            {\"role\": \"user\", \"content\": prompt},\n",
    "        ]\n",
    "    )\n",
    "    answer = request.choices[0].message.content\n",
    "    return answer\n",
    "graph_code = graph(text,query,df_dict,table_schema,queryResult)\n",
    "graph_code"
   ]
  },
  {
   "cell_type": "code",
   "execution_count": 138,
   "metadata": {},
   "outputs": [
    {
     "data": {
      "image/png": "[encoded data removed]",
      "text/plain": [
       "<Figure size 1200x600 with 1 Axes>"
      ]
     },
     "metadata": {},
     "output_type": "display_data"
    }
   ],
   "source": [
    "import pandas as pd\n",
    "import matplotlib.pyplot as plt\n",
    "data = {'Month': [1, 2,3,4,5,6,7,8,9,10,11,12],\n",
    "              'Sales': [1.325141e+08, 1.952215e+08, 1.522550e+08, 1.695416e+08, 1.517466e+08, \n",
    "                        1.809858e+08, 1.721561e+08, 1.225139e+08, 1.653634e+08, 1.544576e+08,\n",
    "                         1.901022e+08, 1.521484e+08]}\n",
    "df = pd.DataFrame(data)\n",
    "if df.empty:\n",
    "        print(\"No data found.\")\n",
    "else:  \n",
    "    plt.figure(figsize=(12, 6))    \n",
    "    plt.plot(df['Month'], df['Sales'])\n",
    "    plt.xlabel('Month')  \n",
    "    plt.ylabel('Sales')    \n",
    "    plt.title('Sales each month in 2023')  \n",
    "    plt.show()"
   ]
  },
  {
   "cell_type": "code",
   "execution_count": null,
   "metadata": {},
   "outputs": [],
   "source": []
  }
 ],
 "metadata": {
  "kernelspec": {
   "display_name": "Python 3",
   "language": "python",
   "name": "python3"
  },
  "language_info": {
   "codemirror_mode": {
    "name": "ipython",
    "version": 3
   },
   "file_extension": ".py",
   "mimetype": "text/x-python",
   "name": "python",
   "nbconvert_exporter": "python",
   "pygments_lexer": "ipython3",
   "version": "3.11.5"
  }
 },
 "nbformat": 4,
 "nbformat_minor": 2
}
