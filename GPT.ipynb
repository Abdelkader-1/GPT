{
 "cells": [
  {
   "cell_type": "markdown",
   "metadata": {},
   "source": [
    "## Imports"
   ]
  },
  {
   "cell_type": "code",
   "execution_count": 1,
   "metadata": {},
   "outputs": [],
   "source": [
    "import pandas as pd\n",
    "import sqlalchemy as sa\n",
    "import sqlite3\n",
    "import openai\n",
    "import pyodbc\n",
    "import pypyodbc as odbc"
   ]
  },
  {
   "cell_type": "markdown",
   "metadata": {},
   "source": [
    "## Database credentials"
   ]
  },
  {
   "cell_type": "code",
   "execution_count": 3,
   "metadata": {},
   "outputs": [
    {
     "data": {
      "text/plain": [
       "\"'\\nserver='like4.database.windows.net'\\ndatabase='like'\\nconnection_string='Driver={ODBC Driver 18 for SQL Server};Server=tcp:like4.database.windows.net,1433;Database=like;Uid=CloudSA42bee827;Pwd={XP2U@X3R5EOQ23};Encrypt=yes;TrustServerCertificate=no;Connection Timeout=30;'\\nconn=odbc.connect(connection_string)\\n\""
      ]
     },
     "execution_count": 3,
     "metadata": {},
     "output_type": "execute_result"
    }
   ],
   "source": [
    "''''\n",
    "server='like4.database.windows.net'\n",
    "database='like'\n",
    "connection_string='Driver={ODBC Driver 18 for SQL Server};Server=tcp:like4.database.windows.net,1433;Database=like;Uid=CloudSA42bee827;Pwd={XP2U@X3R5EOQ23};Encrypt=yes;TrustServerCertificate=no;Connection Timeout=30;'\n",
    "conn=odbc.connect(connection_string)\n",
    "'''"
   ]
  },
  {
   "cell_type": "code",
   "execution_count": 4,
   "metadata": {},
   "outputs": [
    {
     "data": {
      "text/plain": [
       "'\\ncursor=conn.cursor()\\ncursor.execute(sql)\\ndataset=cursor.fetchall()\\nprint(dataset)\\n'"
      ]
     },
     "execution_count": 4,
     "metadata": {},
     "output_type": "execute_result"
    }
   ],
   "source": [
    "''''\n",
    "sql=''' \n",
    "#SELECT count(user_id)\n",
    "#from dbo.Users \n",
    "'''\n",
    "cursor=conn.cursor()\n",
    "cursor.execute(sql)\n",
    "dataset=cursor.fetchall()\n",
    "print(dataset)\n",
    "'''"
   ]
  },
  {
   "cell_type": "markdown",
   "metadata": {},
   "source": [
    "## Connecting to the data warehouse"
   ]
  },
  {
   "cell_type": "code",
   "execution_count": 5,
   "metadata": {},
   "outputs": [],
   "source": [
    "server = 'anmx3c2yurjethctgyba6xtuaq-vkvbn7t4322edeguc3ufhjtjeu.datawarehouse.pbidedicated.windows.net'\n",
    "database = 'likeCard'\n",
    "driver='ODBC Driver 18 for SQL Server'\n",
    "user= 'a.talaat%40likecard.com' # use %40 inplace of @\n",
    "pass1='Lam56465' # use %40 inplace of @   \n",
    "\n",
    "# Create a connection string for SQL Server using Windows authentication\n",
    "connection_string = f'mssql+pyodbc://{user}:{pass1}@{server}/{database}?driver={driver}&Trusted_Connection=no&Authentication=ActiveDirectoryInteractive'"
   ]
  },
  {
   "cell_type": "code",
   "execution_count": 6,
   "metadata": {},
   "outputs": [],
   "source": [
    "engine = sa.create_engine(connection_string, echo=True, connect_args={'autocommit': True}, fast_executemany=True)\n"
   ]
  },
  {
   "cell_type": "markdown",
   "metadata": {},
   "source": [
    "## Data Preprocessing"
   ]
  },
  {
   "cell_type": "code",
   "execution_count": 7,
   "metadata": {},
   "outputs": [
    {
     "name": "stdout",
     "output_type": "stream",
     "text": [
      "2024-01-04 16:46:25,113 INFO sqlalchemy.engine.Engine SELECT CAST(SERVERPROPERTY('ProductVersion') AS VARCHAR)\n",
      "2024-01-04 16:46:25,113 INFO sqlalchemy.engine.Engine [raw sql] ()\n",
      "2024-01-04 16:46:25,351 INFO sqlalchemy.engine.Engine SELECT schema_name()\n",
      "2024-01-04 16:46:25,353 INFO sqlalchemy.engine.Engine [generated in 0.00116s] ()\n",
      "2024-01-04 16:46:25,829 INFO sqlalchemy.engine.Engine SELECT CAST('test max support' AS NVARCHAR(max))\n",
      "2024-01-04 16:46:25,830 INFO sqlalchemy.engine.Engine [generated in 0.00124s] ()\n",
      "2024-01-04 16:46:26,084 INFO sqlalchemy.engine.Engine SELECT [INFORMATION_SCHEMA].[TABLES].[TABLE_NAME] \n",
      "FROM [INFORMATION_SCHEMA].[TABLES] \n",
      "WHERE [INFORMATION_SCHEMA].[TABLES].[TABLE_TYPE] = CAST(? AS NVARCHAR(max)) AND [INFORMATION_SCHEMA].[TABLES].[TABLE_NAME] = CAST(? AS NVARCHAR(max)) AND [INFORMATION_SCHEMA].[TABLES].[TABLE_SCHEMA] = CAST(? AS NVARCHAR(max))\n",
      "2024-01-04 16:46:26,084 INFO sqlalchemy.engine.Engine [generated in 0.00102s] ('BASE TABLE', \"\\nSELECT \\n    TABLE_SCHEMA,\\n    TABLE_NAME,\\n    COLUMN_NAME,\\n    DATA_TYPE\\nFROM \\n    INFORMATION_SCHEMA.COLUMNS\\nWHERE \\n    TABLE_NAME IN (SEL ... (16 characters truncated) ... ROM INFORMATION_SCHEMA.TABLES WHERE TABLE_TYPE = 'BASE TABLE')\\n    and TABLE_NAME like 'dim_product' \\n    or TABLE_NAME like 'fact_trans%' \\n    \\n\", 'dbo')\n",
      "2024-01-04 16:46:26,563 INFO sqlalchemy.engine.Engine \n",
      "SELECT \n",
      "    TABLE_SCHEMA,\n",
      "    TABLE_NAME,\n",
      "    COLUMN_NAME,\n",
      "    DATA_TYPE\n",
      "FROM \n",
      "    INFORMATION_SCHEMA.COLUMNS\n",
      "WHERE \n",
      "    TABLE_NAME IN (SELECT TABLE_NAME FROM INFORMATION_SCHEMA.TABLES WHERE TABLE_TYPE = 'BASE TABLE')\n",
      "    and TABLE_NAME like 'dim_product' \n",
      "    or TABLE_NAME like 'fact_trans%' \n",
      "    \n",
      "\n",
      "2024-01-04 16:46:26,563 INFO sqlalchemy.engine.Engine [raw sql] ()\n"
     ]
    }
   ],
   "source": [
    "sql_query = '''\n",
    "SELECT \n",
    "    TABLE_SCHEMA,\n",
    "    TABLE_NAME,\n",
    "    COLUMN_NAME,\n",
    "    DATA_TYPE\n",
    "FROM \n",
    "    INFORMATION_SCHEMA.COLUMNS\n",
    "WHERE \n",
    "    TABLE_NAME IN (SELECT TABLE_NAME FROM INFORMATION_SCHEMA.TABLES WHERE TABLE_TYPE = 'BASE TABLE')\n",
    "    and TABLE_NAME like 'dim_product' \n",
    "    or TABLE_NAME like 'fact_trans%' \n",
    "    \n",
    "'''\n",
    "df = pd.read_sql(sql_query, engine)"
   ]
  },
  {
   "cell_type": "code",
   "execution_count": 8,
   "metadata": {},
   "outputs": [],
   "source": [
    "table_schema=df.loc[0][0]"
   ]
  },
  {
   "cell_type": "code",
   "execution_count": 9,
   "metadata": {},
   "outputs": [],
   "source": [
    "df=df.drop(columns=['TABLE_SCHEMA'])\n"
   ]
  },
  {
   "cell_type": "code",
   "execution_count": 10,
   "metadata": {},
   "outputs": [
    {
     "data": {
      "text/plain": [
       "Index(['TABLE_NAME', 'COLUMN_NAME', 'DATA_TYPE'], dtype='object')"
      ]
     },
     "execution_count": 10,
     "metadata": {},
     "output_type": "execute_result"
    }
   ],
   "source": [
    "df.columns"
   ]
  },
  {
   "cell_type": "code",
   "execution_count": 11,
   "metadata": {},
   "outputs": [
    {
     "data": {
      "text/plain": [
       "[{'TABLE_NAME': 'fact_transactions',\n",
       "  'COLUMN_NAME': 'OrderDateTime',\n",
       "  'DATA_TYPE': 'datetime2'},\n",
       " {'TABLE_NAME': 'fact_transactions',\n",
       "  'COLUMN_NAME': 'user_id',\n",
       "  'DATA_TYPE': 'int'},\n",
       " {'TABLE_NAME': 'fact_transactions',\n",
       "  'COLUMN_NAME': 'order_id',\n",
       "  'DATA_TYPE': 'int'},\n",
       " {'TABLE_NAME': 'fact_transactions',\n",
       "  'COLUMN_NAME': 'store_id',\n",
       "  'DATA_TYPE': 'int'},\n",
       " {'TABLE_NAME': 'fact_transactions',\n",
       "  'COLUMN_NAME': 'payment_method_id',\n",
       "  'DATA_TYPE': 'int'},\n",
       " {'TABLE_NAME': 'fact_transactions',\n",
       "  'COLUMN_NAME': 'bank_id',\n",
       "  'DATA_TYPE': 'int'},\n",
       " {'TABLE_NAME': 'fact_transactions',\n",
       "  'COLUMN_NAME': 'product_id',\n",
       "  'DATA_TYPE': 'int'},\n",
       " {'TABLE_NAME': 'fact_transactions', 'COLUMN_NAME': 'qty', 'DATA_TYPE': 'int'},\n",
       " {'TABLE_NAME': 'fact_transactions',\n",
       "  'COLUMN_NAME': 'cost',\n",
       "  'DATA_TYPE': 'float'},\n",
       " {'TABLE_NAME': 'fact_transactions',\n",
       "  'COLUMN_NAME': 'coupon_code',\n",
       "  'DATA_TYPE': 'varchar'},\n",
       " {'TABLE_NAME': 'fact_transactions',\n",
       "  'COLUMN_NAME': 'fees',\n",
       "  'DATA_TYPE': 'float'},\n",
       " {'TABLE_NAME': 'fact_transactions',\n",
       "  'COLUMN_NAME': 'amount',\n",
       "  'DATA_TYPE': 'float'},\n",
       " {'TABLE_NAME': 'fact_transactions',\n",
       "  'COLUMN_NAME': 'total_amount',\n",
       "  'DATA_TYPE': 'float'},\n",
       " {'TABLE_NAME': 'fact_transactions', 'COLUMN_NAME': 'id', 'DATA_TYPE': 'int'},\n",
       " {'TABLE_NAME': 'fact_transactions',\n",
       "  'COLUMN_NAME': 'coupon_discount',\n",
       "  'DATA_TYPE': 'float'},\n",
       " {'TABLE_NAME': 'fact_transactions',\n",
       "  'COLUMN_NAME': 'time',\n",
       "  'DATA_TYPE': 'int'},\n",
       " {'TABLE_NAME': 'fact_transactions',\n",
       "  'COLUMN_NAME': 'OrderTimeKey',\n",
       "  'DATA_TYPE': 'varchar'},\n",
       " {'TABLE_NAME': 'fact_transactions',\n",
       "  'COLUMN_NAME': 'Hour',\n",
       "  'DATA_TYPE': 'int'}]"
      ]
     },
     "execution_count": 11,
     "metadata": {},
     "output_type": "execute_result"
    }
   ],
   "source": [
    "df_dict = df.to_dict(orient='records')\n",
    "df_dict"
   ]
  },
  {
   "cell_type": "code",
   "execution_count": 12,
   "metadata": {},
   "outputs": [],
   "source": [
    "openai.api_type = \"azure\"\n",
    "openai.api_base = \"https://like-card-test.openai.azure.com/\"\n",
    "openai.api_version = \"2023-07-01-preview\"\n",
    "openai.api_key = \"85889c7998dd4adb9a4c89abe56b1242\"\n",
    "openai.azure_endpoint=\"https://like-card-test.openai.azure.com/openai/deployments/gpt-35-turbo/chat/completions?api-version=2023-07-01-preview\""
   ]
  },
  {
   "cell_type": "code",
   "execution_count": 13,
   "metadata": {},
   "outputs": [],
   "source": [
    "text = 'what is product name that has the most purchases'"
   ]
  },
  {
   "cell_type": "code",
   "execution_count": 15,
   "metadata": {},
   "outputs": [
    {
     "data": {
      "text/plain": [
       "'SELECT product.name\\nFROM fact_transactions\\nJOIN dim_products ON fact_transactions.product_id = dim_products.id\\nJOIN dim_time ON fact_transactions.OrderTimeKey = dim_time.OrderTimeKey\\nGROUP BY product.name\\nORDER BY SUM(fact_transactions.qty) DESC\\nLIMIT 1;'"
      ]
     },
     "execution_count": 15,
     "metadata": {},
     "output_type": "execute_result"
    }
   ],
   "source": [
    "def generate_sql_query(table_names,text,table_schema):\n",
    "    prompt = \"\"\"You are a ChatGPT language model that can generate concise  SQL server queries. Please provide a natural language input text and I will generate the corresponding SQL query **without using descriptive words only sql query** in function calls or expressions for example replace DATE_SUB(CURRENT_DATE(), INTERVAL 1 DAY) with DATE_SUB(CURRENT_DATE(),  1 ) . Use only function names and parentheses. the tables names , coulmns names and datatyps in this dictionary {}  and the tables schema is {} and Input: {} SQL Query (without descriptive words)  and note that you have multible tables so you can join the needed tables as needed:\"\"\".format(df_dict, table_schema, text)\n",
    "    request = openai.ChatCompletion.create(\n",
    "        engine=\"gpt-35-turbo\",\n",
    "        messages=[\n",
    "            {\"role\": \"user\", \"content\": prompt},\n",
    "        ]\n",
    "    )\n",
    "    query = request.choices[0].message.content\n",
    "    return query    \n",
    "query = generate_sql_query(df_dict,text,table_schema)\n",
    "query\n"
   ]
  },
  {
   "cell_type": "code",
   "execution_count": 16,
   "metadata": {},
   "outputs": [
    {
     "name": "stdout",
     "output_type": "stream",
     "text": [
      "SELECT product.name\n",
      "FROM fact_transactions\n",
      "JOIN dim_products ON fact_transactions.product_id = dim_products.id\n",
      "JOIN dim_time ON fact_transactions.OrderTimeKey = dim_time.OrderTimeKey\n",
      "GROUP BY product.name\n",
      "ORDER BY SUM(fact_transactions.qty) DESC\n",
      "LIMIT 1;\n"
     ]
    }
   ],
   "source": [
    "print(query)"
   ]
  },
  {
   "cell_type": "code",
   "execution_count": 24,
   "metadata": {},
   "outputs": [],
   "source": [
    "def executeSQLquery(table_name,text,schema_list ,max_retries):\n",
    "    retry_count = 0\n",
    "\n",
    "    while retry_count < max_retries:\n",
    "        try:\n",
    "            query = generate_sql_query(table_name,text,schema_list)\n",
    "            result = pd.read_sql(query,engine)\n",
    "            return result\n",
    "        except Exception as e:\n",
    "            print(f\"Error executing query: {e}\")\n",
    "            retry_count += 1\n",
    "            if retry_count < max_retries:\n",
    "                print(f\"Retrying... (Attempt {retry_count}/{max_retries})\")\n",
    "            else:\n",
    "                print(\"Max retry attempts reached. Exiting.\")\n",
    "                raise"
   ]
  },
  {
   "cell_type": "code",
   "execution_count": 25,
   "metadata": {},
   "outputs": [
    {
     "name": "stdout",
     "output_type": "stream",
     "text": [
      "2024-01-04 16:58:39,696 INFO sqlalchemy.engine.Engine SELECT [INFORMATION_SCHEMA].[TABLES].[TABLE_NAME] \n",
      "FROM [INFORMATION_SCHEMA].[TABLES] \n",
      "WHERE [INFORMATION_SCHEMA].[TABLES].[TABLE_TYPE] = CAST(? AS NVARCHAR(max)) AND [INFORMATION_SCHEMA].[TABLES].[TABLE_NAME] = CAST(? AS NVARCHAR(max)) AND [INFORMATION_SCHEMA].[TABLES].[TABLE_SCHEMA] = CAST(? AS NVARCHAR(max))\n",
      "2024-01-04 16:58:39,697 INFO sqlalchemy.engine.Engine [cached since 733.6s ago] ('BASE TABLE', 'SELECT TOP 1 product_name \\nFROM fact_transactions \\nJOIN dim_product \\nON fact_transactions.product_id = dim_product.id \\nGROUP BY product_name \\nORDER BY SUM(qty) DESC', 'dbo')\n",
      "2024-01-04 16:58:40,200 INFO sqlalchemy.engine.Engine SELECT TOP 1 product_name \n",
      "FROM fact_transactions \n",
      "JOIN dim_product \n",
      "ON fact_transactions.product_id = dim_product.id \n",
      "GROUP BY product_name \n",
      "ORDER BY SUM(qty) DESC\n",
      "2024-01-04 16:58:40,200 INFO sqlalchemy.engine.Engine [raw sql] ()\n",
      "2024-01-04 16:58:40,432 INFO sqlalchemy.engine.Engine ROLLBACK\n",
      "Error executing query: (pyodbc.ProgrammingError) ('42S02', \"[42S02] [Microsoft][ODBC Driver 18 for SQL Server][SQL Server]Invalid object name 'dim_product'. (208) (SQLExecDirectW)\")\n",
      "[SQL: SELECT TOP 1 product_name \n",
      "FROM fact_transactions \n",
      "JOIN dim_product \n",
      "ON fact_transactions.product_id = dim_product.id \n",
      "GROUP BY product_name \n",
      "ORDER BY SUM(qty) DESC]\n",
      "(Background on this error at: https://sqlalche.me/e/14/f405)\n",
      "Retrying... (Attempt 1/10)\n",
      "2024-01-04 16:58:41,244 INFO sqlalchemy.engine.Engine SELECT [INFORMATION_SCHEMA].[TABLES].[TABLE_NAME] \n",
      "FROM [INFORMATION_SCHEMA].[TABLES] \n",
      "WHERE [INFORMATION_SCHEMA].[TABLES].[TABLE_TYPE] = CAST(? AS NVARCHAR(max)) AND [INFORMATION_SCHEMA].[TABLES].[TABLE_NAME] = CAST(? AS NVARCHAR(max)) AND [INFORMATION_SCHEMA].[TABLES].[TABLE_SCHEMA] = CAST(? AS NVARCHAR(max))\n",
      "2024-01-04 16:58:41,245 INFO sqlalchemy.engine.Engine [cached since 735.2s ago] ('BASE TABLE', 'SELECT TOP 1 products.product_name \\nFROM dbo.fact_transactions \\nINNER JOIN dbo.products ON products.product_id = fact_transactions.product_id \\nGROUP BY products.product_name \\nORDER BY SUM(fact_transactions.qty) DESC;', 'dbo')\n",
      "2024-01-04 16:58:41,700 INFO sqlalchemy.engine.Engine SELECT TOP 1 products.product_name \n",
      "FROM dbo.fact_transactions \n",
      "INNER JOIN dbo.products ON products.product_id = fact_transactions.product_id \n",
      "GROUP BY products.product_name \n",
      "ORDER BY SUM(fact_transactions.qty) DESC;\n",
      "2024-01-04 16:58:41,700 INFO sqlalchemy.engine.Engine [raw sql] ()\n",
      "2024-01-04 16:58:41,949 INFO sqlalchemy.engine.Engine ROLLBACK\n",
      "Error executing query: (pyodbc.ProgrammingError) ('42S02', \"[42S02] [Microsoft][ODBC Driver 18 for SQL Server][SQL Server]Invalid object name 'dbo.products'. (208) (SQLExecDirectW)\")\n",
      "[SQL: SELECT TOP 1 products.product_name \n",
      "FROM dbo.fact_transactions \n",
      "INNER JOIN dbo.products ON products.product_id = fact_transactions.product_id \n",
      "GROUP BY products.product_name \n",
      "ORDER BY SUM(fact_transactions.qty) DESC;]\n",
      "(Background on this error at: https://sqlalche.me/e/14/f405)\n",
      "Retrying... (Attempt 2/10)\n",
      "2024-01-04 16:58:42,567 INFO sqlalchemy.engine.Engine SELECT [INFORMATION_SCHEMA].[TABLES].[TABLE_NAME] \n",
      "FROM [INFORMATION_SCHEMA].[TABLES] \n",
      "WHERE [INFORMATION_SCHEMA].[TABLES].[TABLE_TYPE] = CAST(? AS NVARCHAR(max)) AND [INFORMATION_SCHEMA].[TABLES].[TABLE_NAME] = CAST(? AS NVARCHAR(max)) AND [INFORMATION_SCHEMA].[TABLES].[TABLE_SCHEMA] = CAST(? AS NVARCHAR(max))\n",
      "2024-01-04 16:58:42,567 INFO sqlalchemy.engine.Engine [cached since 736.5s ago] ('BASE TABLE', 'SELECT TOP 1 product_name \\nFROM fact_transactions \\nJOIN dim_products ON fact_transactions.product_id = dim_products.id \\nGROUP BY product_name \\nORDER BY SUM(qty) DESC', 'dbo')\n",
      "2024-01-04 16:58:43,027 INFO sqlalchemy.engine.Engine SELECT TOP 1 product_name \n",
      "FROM fact_transactions \n",
      "JOIN dim_products ON fact_transactions.product_id = dim_products.id \n",
      "GROUP BY product_name \n",
      "ORDER BY SUM(qty) DESC\n",
      "2024-01-04 16:58:43,028 INFO sqlalchemy.engine.Engine [raw sql] ()\n",
      "2024-01-04 16:58:43,266 INFO sqlalchemy.engine.Engine ROLLBACK\n",
      "Error executing query: (pyodbc.ProgrammingError) ('42S22', \"[42S22] [Microsoft][ODBC Driver 18 for SQL Server][SQL Server]Invalid column name 'id'. (207) (SQLExecDirectW)\")\n",
      "[SQL: SELECT TOP 1 product_name \n",
      "FROM fact_transactions \n",
      "JOIN dim_products ON fact_transactions.product_id = dim_products.id \n",
      "GROUP BY product_name \n",
      "ORDER BY SUM(qty) DESC]\n",
      "(Background on this error at: https://sqlalche.me/e/14/f405)\n",
      "Retrying... (Attempt 3/10)\n",
      "2024-01-04 16:58:44,000 INFO sqlalchemy.engine.Engine SELECT [INFORMATION_SCHEMA].[TABLES].[TABLE_NAME] \n",
      "FROM [INFORMATION_SCHEMA].[TABLES] \n",
      "WHERE [INFORMATION_SCHEMA].[TABLES].[TABLE_TYPE] = CAST(? AS NVARCHAR(max)) AND [INFORMATION_SCHEMA].[TABLES].[TABLE_NAME] = CAST(? AS NVARCHAR(max)) AND [INFORMATION_SCHEMA].[TABLES].[TABLE_SCHEMA] = CAST(? AS NVARCHAR(max))\n",
      "2024-01-04 16:58:44,000 INFO sqlalchemy.engine.Engine [cached since 737.9s ago] ('BASE TABLE', 'SELECT TOP 1 product_name \\nFROM fact_transactions \\nJOIN dim_products ON fact_transactions.product_id = dim_products.id \\nGROUP BY product_name \\nORDER BY SUM(qty) DESC', 'dbo')\n",
      "2024-01-04 16:58:44,466 INFO sqlalchemy.engine.Engine SELECT TOP 1 product_name \n",
      "FROM fact_transactions \n",
      "JOIN dim_products ON fact_transactions.product_id = dim_products.id \n",
      "GROUP BY product_name \n",
      "ORDER BY SUM(qty) DESC\n",
      "2024-01-04 16:58:44,466 INFO sqlalchemy.engine.Engine [raw sql] ()\n",
      "2024-01-04 16:58:44,699 INFO sqlalchemy.engine.Engine ROLLBACK\n",
      "Error executing query: (pyodbc.ProgrammingError) ('42S22', \"[42S22] [Microsoft][ODBC Driver 18 for SQL Server][SQL Server]Invalid column name 'id'. (207) (SQLExecDirectW)\")\n",
      "[SQL: SELECT TOP 1 product_name \n",
      "FROM fact_transactions \n",
      "JOIN dim_products ON fact_transactions.product_id = dim_products.id \n",
      "GROUP BY product_name \n",
      "ORDER BY SUM(qty) DESC]\n",
      "(Background on this error at: https://sqlalche.me/e/14/f405)\n",
      "Retrying... (Attempt 4/10)\n",
      "2024-01-04 16:58:45,411 INFO sqlalchemy.engine.Engine SELECT [INFORMATION_SCHEMA].[TABLES].[TABLE_NAME] \n",
      "FROM [INFORMATION_SCHEMA].[TABLES] \n",
      "WHERE [INFORMATION_SCHEMA].[TABLES].[TABLE_TYPE] = CAST(? AS NVARCHAR(max)) AND [INFORMATION_SCHEMA].[TABLES].[TABLE_NAME] = CAST(? AS NVARCHAR(max)) AND [INFORMATION_SCHEMA].[TABLES].[TABLE_SCHEMA] = CAST(? AS NVARCHAR(max))\n",
      "2024-01-04 16:58:45,412 INFO sqlalchemy.engine.Engine [cached since 739.3s ago] ('BASE TABLE', 'SELECT TOP 1 product_name\\nFROM dbo.products\\nJOIN fact_transactions ON products.id = fact_transactions.product_id\\nGROUP BY product_name\\nORDER BY SUM(qty) DESC', 'dbo')\n",
      "2024-01-04 16:58:45,867 INFO sqlalchemy.engine.Engine SELECT TOP 1 product_name\n",
      "FROM dbo.products\n",
      "JOIN fact_transactions ON products.id = fact_transactions.product_id\n",
      "GROUP BY product_name\n",
      "ORDER BY SUM(qty) DESC\n",
      "2024-01-04 16:58:45,867 INFO sqlalchemy.engine.Engine [raw sql] ()\n",
      "2024-01-04 16:58:46,087 INFO sqlalchemy.engine.Engine ROLLBACK\n",
      "Error executing query: (pyodbc.ProgrammingError) ('42S02', \"[42S02] [Microsoft][ODBC Driver 18 for SQL Server][SQL Server]Invalid object name 'dbo.products'. (208) (SQLExecDirectW)\")\n",
      "[SQL: SELECT TOP 1 product_name\n",
      "FROM dbo.products\n",
      "JOIN fact_transactions ON products.id = fact_transactions.product_id\n",
      "GROUP BY product_name\n",
      "ORDER BY SUM(qty) DESC]\n",
      "(Background on this error at: https://sqlalche.me/e/14/f405)\n",
      "Retrying... (Attempt 5/10)\n",
      "2024-01-04 16:58:46,966 INFO sqlalchemy.engine.Engine SELECT [INFORMATION_SCHEMA].[TABLES].[TABLE_NAME] \n",
      "FROM [INFORMATION_SCHEMA].[TABLES] \n",
      "WHERE [INFORMATION_SCHEMA].[TABLES].[TABLE_TYPE] = CAST(? AS NVARCHAR(max)) AND [INFORMATION_SCHEMA].[TABLES].[TABLE_NAME] = CAST(? AS NVARCHAR(max)) AND [INFORMATION_SCHEMA].[TABLES].[TABLE_SCHEMA] = CAST(? AS NVARCHAR(max))\n",
      "2024-01-04 16:58:46,966 INFO sqlalchemy.engine.Engine [cached since 740.9s ago] ('BASE TABLE', 'SELECT TOP 1 product_name FROM (\\nSELECT product_id, SUM(qty) as total_qty\\nFROM dbo.fact_transactions\\nGROUP BY product_id\\n) as t1\\nINNER JOIN dbo.dim_products AS t2 ON t1.product_id = t2.id\\nORDER BY total_qty DESC', 'dbo')\n",
      "2024-01-04 16:58:47,466 INFO sqlalchemy.engine.Engine SELECT TOP 1 product_name FROM (\n",
      "SELECT product_id, SUM(qty) as total_qty\n",
      "FROM dbo.fact_transactions\n",
      "GROUP BY product_id\n",
      ") as t1\n",
      "INNER JOIN dbo.dim_products AS t2 ON t1.product_id = t2.id\n",
      "ORDER BY total_qty DESC\n",
      "2024-01-04 16:58:47,467 INFO sqlalchemy.engine.Engine [raw sql] ()\n",
      "2024-01-04 16:58:47,719 INFO sqlalchemy.engine.Engine ROLLBACK\n",
      "Error executing query: (pyodbc.ProgrammingError) ('42S22', \"[42S22] [Microsoft][ODBC Driver 18 for SQL Server][SQL Server]Invalid column name 'id'. (207) (SQLExecDirectW)\")\n",
      "[SQL: SELECT TOP 1 product_name FROM (\n",
      "SELECT product_id, SUM(qty) as total_qty\n",
      "FROM dbo.fact_transactions\n",
      "GROUP BY product_id\n",
      ") as t1\n",
      "INNER JOIN dbo.dim_products AS t2 ON t1.product_id = t2.id\n",
      "ORDER BY total_qty DESC]\n",
      "(Background on this error at: https://sqlalche.me/e/14/f405)\n",
      "Retrying... (Attempt 6/10)\n",
      "2024-01-04 16:58:48,369 INFO sqlalchemy.engine.Engine SELECT [INFORMATION_SCHEMA].[TABLES].[TABLE_NAME] \n",
      "FROM [INFORMATION_SCHEMA].[TABLES] \n",
      "WHERE [INFORMATION_SCHEMA].[TABLES].[TABLE_TYPE] = CAST(? AS NVARCHAR(max)) AND [INFORMATION_SCHEMA].[TABLES].[TABLE_NAME] = CAST(? AS NVARCHAR(max)) AND [INFORMATION_SCHEMA].[TABLES].[TABLE_SCHEMA] = CAST(? AS NVARCHAR(max))\n",
      "2024-01-04 16:58:48,369 INFO sqlalchemy.engine.Engine [cached since 742.3s ago] ('BASE TABLE', 'SELECT TOP 1 product_id, SUM(qty) \\nFROM dbo.fact_transactions \\nGROUP BY product_id \\nORDER BY SUM(qty) DESC', 'dbo')\n",
      "2024-01-04 16:58:48,884 INFO sqlalchemy.engine.Engine SELECT TOP 1 product_id, SUM(qty) \n",
      "FROM dbo.fact_transactions \n",
      "GROUP BY product_id \n",
      "ORDER BY SUM(qty) DESC\n",
      "2024-01-04 16:58:48,884 INFO sqlalchemy.engine.Engine [raw sql] ()\n"
     ]
    },
    {
     "data": {
      "text/html": [
       "<div>\n",
       "<style scoped>\n",
       "    .dataframe tbody tr th:only-of-type {\n",
       "        vertical-align: middle;\n",
       "    }\n",
       "\n",
       "    .dataframe tbody tr th {\n",
       "        vertical-align: top;\n",
       "    }\n",
       "\n",
       "    .dataframe thead th {\n",
       "        text-align: right;\n",
       "    }\n",
       "</style>\n",
       "<table border=\"1\" class=\"dataframe\">\n",
       "  <thead>\n",
       "    <tr style=\"text-align: right;\">\n",
       "      <th></th>\n",
       "      <th>product_id</th>\n",
       "      <th></th>\n",
       "    </tr>\n",
       "  </thead>\n",
       "  <tbody>\n",
       "    <tr>\n",
       "      <th>0</th>\n",
       "      <td>1698</td>\n",
       "      <td>2492990</td>\n",
       "    </tr>\n",
       "  </tbody>\n",
       "</table>\n",
       "</div>"
      ],
      "text/plain": [
       "   product_id         \n",
       "0        1698  2492990"
      ]
     },
     "execution_count": 25,
     "metadata": {},
     "output_type": "execute_result"
    }
   ],
   "source": [
    "result = executeSQLquery(df_dict,text,table_schema,10)\n",
    "result"
   ]
  },
  {
   "cell_type": "code",
   "execution_count": 31,
   "metadata": {},
   "outputs": [
    {
     "name": "stdout",
     "output_type": "stream",
     "text": [
      "2024-01-04 17:10:37,339 INFO sqlalchemy.engine.Engine SELECT [INFORMATION_SCHEMA].[TABLES].[TABLE_NAME] \n",
      "FROM [INFORMATION_SCHEMA].[TABLES] \n",
      "WHERE [INFORMATION_SCHEMA].[TABLES].[TABLE_TYPE] = CAST(? AS NVARCHAR(max)) AND [INFORMATION_SCHEMA].[TABLES].[TABLE_NAME] = CAST(? AS NVARCHAR(max)) AND [INFORMATION_SCHEMA].[TABLES].[TABLE_SCHEMA] = CAST(? AS NVARCHAR(max))\n",
      "2024-01-04 17:10:37,340 INFO sqlalchemy.engine.Engine [cached since 1451s ago] ('BASE TABLE', 'SELECT product_name \\nFROM dim_products\\nINNER JOIN fact_transactions ON dim_products.product_id = fact_transactions.product_id\\nGROUP BY product_name\\nORDER BY SUM(qty) DESC\\nLIMIT 1;', 'dbo')\n",
      "2024-01-04 17:10:37,871 INFO sqlalchemy.engine.Engine SELECT product_name \n",
      "FROM dim_products\n",
      "INNER JOIN fact_transactions ON dim_products.product_id = fact_transactions.product_id\n",
      "GROUP BY product_name\n",
      "ORDER BY SUM(qty) DESC\n",
      "LIMIT 1;\n",
      "2024-01-04 17:10:37,871 INFO sqlalchemy.engine.Engine [raw sql] ()\n",
      "2024-01-04 17:10:38,136 INFO sqlalchemy.engine.Engine ROLLBACK\n",
      "Error executing query: (pyodbc.ProgrammingError) ('42000', \"[42000] [Microsoft][ODBC Driver 18 for SQL Server][SQL Server]Incorrect syntax near 'LIMIT'. (102) (SQLExecDirectW)\")\n",
      "[SQL: SELECT product_name \n",
      "FROM dim_products\n",
      "INNER JOIN fact_transactions ON dim_products.product_id = fact_transactions.product_id\n",
      "GROUP BY product_name\n",
      "ORDER BY SUM(qty) DESC\n",
      "LIMIT 1;]\n",
      "(Background on this error at: https://sqlalche.me/e/14/f405)\n",
      "Retrying... (Attempt 1/10)\n",
      "2024-01-04 17:10:38,829 INFO sqlalchemy.engine.Engine SELECT [INFORMATION_SCHEMA].[TABLES].[TABLE_NAME] \n",
      "FROM [INFORMATION_SCHEMA].[TABLES] \n",
      "WHERE [INFORMATION_SCHEMA].[TABLES].[TABLE_TYPE] = CAST(? AS NVARCHAR(max)) AND [INFORMATION_SCHEMA].[TABLES].[TABLE_NAME] = CAST(? AS NVARCHAR(max)) AND [INFORMATION_SCHEMA].[TABLES].[TABLE_SCHEMA] = CAST(? AS NVARCHAR(max))\n",
      "2024-01-04 17:10:38,836 INFO sqlalchemy.engine.Engine [cached since 1453s ago] ('BASE TABLE', 'SELECT \\n    TOP 1 \\n    prod.product_id \\nFROM \\n    dbo.fact_transactions AS trans \\n    INNER JOIN dbo.dim_products AS prod ON trans.product_id = prod.product_id \\nGROUP BY \\n    prod.product_id \\nORDER BY \\n    SUM(trans.qty) DESC', 'dbo')\n",
      "2024-01-04 17:10:39,371 INFO sqlalchemy.engine.Engine SELECT \n",
      "    TOP 1 \n",
      "    prod.product_id \n",
      "FROM \n",
      "    dbo.fact_transactions AS trans \n",
      "    INNER JOIN dbo.dim_products AS prod ON trans.product_id = prod.product_id \n",
      "GROUP BY \n",
      "    prod.product_id \n",
      "ORDER BY \n",
      "    SUM(trans.qty) DESC\n",
      "2024-01-04 17:10:39,371 INFO sqlalchemy.engine.Engine [raw sql] ()\n"
     ]
    }
   ],
   "source": [
    "def get_result_prompt(question,query,df_dict,text,table_schema):\n",
    "\n",
    "    values = executeSQLquery(df_dict,text,table_schema,10)\n",
    "    prompt = \"\"\"I want you to answer the input question based on the table schema ,column name , column data type,input sql query where you can join between tables and it's result, if the input result is empty then return the output as 'No data found', You should not tell about sql query and tables in the result, If something wrong then return 'Try it in another way'. tables schema are: {}, input SQL is: {}, input result is :{} and the input question is: {}. The output should be in natural language text.\"\"\".format(table_schema,query,values,question)\n",
    "    return prompt\n",
    "result_prompt = get_result_prompt(text,query,df_dict,text,table_schema)"
   ]
  },
  {
   "cell_type": "code",
   "execution_count": 32,
   "metadata": {},
   "outputs": [
    {
     "data": {
      "text/plain": [
       "'The product with the most purchases is named \"No data found\", as there is no information available in the input result. Please try running the SQL query again or using different parameters.'"
      ]
     },
     "execution_count": 32,
     "metadata": {},
     "output_type": "execute_result"
    }
   ],
   "source": [
    "request = openai.ChatCompletion.create(\n",
    "        engine=\"gpt-35-turbo\",\n",
    "        messages=[\n",
    "            {\"role\": \"user\", \"content\": result_prompt},\n",
    "        ]\n",
    "    )\n",
    "answer = request.choices[0].message.content\n",
    "answer"
   ]
  },
  {
   "cell_type": "code",
   "execution_count": null,
   "metadata": {},
   "outputs": [],
   "source": []
  }
 ],
 "metadata": {
  "kernelspec": {
   "display_name": "Python 3",
   "language": "python",
   "name": "python3"
  },
  "language_info": {
   "codemirror_mode": {
    "name": "ipython",
    "version": 3
   },
   "file_extension": ".py",
   "mimetype": "text/x-python",
   "name": "python",
   "nbconvert_exporter": "python",
   "pygments_lexer": "ipython3",
   "version": "3.11.5"
  }
 },
 "nbformat": 4,
 "nbformat_minor": 2
}
