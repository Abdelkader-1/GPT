{
 "cells": [
  {
   "cell_type": "code",
   "execution_count": 1,
   "metadata": {},
   "outputs": [],
   "source": [
    "import pandas as pd\n",
    "import sqlalchemy as sa\n",
    "import sqlite3\n",
    "import openai\n",
    "import pyodbc\n",
    "import pypyodbc as odbc"
   ]
  },
  {
   "cell_type": "code",
   "execution_count": 2,
   "metadata": {},
   "outputs": [
    {
     "data": {
      "text/plain": [
       "\"'\\nserver='like4.database.windows.net'\\ndatabase='like'\\nconnection_string='Driver={ODBC Driver 18 for SQL Server};Server=tcp:like4.database.windows.net,1433;Database=like;Uid=CloudSA42bee827;Pwd={XP2U@X3R5EOQ23};Encrypt=yes;TrustServerCertificate=no;Connection Timeout=30;'\\nconn=odbc.connect(connection_string)\\n\""
      ]
     },
     "execution_count": 2,
     "metadata": {},
     "output_type": "execute_result"
    }
   ],
   "source": [
    "''''\n",
    "server='like4.database.windows.net'\n",
    "database='like'\n",
    "connection_string='Driver={ODBC Driver 18 for SQL Server};Server=tcp:like4.database.windows.net,1433;Database=like;Uid=CloudSA42bee827;Pwd={XP2U@X3R5EOQ23};Encrypt=yes;TrustServerCertificate=no;Connection Timeout=30;'\n",
    "conn=odbc.connect(connection_string)\n",
    "'''"
   ]
  },
  {
   "cell_type": "code",
   "execution_count": 5,
   "metadata": {},
   "outputs": [
    {
     "data": {
      "text/plain": [
       "'\\ncursor=conn.cursor()\\ncursor.execute(sql)\\ndataset=cursor.fetchall()\\nprint(dataset)\\n'"
      ]
     },
     "execution_count": 5,
     "metadata": {},
     "output_type": "execute_result"
    }
   ],
   "source": [
    "''''\n",
    "sql=''' \n",
    "#SELECT count(user_id)\n",
    "#from dbo.Users\n",
    "'''\n",
    "cursor=conn.cursor()\n",
    "cursor.execute(sql)\n",
    "dataset=cursor.fetchall()\n",
    "print(dataset)\n",
    "'''"
   ]
  },
  {
   "cell_type": "code",
   "execution_count": 3,
   "metadata": {},
   "outputs": [],
   "source": [
    "server = 'anmx3c2yurjethctgyba6xtuaq-vkvbn7t4322edeguc3ufhjtjeu.datawarehouse.pbidedicated.windows.net'\n",
    "database = 'likeCard'\n",
    "driver='ODBC Driver 18 for SQL Server'\n",
    "user= 'm.abuhassan%40likecard.com' # use %40 inplace of @\n",
    "pass1='password' # use %40 inplace of @   \n",
    "\n",
    "# Create a connection string for SQL Server using Windows authentication\n",
    "connection_string = f'mssql+pyodbc://{user}:{pass1}@{server}/{database}?driver={driver}&Trusted_Connection=no&Authentication=ActiveDirectoryInteractive'"
   ]
  },
  {
   "cell_type": "code",
   "execution_count": 4,
   "metadata": {},
   "outputs": [],
   "source": [
    "engine = sa.create_engine(connection_string, echo=True, connect_args={'autocommit': True}, fast_executemany=True)\n"
   ]
  },
  {
   "cell_type": "code",
   "execution_count": 25,
   "metadata": {},
   "outputs": [
    {
     "name": "stdout",
     "output_type": "stream",
     "text": [
      "2024-01-04 15:16:34,533 INFO sqlalchemy.engine.Engine SELECT [INFORMATION_SCHEMA].[TABLES].[TABLE_NAME], [INFORMATION_SCHEMA].[TABLES].[TABLE_TYPE] \n",
      "FROM [INFORMATION_SCHEMA].[TABLES] \n",
      "WHERE [INFORMATION_SCHEMA].[TABLES].[TABLE_NAME] = CAST(? AS NVARCHAR(max)) AND [INFORMATION_SCHEMA].[TABLES].[TABLE_SCHEMA] = CAST(? AS NVARCHAR(max))\n",
      "2024-01-04 15:16:34,534 INFO sqlalchemy.engine.Engine [cached since 581.1s ago] (\"\\nSELECT \\n    TABLE_SCHEMA,\\n    TABLE_NAME,\\n    COLUMN_NAME,\\n    DATA_TYPE\\nFROM \\n    INFORMATION_SCHEMA.COLUMNS\\nWHERE \\n    TABLE_NAME IN (SEL ... (16 characters truncated) ... ROM INFORMATION_SCHEMA.TABLES WHERE TABLE_TYPE = 'BASE TABLE')\\n    and TABLE_NAME like 'dim_product' \\n    or TABLE_NAME like 'fact_trans%' \\n    \\n\", 'dbo')\n",
      "2024-01-04 15:16:35,108 INFO sqlalchemy.engine.Engine \n",
      "SELECT \n",
      "    TABLE_SCHEMA,\n",
      "    TABLE_NAME,\n",
      "    COLUMN_NAME,\n",
      "    DATA_TYPE\n",
      "FROM \n",
      "    INFORMATION_SCHEMA.COLUMNS\n",
      "WHERE \n",
      "    TABLE_NAME IN (SELECT TABLE_NAME FROM INFORMATION_SCHEMA.TABLES WHERE TABLE_TYPE = 'BASE TABLE')\n",
      "    and TABLE_NAME like 'dim_product' \n",
      "    or TABLE_NAME like 'fact_trans%' \n",
      "    \n",
      "\n",
      "2024-01-04 15:16:35,108 INFO sqlalchemy.engine.Engine [raw sql] ()\n"
     ]
    }
   ],
   "source": [
    "sql_query = '''\n",
    "SELECT \n",
    "    TABLE_SCHEMA,\n",
    "    TABLE_NAME,\n",
    "    COLUMN_NAME,\n",
    "    DATA_TYPE\n",
    "FROM \n",
    "    INFORMATION_SCHEMA.COLUMNS\n",
    "WHERE \n",
    "    TABLE_NAME IN (SELECT TABLE_NAME FROM INFORMATION_SCHEMA.TABLES WHERE TABLE_TYPE = 'BASE TABLE')\n",
    "    and TABLE_NAME like 'dim_product' \n",
    "    or TABLE_NAME like 'fact_trans%' \n",
    "    \n",
    "'''\n",
    "df = pd.read_sql(sql_query, engine)"
   ]
  },
  {
   "cell_type": "code",
   "execution_count": 26,
   "metadata": {},
   "outputs": [
    {
     "name": "stderr",
     "output_type": "stream",
     "text": [
      "C:\\Users\\moham\\AppData\\Local\\Temp\\ipykernel_8176\\1307101668.py:1: FutureWarning: Series.__getitem__ treating keys as positions is deprecated. In a future version, integer keys will always be treated as labels (consistent with DataFrame behavior). To access a value by position, use `ser.iloc[pos]`\n",
      "  table_schema=df.loc[0][0]\n"
     ]
    }
   ],
   "source": [
    "table_schema=df.loc[0][0]"
   ]
  },
  {
   "cell_type": "code",
   "execution_count": 27,
   "metadata": {},
   "outputs": [],
   "source": [
    "df=df.drop(columns=['TABLE_SCHEMA'])\n"
   ]
  },
  {
   "cell_type": "code",
   "execution_count": 28,
   "metadata": {},
   "outputs": [
    {
     "data": {
      "text/plain": [
       "Index(['TABLE_NAME', 'COLUMN_NAME', 'DATA_TYPE'], dtype='object')"
      ]
     },
     "execution_count": 28,
     "metadata": {},
     "output_type": "execute_result"
    }
   ],
   "source": [
    "df.columns"
   ]
  },
  {
   "cell_type": "code",
   "execution_count": 29,
   "metadata": {},
   "outputs": [
    {
     "data": {
      "text/plain": [
       "[{'TABLE_NAME': 'fact_transactions',\n",
       "  'COLUMN_NAME': 'OrderDateTime',\n",
       "  'DATA_TYPE': 'datetime2'},\n",
       " {'TABLE_NAME': 'fact_transactions',\n",
       "  'COLUMN_NAME': 'user_id',\n",
       "  'DATA_TYPE': 'int'},\n",
       " {'TABLE_NAME': 'fact_transactions',\n",
       "  'COLUMN_NAME': 'order_id',\n",
       "  'DATA_TYPE': 'int'},\n",
       " {'TABLE_NAME': 'fact_transactions',\n",
       "  'COLUMN_NAME': 'store_id',\n",
       "  'DATA_TYPE': 'int'},\n",
       " {'TABLE_NAME': 'fact_transactions',\n",
       "  'COLUMN_NAME': 'payment_method_id',\n",
       "  'DATA_TYPE': 'int'},\n",
       " {'TABLE_NAME': 'fact_transactions',\n",
       "  'COLUMN_NAME': 'bank_id',\n",
       "  'DATA_TYPE': 'int'},\n",
       " {'TABLE_NAME': 'fact_transactions',\n",
       "  'COLUMN_NAME': 'product_id',\n",
       "  'DATA_TYPE': 'int'},\n",
       " {'TABLE_NAME': 'fact_transactions', 'COLUMN_NAME': 'qty', 'DATA_TYPE': 'int'},\n",
       " {'TABLE_NAME': 'fact_transactions',\n",
       "  'COLUMN_NAME': 'cost',\n",
       "  'DATA_TYPE': 'float'},\n",
       " {'TABLE_NAME': 'fact_transactions',\n",
       "  'COLUMN_NAME': 'coupon_code',\n",
       "  'DATA_TYPE': 'varchar'},\n",
       " {'TABLE_NAME': 'fact_transactions',\n",
       "  'COLUMN_NAME': 'fees',\n",
       "  'DATA_TYPE': 'float'},\n",
       " {'TABLE_NAME': 'fact_transactions',\n",
       "  'COLUMN_NAME': 'amount',\n",
       "  'DATA_TYPE': 'float'},\n",
       " {'TABLE_NAME': 'fact_transactions',\n",
       "  'COLUMN_NAME': 'total_amount',\n",
       "  'DATA_TYPE': 'float'},\n",
       " {'TABLE_NAME': 'fact_transactions', 'COLUMN_NAME': 'id', 'DATA_TYPE': 'int'},\n",
       " {'TABLE_NAME': 'fact_transactions',\n",
       "  'COLUMN_NAME': 'coupon_discount',\n",
       "  'DATA_TYPE': 'float'},\n",
       " {'TABLE_NAME': 'fact_transactions',\n",
       "  'COLUMN_NAME': 'time',\n",
       "  'DATA_TYPE': 'int'},\n",
       " {'TABLE_NAME': 'fact_transactions',\n",
       "  'COLUMN_NAME': 'OrderTimeKey',\n",
       "  'DATA_TYPE': 'varchar'},\n",
       " {'TABLE_NAME': 'fact_transactions',\n",
       "  'COLUMN_NAME': 'Hour',\n",
       "  'DATA_TYPE': 'int'}]"
      ]
     },
     "execution_count": 29,
     "metadata": {},
     "output_type": "execute_result"
    }
   ],
   "source": [
    "df_dict = df.to_dict(orient='records')\n",
    "df_dict"
   ]
  },
  {
   "cell_type": "code",
   "execution_count": 30,
   "metadata": {},
   "outputs": [],
   "source": [
    "openai.api_type = \"azure\"\n",
    "openai.api_base = \"https://like-card-test.openai.azure.com/\"\n",
    "openai.api_version = \"2023-07-01-preview\"\n",
    "openai.api_key = \"85889c7998dd4adb9a4c89abe56b1242\"\n",
    "openai.azure_endpoint=\"https://like-card-test.openai.azure.com/openai/deployments/gpt-35-turbo/chat/completions?api-version=2023-07-01-preview\""
   ]
  },
  {
   "cell_type": "code",
   "execution_count": 46,
   "metadata": {},
   "outputs": [],
   "source": [
    "text = 'what is product name that has the most purchases'"
   ]
  },
  {
   "cell_type": "code",
   "execution_count": 47,
   "metadata": {},
   "outputs": [
    {
     "data": {
      "text/plain": [
       "'SELECT TOP 1 t2.product_name\\nFROM dbo.fact_transactions t1\\nJOIN dbo.dim_products t2 \\n    ON t1.product_id = t2.id\\nGROUP BY t2.product_name\\nORDER BY SUM(t1.qty) DESC;'"
      ]
     },
     "execution_count": 47,
     "metadata": {},
     "output_type": "execute_result"
    }
   ],
   "source": [
    "def generate_sql_query(table_names,text,table_schema):\n",
    "    prompt = \"\"\"You are a ChatGPT language model that can generate concise  SQL server queries. Please provide a natural language input text and I will generate the corresponding SQL query **without using descriptive words only sql query** in function calls or expressions for example replace DATE_SUB(CURRENT_DATE(), INTERVAL 1 DAY) with DATE_SUB(CURRENT_DATE(),  1 ) . Use only function names and parentheses. the tables names , coulmns names and datatyps in this dict {}  and the tables schema is {} and Input: {} SQL Query (without descriptive words)  and note that you have multible tables so you can join the needed tables as needed:\"\"\".format(df_dict, table_schema, text)\n",
    "    request = openai.ChatCompletion.create(\n",
    "        engine=\"gpt-35-turbo\",\n",
    "        messages=[\n",
    "            {\"role\": \"user\", \"content\": prompt},\n",
    "        ]\n",
    "    )\n",
    "    pythonCode = request.choices[0].message.content\n",
    "    return pythonCode    \n",
    "query = generate_sql_query(df_dict,text,table_schema)\n",
    "query\n"
   ]
  },
  {
   "cell_type": "code",
   "execution_count": 48,
   "metadata": {},
   "outputs": [
    {
     "name": "stdout",
     "output_type": "stream",
     "text": [
      "SELECT TOP 1 t2.product_name\n",
      "FROM dbo.fact_transactions t1\n",
      "JOIN dbo.dim_products t2 \n",
      "    ON t1.product_id = t2.id\n",
      "GROUP BY t2.product_name\n",
      "ORDER BY SUM(t1.qty) DESC;\n"
     ]
    }
   ],
   "source": [
    "print(query)"
   ]
  },
  {
   "cell_type": "code",
   "execution_count": null,
   "metadata": {},
   "outputs": [],
   "source": [
    "def executeSQLquery(table_name,text,schema_list ,max_retries):\n",
    "    retry_count = 0\n",
    "\n",
    "    while retry_count < max_retries:\n",
    "        try:\n",
    "            query = generate_sql_query(table_name,text,schema_list)\n",
    "            result = spark.sql(query)\n",
    "            return result.collect()[0][0]\n",
    "        except Exception as e:\n",
    "            print(f\"Error executing query: {e}\")\n",
    "            retry_count += 1\n",
    "            if retry_count < max_retries:\n",
    "                print(f\"Retrying... (Attempt {retry_count}/{max_retries})\")\n",
    "            else:\n",
    "                print(\"Max retry attempts reached. Exiting.\")\n",
    "                raise"
   ]
  },
  {
   "cell_type": "code",
   "execution_count": 32,
   "metadata": {},
   "outputs": [
    {
     "name": "stdout",
     "output_type": "stream",
     "text": [
      "2024-01-04 12:16:57,345 INFO sqlalchemy.engine.Engine SELECT [INFORMATION_SCHEMA].[TABLES].[TABLE_NAME], [INFORMATION_SCHEMA].[TABLES].[TABLE_TYPE] \n",
      "FROM [INFORMATION_SCHEMA].[TABLES] \n",
      "WHERE [INFORMATION_SCHEMA].[TABLES].[TABLE_NAME] = CAST(? AS NVARCHAR(max)) AND [INFORMATION_SCHEMA].[TABLES].[TABLE_SCHEMA] = CAST(? AS NVARCHAR(max))\n",
      "2024-01-04 12:16:57,346 INFO sqlalchemy.engine.Engine [cached since 6001s ago] ('SELECT count(*) FROM dbo.dim_allusers', 'dbo')\n",
      "2024-01-04 12:16:57,832 INFO sqlalchemy.engine.Engine SELECT count(*) FROM dbo.dim_allusers\n",
      "2024-01-04 12:16:57,837 INFO sqlalchemy.engine.Engine [raw sql] ()\n"
     ]
    }
   ],
   "source": [
    "sql_query = f\"SELECT count(*) FROM {table_schema}.dim_allusers\"\n",
    "df = pd.read_sql(sql_query, engine)"
   ]
  },
  {
   "cell_type": "code",
   "execution_count": 9,
   "metadata": {},
   "outputs": [
    {
     "name": "stdout",
     "output_type": "stream",
     "text": [
      "2024-01-04 14:02:07,282 INFO sqlalchemy.engine.Engine SELECT CAST(SERVERPROPERTY('ProductVersion') AS VARCHAR)\n",
      "2024-01-04 14:02:07,282 INFO sqlalchemy.engine.Engine [raw sql] ()\n",
      "2024-01-04 14:02:07,831 INFO sqlalchemy.engine.Engine SELECT schema_name()\n",
      "2024-01-04 14:02:07,831 INFO sqlalchemy.engine.Engine [generated in 0.00103s] ()\n",
      "2024-01-04 14:02:08,517 INFO sqlalchemy.engine.Engine SELECT CAST('test max support' AS NVARCHAR(max))\n",
      "2024-01-04 14:02:08,517 INFO sqlalchemy.engine.Engine [generated in 0.00230s] ()\n",
      "2024-01-04 14:02:08,751 INFO sqlalchemy.engine.Engine SELECT [INFORMATION_SCHEMA].[TABLES].[TABLE_NAME], [INFORMATION_SCHEMA].[TABLES].[TABLE_TYPE] \n",
      "FROM [INFORMATION_SCHEMA].[TABLES] \n",
      "WHERE [INFORMATION_SCHEMA].[TABLES].[TABLE_NAME] = CAST(? AS NVARCHAR(max)) AND [INFORMATION_SCHEMA].[TABLES].[TABLE_SCHEMA] = CAST(? AS NVARCHAR(max))\n",
      "2024-01-04 14:02:08,751 INFO sqlalchemy.engine.Engine [generated in 0.00101s] (\"\\nSELECT \\n    table_name,\\n    table_schema\\nFROM \\n    INFORMATION_SCHEMA.TABLES\\nWHERE \\n    table_type = 'BASE TABLE'\\nORDER BY \\n    table_name ASC\\n\", 'dbo')\n",
      "2024-01-04 14:02:09,227 INFO sqlalchemy.engine.Engine \n",
      "SELECT \n",
      "    table_name,\n",
      "    table_schema\n",
      "FROM \n",
      "    INFORMATION_SCHEMA.TABLES\n",
      "WHERE \n",
      "    table_type = 'BASE TABLE'\n",
      "ORDER BY \n",
      "    table_name ASC\n",
      "\n",
      "2024-01-04 14:02:09,227 INFO sqlalchemy.engine.Engine [raw sql] ()\n"
     ]
    }
   ],
   "source": [
    "sql_query = '''\n",
    "SELECT \n",
    "    table_name,\n",
    "    table_schema\n",
    "FROM \n",
    "    INFORMATION_SCHEMA.TABLES\n",
    "WHERE \n",
    "    table_type = 'BASE TABLE'\n",
    "ORDER BY \n",
    "    table_name ASC\n",
    "'''\n",
    "df = pd.read_sql(sql_query, engine)"
   ]
  }
 ],
 "metadata": {
  "kernelspec": {
   "display_name": "Python 3",
   "language": "python",
   "name": "python3"
  },
  "language_info": {
   "codemirror_mode": {
    "name": "ipython",
    "version": 3
   },
   "file_extension": ".py",
   "mimetype": "text/x-python",
   "name": "python",
   "nbconvert_exporter": "python",
   "pygments_lexer": "ipython3",
   "version": "3.11.7"
  }
 },
 "nbformat": 4,
 "nbformat_minor": 2
}
