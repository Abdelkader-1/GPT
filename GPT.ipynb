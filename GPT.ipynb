{
 "cells": [
  {
   "cell_type": "markdown",
   "metadata": {},
   "source": [
    "## Imports"
   ]
  },
  {
   "cell_type": "code",
   "execution_count": null,
   "metadata": {},
   "outputs": [],
   "source": []
  },
  {
   "cell_type": "code",
   "execution_count": 1,
   "metadata": {},
   "outputs": [],
   "source": [
    "import pandas as pd\n",
    "import sqlalchemy as sa\n",
    "import sqlite3\n",
    "import openai\n",
    "import pyodbc\n",
    "import pypyodbc as odbc"
   ]
  },
  {
   "cell_type": "markdown",
   "metadata": {},
   "source": [
    "## Database credentials"
   ]
  },
  {
   "cell_type": "code",
   "execution_count": 2,
   "metadata": {},
   "outputs": [
    {
     "data": {
      "text/plain": [
       "\"'\\nserver='like4.database.windows.net'\\ndatabase='like'\\nconnection_string='Driver={ODBC Driver 18 for SQL Server};Server=tcp:like4.database.windows.net,1433;Database=like;Uid=CloudSA42bee827;Pwd={XP2U@X3R5EOQ23};Encrypt=yes;TrustServerCertificate=no;Connection Timeout=30;'\\nconn=odbc.connect(connection_string)\\n\""
      ]
     },
     "execution_count": 2,
     "metadata": {},
     "output_type": "execute_result"
    }
   ],
   "source": [
    "''''\n",
    "server='like4.database.windows.net'\n",
    "database='like'\n",
    "connection_string='Driver={ODBC Driver 18 for SQL Server};Server=tcp:like4.database.windows.net,1433;Database=like;Uid=CloudSA42bee827;Pwd={XP2U@X3R5EOQ23};Encrypt=yes;TrustServerCertificate=no;Connection Timeout=30;'\n",
    "conn=odbc.connect(connection_string)\n",
    "'''"
   ]
  },
  {
   "cell_type": "code",
   "execution_count": 3,
   "metadata": {},
   "outputs": [
    {
     "data": {
      "text/plain": [
       "'\\ncursor=conn.cursor()\\ncursor.execute(sql)\\ndataset=cursor.fetchall()\\nprint(dataset)\\n'"
      ]
     },
     "execution_count": 3,
     "metadata": {},
     "output_type": "execute_result"
    }
   ],
   "source": [
    "''''\n",
    "sql=''' \n",
    "#SELECT count(user_id)\n",
    "#from dbo.Users \n",
    "'''\n",
    "cursor=conn.cursor()\n",
    "cursor.execute(sql)\n",
    "dataset=cursor.fetchall()\n",
    "print(dataset)\n",
    "'''"
   ]
  },
  {
   "cell_type": "markdown",
   "metadata": {},
   "source": [
    "## Connecting to the data warehouse"
   ]
  },
  {
   "cell_type": "code",
   "execution_count": 4,
   "metadata": {},
   "outputs": [],
   "source": [
    "f = open(\"Credintials.txt\", \"r\")\n",
    "email = None\n",
    "password = None\n",
    "for i, line in enumerate(f):\n",
    "    if i == 0:\n",
    "        email = line.strip()  # Assign the first line to email variable\n",
    "    elif i == 1:\n",
    "        password = line.strip()  # Assign the second line to password variable\n",
    "\n",
    "f.close()"
   ]
  },
  {
   "cell_type": "code",
   "execution_count": 5,
   "metadata": {},
   "outputs": [],
   "source": [
    "server = 'anmx3c2yurjethctgyba6xtuaq-vkvbn7t4322edeguc3ufhjtjeu.datawarehouse.pbidedicated.windows.net'\n",
    "database = 'likeCard'\n",
    "driver='ODBC Driver 18 for SQL Server'\n",
    "user= email # use %40 inplace of @\n",
    "pass1=password # use %40 inplace of @   \n",
    "\n",
    "# Create a connection string for SQL Server using Windows authentication\n",
    "connection_string = f'mssql+pyodbc://{user}:{pass1}@{server}/{database}?driver={driver}&Trusted_Connection=no&Authentication=ActiveDirectoryInteractive'"
   ]
  },
  {
   "cell_type": "code",
   "execution_count": 6,
   "metadata": {},
   "outputs": [],
   "source": [
    "engine = sa.create_engine(connection_string, echo=True, connect_args={'autocommit': True}, fast_executemany=True)\n"
   ]
  },
  {
   "cell_type": "code",
   "execution_count": null,
   "metadata": {},
   "outputs": [],
   "source": []
  },
  {
   "cell_type": "markdown",
   "metadata": {},
   "source": [
    "## Data Preprocessing"
   ]
  },
  {
   "cell_type": "code",
   "execution_count": 7,
   "metadata": {},
   "outputs": [
    {
     "name": "stdout",
     "output_type": "stream",
     "text": [
      "2024-01-08 17:33:28,953 INFO sqlalchemy.engine.Engine SELECT CAST(SERVERPROPERTY('ProductVersion') AS VARCHAR)\n",
      "2024-01-08 17:33:28,953 INFO sqlalchemy.engine.Engine [raw sql] ()\n",
      "2024-01-08 17:33:29,202 INFO sqlalchemy.engine.Engine SELECT schema_name()\n",
      "2024-01-08 17:33:29,202 INFO sqlalchemy.engine.Engine [generated in 0.00203s] ()\n",
      "2024-01-08 17:33:29,786 INFO sqlalchemy.engine.Engine SELECT CAST('test max support' AS NVARCHAR(max))\n",
      "2024-01-08 17:33:29,786 INFO sqlalchemy.engine.Engine [generated in 0.00257s] ()\n",
      "2024-01-08 17:33:30,105 INFO sqlalchemy.engine.Engine SELECT [INFORMATION_SCHEMA].[TABLES].[TABLE_NAME] \n",
      "FROM [INFORMATION_SCHEMA].[TABLES] \n",
      "WHERE [INFORMATION_SCHEMA].[TABLES].[TABLE_TYPE] = CAST(? AS NVARCHAR(max)) AND [INFORMATION_SCHEMA].[TABLES].[TABLE_NAME] = CAST(? AS NVARCHAR(max)) AND [INFORMATION_SCHEMA].[TABLES].[TABLE_SCHEMA] = CAST(? AS NVARCHAR(max))\n",
      "2024-01-08 17:33:30,105 INFO sqlalchemy.engine.Engine [generated in 0.00273s] ('BASE TABLE', \"\\nSELECT \\n    TABLE_SCHEMA,\\n    TABLE_NAME,\\n    COLUMN_NAME,\\n    DATA_TYPE\\nFROM \\n    INFORMATION_SCHEMA.COLUMNS\\nWHERE \\n    TABLE_NAME IN (SEL ... (16 characters truncated) ... ROM INFORMATION_SCHEMA.TABLES WHERE TABLE_TYPE = 'BASE TABLE')\\n    and TABLE_NAME like 'dim_product' \\n    or TABLE_NAME like 'fact_trans%' \\n    \\n\", 'dbo')\n",
      "2024-01-08 17:33:30,703 INFO sqlalchemy.engine.Engine \n",
      "SELECT \n",
      "    TABLE_SCHEMA,\n",
      "    TABLE_NAME,\n",
      "    COLUMN_NAME,\n",
      "    DATA_TYPE\n",
      "FROM \n",
      "    INFORMATION_SCHEMA.COLUMNS\n",
      "WHERE \n",
      "    TABLE_NAME IN (SELECT TABLE_NAME FROM INFORMATION_SCHEMA.TABLES WHERE TABLE_TYPE = 'BASE TABLE')\n",
      "    and TABLE_NAME like 'dim_product' \n",
      "    or TABLE_NAME like 'fact_trans%' \n",
      "    \n",
      "\n",
      "2024-01-08 17:33:30,703 INFO sqlalchemy.engine.Engine [raw sql] ()\n"
     ]
    }
   ],
   "source": [
    "sql_query = '''\n",
    "SELECT \n",
    "    TABLE_SCHEMA,\n",
    "    TABLE_NAME,\n",
    "    COLUMN_NAME,\n",
    "    DATA_TYPE\n",
    "FROM \n",
    "    INFORMATION_SCHEMA.COLUMNS\n",
    "WHERE \n",
    "    TABLE_NAME IN (SELECT TABLE_NAME FROM INFORMATION_SCHEMA.TABLES WHERE TABLE_TYPE = 'BASE TABLE')\n",
    "    and TABLE_NAME like 'dim_product' \n",
    "    or TABLE_NAME like 'fact_trans%' \n",
    "    \n",
    "'''\n",
    "df = pd.read_sql(sql_query, engine)"
   ]
  },
  {
   "cell_type": "code",
   "execution_count": 8,
   "metadata": {},
   "outputs": [],
   "source": [
    "table_schema=df.loc[0][0]"
   ]
  },
  {
   "cell_type": "code",
   "execution_count": 9,
   "metadata": {},
   "outputs": [
    {
     "name": "stdout",
     "output_type": "stream",
     "text": [
      "dbo\n"
     ]
    }
   ],
   "source": [
    "print(table_schema)"
   ]
  },
  {
   "cell_type": "code",
   "execution_count": 10,
   "metadata": {},
   "outputs": [],
   "source": [
    "df=df.drop(columns=['TABLE_SCHEMA'])\n"
   ]
  },
  {
   "cell_type": "code",
   "execution_count": 11,
   "metadata": {},
   "outputs": [
    {
     "data": {
      "text/plain": [
       "Index(['TABLE_NAME', 'COLUMN_NAME', 'DATA_TYPE'], dtype='object')"
      ]
     },
     "execution_count": 11,
     "metadata": {},
     "output_type": "execute_result"
    }
   ],
   "source": [
    "df.columns"
   ]
  },
  {
   "cell_type": "code",
   "execution_count": 12,
   "metadata": {},
   "outputs": [
    {
     "data": {
      "text/plain": [
       "[{'TABLE_NAME': 'fact_transactions',\n",
       "  'COLUMN_NAME': 'OrderDateTime',\n",
       "  'DATA_TYPE': 'datetime2'},\n",
       " {'TABLE_NAME': 'fact_transactions',\n",
       "  'COLUMN_NAME': 'user_id',\n",
       "  'DATA_TYPE': 'int'},\n",
       " {'TABLE_NAME': 'fact_transactions',\n",
       "  'COLUMN_NAME': 'order_id',\n",
       "  'DATA_TYPE': 'int'},\n",
       " {'TABLE_NAME': 'fact_transactions',\n",
       "  'COLUMN_NAME': 'store_id',\n",
       "  'DATA_TYPE': 'int'},\n",
       " {'TABLE_NAME': 'fact_transactions',\n",
       "  'COLUMN_NAME': 'payment_method_id',\n",
       "  'DATA_TYPE': 'int'},\n",
       " {'TABLE_NAME': 'fact_transactions',\n",
       "  'COLUMN_NAME': 'bank_id',\n",
       "  'DATA_TYPE': 'int'},\n",
       " {'TABLE_NAME': 'fact_transactions',\n",
       "  'COLUMN_NAME': 'product_id',\n",
       "  'DATA_TYPE': 'int'},\n",
       " {'TABLE_NAME': 'fact_transactions', 'COLUMN_NAME': 'qty', 'DATA_TYPE': 'int'},\n",
       " {'TABLE_NAME': 'fact_transactions',\n",
       "  'COLUMN_NAME': 'cost',\n",
       "  'DATA_TYPE': 'float'},\n",
       " {'TABLE_NAME': 'fact_transactions',\n",
       "  'COLUMN_NAME': 'coupon_code',\n",
       "  'DATA_TYPE': 'varchar'},\n",
       " {'TABLE_NAME': 'fact_transactions',\n",
       "  'COLUMN_NAME': 'fees',\n",
       "  'DATA_TYPE': 'float'},\n",
       " {'TABLE_NAME': 'fact_transactions',\n",
       "  'COLUMN_NAME': 'amount',\n",
       "  'DATA_TYPE': 'float'},\n",
       " {'TABLE_NAME': 'fact_transactions',\n",
       "  'COLUMN_NAME': 'total_amount',\n",
       "  'DATA_TYPE': 'float'},\n",
       " {'TABLE_NAME': 'fact_transactions', 'COLUMN_NAME': 'id', 'DATA_TYPE': 'int'},\n",
       " {'TABLE_NAME': 'fact_transactions',\n",
       "  'COLUMN_NAME': 'coupon_discount',\n",
       "  'DATA_TYPE': 'float'},\n",
       " {'TABLE_NAME': 'fact_transactions',\n",
       "  'COLUMN_NAME': 'time',\n",
       "  'DATA_TYPE': 'int'},\n",
       " {'TABLE_NAME': 'fact_transactions',\n",
       "  'COLUMN_NAME': 'OrderTimeKey',\n",
       "  'DATA_TYPE': 'varchar'},\n",
       " {'TABLE_NAME': 'fact_transactions',\n",
       "  'COLUMN_NAME': 'Hour',\n",
       "  'DATA_TYPE': 'int'}]"
      ]
     },
     "execution_count": 12,
     "metadata": {},
     "output_type": "execute_result"
    }
   ],
   "source": [
    "df_dict = df.to_dict(orient='records')\n",
    "df_dict"
   ]
  },
  {
   "cell_type": "code",
   "execution_count": 13,
   "metadata": {},
   "outputs": [
    {
     "name": "stdout",
     "output_type": "stream",
     "text": [
      "fact_transactions\n"
     ]
    }
   ],
   "source": [
    "unique_table_names = set(entry['TABLE_NAME'] for entry in df_dict)\n",
    "\n",
    "# Display unique table names\n",
    "for table_name in unique_table_names:\n",
    "    print(table_name)\n"
   ]
  },
  {
   "cell_type": "code",
   "execution_count": 14,
   "metadata": {},
   "outputs": [],
   "source": [
    "openai.api_type = \"azure\"\n",
    "openai.api_base = \"https://like-card-test.openai.azure.com/\"\n",
    "openai.api_version = \"2023-07-01-preview\"\n",
    "openai.api_key = \"85889c7998dd4adb9a4c89abe56b1242\" \n",
    "openai.azure_endpoint=\"https://like-card-test.openai.azure.com/openai/deployments/gpt-35-turbo-instruct/chat/completions?api-version=2023-07-01-preview\""
   ]
  },
  {
   "cell_type": "code",
   "execution_count": 15,
   "metadata": {},
   "outputs": [],
   "source": [
    "query = None\n",
    "def generate_sql_query(dictionary, text, table_schema):\n",
    "    prompt = \"\"\"You are a SQL query writer capable of generating concise SQL server queries. \n",
    "    Provide a natural language input text, and I will generate the corresponding SQL query using only function calls and parentheses. \n",
    "    Replace descriptive words with SQL functions, for example, replace DATE_SUB(CURRENT_DATE(), INTERVAL 1 DAY) with DATE_SUB(CURRENT_DATE(), 1).\n",
    "    The tables, columns, and data types are specified in this dictionary: {}.\n",
    "    The tables follow the schema: {}.\n",
    "    Input: {} SQL Query (without descriptive words).\n",
    "    Note: You have multiple tables, so join the necessary tables as needed.\n",
    "    \"\"\".format(dictionary, table_schema, text)\n",
    "\n",
    "    request = openai.ChatCompletion.create(\n",
    "        engine=\"gpt-35-turbo\",\n",
    "        messages=[\n",
    "            {\"role\": \"user\", \"content\": prompt},\n",
    "        ]\n",
    "    )\n",
    "    global query\n",
    "    query = request.choices[0].message.content\n",
    "    return query\n"
   ]
  },
  {
   "cell_type": "code",
   "execution_count": 16,
   "metadata": {},
   "outputs": [],
   "source": [
    "def executeSQLquery(df_dict,text,table_schema ,max_retries):\n",
    "    retry_count = 0\n",
    "    \n",
    "    while retry_count < max_retries:\n",
    "        try:\n",
    "            query = generate_sql_query(df_dict,text,table_schema)\n",
    "            result = pd.read_sql(query,engine)\n",
    "            return result\n",
    "        except Exception as e:\n",
    "            print(f\"Error executing query: {e}\")\n",
    "            retry_count += 1\n",
    "            if retry_count < max_retries:\n",
    "                print(f\"Retrying... (Attempt {retry_count}/{max_retries})\")\n",
    "            else:\n",
    "                print(\"Max retry attempts reached. Exiting.\")\n",
    "                raise"
   ]
  },
  {
   "cell_type": "code",
   "execution_count": null,
   "metadata": {},
   "outputs": [],
   "source": []
  },
  {
   "cell_type": "code",
   "execution_count": 17,
   "metadata": {},
   "outputs": [
    {
     "name": "stdout",
     "output_type": "stream",
     "text": [
      "2024-01-08 17:34:23,249 INFO sqlalchemy.engine.Engine SELECT [INFORMATION_SCHEMA].[TABLES].[TABLE_NAME] \n",
      "FROM [INFORMATION_SCHEMA].[TABLES] \n",
      "WHERE [INFORMATION_SCHEMA].[TABLES].[TABLE_TYPE] = CAST(? AS NVARCHAR(max)) AND [INFORMATION_SCHEMA].[TABLES].[TABLE_NAME] = CAST(? AS NVARCHAR(max)) AND [INFORMATION_SCHEMA].[TABLES].[TABLE_SCHEMA] = CAST(? AS NVARCHAR(max))\n",
      "2024-01-08 17:34:23,255 INFO sqlalchemy.engine.Engine [cached since 53.15s ago] ('BASE TABLE', 'SELECT TOP 5 product_id\\nFROM dbo.fact_transactions\\nJOIN dbo.dim_customers ON fact_transactions.user_id = dim_customers.user_id\\nWHERE dim_customers.is_new_customer = 1', 'dbo')\n",
      "2024-01-08 17:34:23,855 INFO sqlalchemy.engine.Engine SELECT TOP 5 product_id\n",
      "FROM dbo.fact_transactions\n",
      "JOIN dbo.dim_customers ON fact_transactions.user_id = dim_customers.user_id\n",
      "WHERE dim_customers.is_new_customer = 1\n",
      "2024-01-08 17:34:23,855 INFO sqlalchemy.engine.Engine [raw sql] ()\n",
      "2024-01-08 17:34:24,152 INFO sqlalchemy.engine.Engine ROLLBACK\n",
      "Error executing query: (pyodbc.ProgrammingError) ('42S02', \"[42S02] [Microsoft][ODBC Driver 18 for SQL Server][SQL Server]Invalid object name 'dbo.dim_customers'. (208) (SQLExecDirectW)\")\n",
      "[SQL: SELECT TOP 5 product_id\n",
      "FROM dbo.fact_transactions\n",
      "JOIN dbo.dim_customers ON fact_transactions.user_id = dim_customers.user_id\n",
      "WHERE dim_customers.is_new_customer = 1]\n",
      "(Background on this error at: https://sqlalche.me/e/14/f405)\n",
      "Retrying... (Attempt 1/6)\n",
      "2024-01-08 17:34:24,777 INFO sqlalchemy.engine.Engine SELECT [INFORMATION_SCHEMA].[TABLES].[TABLE_NAME] \n",
      "FROM [INFORMATION_SCHEMA].[TABLES] \n",
      "WHERE [INFORMATION_SCHEMA].[TABLES].[TABLE_TYPE] = CAST(? AS NVARCHAR(max)) AND [INFORMATION_SCHEMA].[TABLES].[TABLE_NAME] = CAST(? AS NVARCHAR(max)) AND [INFORMATION_SCHEMA].[TABLES].[TABLE_SCHEMA] = CAST(? AS NVARCHAR(max))\n",
      "2024-01-08 17:34:24,783 INFO sqlalchemy.engine.Engine [cached since 54.68s ago] ('BASE TABLE', 'SELECT TOP 5 product_id\\nFROM dbo.fact_transactions\\nWHERE user_id NOT IN (SELECT user_id FROM dbo.fact_transactions WHERE OrderDateTime < DATEADD(day, -30, CURRENT_TIMESTAMP))\\nORDER BY OrderDateTime', 'dbo')\n",
      "2024-01-08 17:34:25,366 INFO sqlalchemy.engine.Engine SELECT TOP 5 product_id\n",
      "FROM dbo.fact_transactions\n",
      "WHERE user_id NOT IN (SELECT user_id FROM dbo.fact_transactions WHERE OrderDateTime < DATEADD(day, -30, CURRENT_TIMESTAMP))\n",
      "ORDER BY OrderDateTime\n",
      "2024-01-08 17:34:25,366 INFO sqlalchemy.engine.Engine [raw sql] ()\n"
     ]
    }
   ],
   "source": [
    "def get_result_prompt(question,query,df_dict,table_schema,queryResult):\n",
    "\n",
    "    prompt = \"\"\"I want you to answer the input question based on the table schema ,\n",
    "    column name , column data type,input sql query where you can join between tables,\n",
    "    if the input result is empty then return the output as 'No data found', You should not tell about sql query and tables in the result, \n",
    "    If something wrong then return 'Try it in another way'. tables schema are: {}, input SQL is: {}, query result is :{}\n",
    "    and the input question is: {}. The output should be in natural language text.\"\"\".format(table_schema,query,queryResult,question)\n",
    "    return prompt\n",
    "text = 'top 5 product_id that new customers purchase'\n",
    "queryResult = executeSQLquery(df_dict,text,table_schema ,6)\n",
    "result_prompt = get_result_prompt(text,query,df_dict,table_schema,queryResult)"
   ]
  },
  {
   "cell_type": "code",
   "execution_count": 19,
   "metadata": {},
   "outputs": [
    {
     "name": "stdout",
     "output_type": "stream",
     "text": [
      "The top 5 product IDs that new customers have purchased are 919, 5215, 103, 434, and 58.\n"
     ]
    }
   ],
   "source": [
    "request = openai.ChatCompletion.create(\n",
    "        engine=\"gpt-35-turbo\",\n",
    "        messages=[\n",
    "            {\"role\": \"user\", \"content\": result_prompt},\n",
    "        ]\n",
    "    )\n",
    "answer = request.choices[0].message.content\n",
    "print(answer)"
   ]
  },
  {
   "cell_type": "code",
   "execution_count": 22,
   "metadata": {},
   "outputs": [
    {
     "data": {
      "text/plain": [
       "'import pandas as pd\\nimport matplotlib.pyplot as plt\\n\\ndata = {\\n    \\'product_id\\': [919, 5215, 103, 434, 58]\\n}\\n\\ntry:\\n    df = pd.DataFrame(data)\\n    \\n    if df.empty:\\n        print(\"No data found.\")\\n    else:\\n        plt.bar(df.index, df[\\'product_id\\'])\\n        plt.xlabel(\\'Index\\')\\n        plt.ylabel(\\'Number of Purchases\\')\\n        plt.title(\\'Top 5 Product IDs Purchased by New Customers\\')\\n        plt.show()\\n\\nexcept:\\n    print(\"Try it in another way.\")'"
      ]
     },
     "execution_count": 22,
     "metadata": {},
     "output_type": "execute_result"
    }
   ],
   "source": [
    "def graph(question,query,df_dict,table_schema,queryResult):\n",
    "\n",
    "    prompt = \"\"\"**Task:** Write Python code using pandas and matplotlib **without any comments** to generate the graph based on the provided data.\n",
    "\n",
    "**Context:**\n",
    "- Table schema: {}\n",
    "- Input SQL query (with potential joins): {}\n",
    "- Query result: {}\n",
    "- Input question: {}\n",
    "\n",
    "**Requirements:**\n",
    "- Handle empty results with \"No data found.\"\n",
    "- Gracefully handle errors with \"Try it in another way.\"\n",
    "\n",
    "**Example:**\n",
    "> import pandas as pd\n",
    "> import matplotlib.pyplot as plt\n",
    "> \n",
    "> # ...\n",
    "> ```\n",
    "\"\"\".format(table_schema, query, queryResult, question)\n",
    "\n",
    "\n",
    "    request = openai.ChatCompletion.create(\n",
    "        engine=\"gpt-35-turbo\",\n",
    "        messages=[\n",
    "            {\"role\": \"user\", \"content\": prompt},\n",
    "        ]\n",
    "    )\n",
    "    answer = request.choices[0].message.content\n",
    "    return answer\n",
    "graph_code = graph(text,query,df_dict,table_schema,queryResult)\n",
    "graph_code"
   ]
  },
  {
   "cell_type": "code",
   "execution_count": 23,
   "metadata": {},
   "outputs": [
    {
     "data": {
      "image/png": "[encoded data removed]",
      "text/plain": [
       "<Figure size 640x480 with 1 Axes>"
      ]
     },
     "metadata": {},
     "output_type": "display_data"
    }
   ],
   "source": [
    "exec(graph_code)"
   ]
  },
  {
   "cell_type": "code",
   "execution_count": null,
   "metadata": {},
   "outputs": [],
   "source": []
  }
 ],
 "metadata": {
  "kernelspec": {
   "display_name": "Python 3",
   "language": "python",
   "name": "python3"
  },
  "language_info": {
   "codemirror_mode": {
    "name": "ipython",
    "version": 3
   },
   "file_extension": ".py",
   "mimetype": "text/x-python",
   "name": "python",
   "nbconvert_exporter": "python",
   "pygments_lexer": "ipython3",
   "version": "3.11.5"
  }
 },
 "nbformat": 4,
 "nbformat_minor": 2
}
