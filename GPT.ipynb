{
 "cells": [
  {
   "cell_type": "markdown",
   "metadata": {},
   "source": [
    "## Imports"
   ]
  },
  {
   "cell_type": "code",
   "execution_count": null,
   "metadata": {},
   "outputs": [],
   "source": []
  },
  {
   "cell_type": "code",
   "execution_count": 2,
   "metadata": {},
   "outputs": [],
   "source": [
    "import pandas as pd\n",
    "import sqlalchemy as sa\n",
    "import sqlite3\n",
    "import openai\n",
    "import pyodbc\n",
    "import pypyodbc as odbc"
   ]
  },
  {
   "cell_type": "markdown",
   "metadata": {},
   "source": [
    "## Database credentials"
   ]
  },
  {
   "cell_type": "code",
   "execution_count": 3,
   "metadata": {},
   "outputs": [
    {
     "data": {
      "text/plain": [
       "\"'\\nserver='like4.database.windows.net'\\ndatabase='like'\\nconnection_string='Driver={ODBC Driver 18 for SQL Server};Server=tcp:like4.database.windows.net,1433;Database=like;Uid=CloudSA42bee827;Pwd={XP2U@X3R5EOQ23};Encrypt=yes;TrustServerCertificate=no;Connection Timeout=30;'\\nconn=odbc.connect(connection_string)\\n\""
      ]
     },
     "execution_count": 3,
     "metadata": {},
     "output_type": "execute_result"
    }
   ],
   "source": [
    "''''\n",
    "server='like4.database.windows.net'\n",
    "database='like'\n",
    "connection_string='Driver={ODBC Driver 18 for SQL Server};Server=tcp:like4.database.windows.net,1433;Database=like;Uid=CloudSA42bee827;Pwd={XP2U@X3R5EOQ23};Encrypt=yes;TrustServerCertificate=no;Connection Timeout=30;'\n",
    "conn=odbc.connect(connection_string)\n",
    "'''"
   ]
  },
  {
   "cell_type": "code",
   "execution_count": 4,
   "metadata": {},
   "outputs": [
    {
     "data": {
      "text/plain": [
       "'\\ncursor=conn.cursor()\\ncursor.execute(sql)\\ndataset=cursor.fetchall()\\nprint(dataset)\\n'"
      ]
     },
     "execution_count": 4,
     "metadata": {},
     "output_type": "execute_result"
    }
   ],
   "source": [
    "''''\n",
    "sql=''' \n",
    "#SELECT count(user_id)\n",
    "#from dbo.Users \n",
    "'''\n",
    "cursor=conn.cursor()\n",
    "cursor.execute(sql)\n",
    "dataset=cursor.fetchall()\n",
    "print(dataset)\n",
    "'''"
   ]
  },
  {
   "cell_type": "markdown",
   "metadata": {},
   "source": [
    "## Connecting to the data warehouse"
   ]
  },
  {
   "cell_type": "code",
   "execution_count": 5,
   "metadata": {},
   "outputs": [],
   "source": [
    "f = open(\"Credintials.txt\", \"r\")\n",
    "email = None\n",
    "password = None\n",
    "for i, line in enumerate(f):\n",
    "    if i == 0:\n",
    "        email = line.strip()  # Assign the first line to email variable\n",
    "    elif i == 1:\n",
    "        password = line.strip()  # Assign the second line to password variable\n",
    "\n",
    "f.close()"
   ]
  },
  {
   "cell_type": "code",
   "execution_count": 6,
   "metadata": {},
   "outputs": [],
   "source": [
    "server = 'anmx3c2yurjethctgyba6xtuaq-vkvbn7t4322edeguc3ufhjtjeu.datawarehouse.pbidedicated.windows.net'\n",
    "database = 'likeCard'\n",
    "driver='ODBC Driver 18 for SQL Server'\n",
    "user= email # use %40 inplace of @\n",
    "pass1=password # use %40 inplace of @   \n",
    "\n",
    "# Create a connection string for SQL Server using Windows authentication\n",
    "connection_string = f'mssql+pyodbc://{user}:{pass1}@{server}/{database}?driver={driver}&Trusted_Connection=no&Authentication=ActiveDirectoryInteractive'"
   ]
  },
  {
   "cell_type": "code",
   "execution_count": 7,
   "metadata": {},
   "outputs": [],
   "source": [
    "engine = sa.create_engine(connection_string, echo=True, connect_args={'autocommit': True}, fast_executemany=True)\n"
   ]
  },
  {
   "cell_type": "code",
   "execution_count": null,
   "metadata": {},
   "outputs": [],
   "source": []
  },
  {
   "cell_type": "markdown",
   "metadata": {},
   "source": [
    "## Data Preprocessing"
   ]
  },
  {
   "cell_type": "code",
   "execution_count": 74,
   "metadata": {},
   "outputs": [
    {
     "name": "stdout",
     "output_type": "stream",
     "text": [
      "2024-01-09 12:46:25,212 INFO sqlalchemy.engine.Engine SELECT [INFORMATION_SCHEMA].[TABLES].[TABLE_NAME] \n",
      "FROM [INFORMATION_SCHEMA].[TABLES] \n",
      "WHERE [INFORMATION_SCHEMA].[TABLES].[TABLE_TYPE] = CAST(? AS NVARCHAR(max)) AND [INFORMATION_SCHEMA].[TABLES].[TABLE_NAME] = CAST(? AS NVARCHAR(max)) AND [INFORMATION_SCHEMA].[TABLES].[TABLE_SCHEMA] = CAST(? AS NVARCHAR(max))\n",
      "2024-01-09 12:46:25,212 INFO sqlalchemy.engine.Engine [cached since 775.4s ago] ('BASE TABLE', \"\\nSELECT \\n    TABLE_SCHEMA,\\n    TABLE_NAME,\\n    COLUMN_NAME,\\n    DATA_TYPE\\nFROM \\n    INFORMATION_SCHEMA.COLUMNS\\nWHERE \\n    TABLE_NAME IN (SEL ... (96 characters truncated) ... ME like 'dim_products' \\n    or TABLE_NAME like 'fact_trans%' \\n    or TABLE_NAME like 'dim_allusers%'\\n    or TABLE_NAME like 'dim_stores%' \\n    \\n\", 'dbo')\n",
      "2024-01-09 12:46:27,344 INFO sqlalchemy.engine.Engine \n",
      "SELECT \n",
      "    TABLE_SCHEMA,\n",
      "    TABLE_NAME,\n",
      "    COLUMN_NAME,\n",
      "    DATA_TYPE\n",
      "FROM \n",
      "    INFORMATION_SCHEMA.COLUMNS\n",
      "WHERE \n",
      "    TABLE_NAME IN (SELECT TABLE_NAME FROM INFORMATION_SCHEMA.TABLES WHERE TABLE_TYPE = 'BASE TABLE')\n",
      "    and TABLE_NAME like 'dim_products' \n",
      "    or TABLE_NAME like 'fact_trans%' \n",
      "    or TABLE_NAME like 'dim_allusers%'\n",
      "    or TABLE_NAME like 'dim_stores%' \n",
      "    \n",
      "\n",
      "2024-01-09 12:46:27,344 INFO sqlalchemy.engine.Engine [raw sql] ()\n"
     ]
    }
   ],
   "source": [
    "sql_query = '''\n",
    "SELECT \n",
    "    TABLE_SCHEMA,\n",
    "    TABLE_NAME,\n",
    "    COLUMN_NAME,\n",
    "    DATA_TYPE\n",
    "FROM \n",
    "    INFORMATION_SCHEMA.COLUMNS\n",
    "WHERE \n",
    "    TABLE_NAME IN (SELECT TABLE_NAME FROM INFORMATION_SCHEMA.TABLES WHERE TABLE_TYPE = 'BASE TABLE')\n",
    "    and TABLE_NAME like 'dim_products' \n",
    "    or TABLE_NAME like 'fact_trans%' \n",
    "    or TABLE_NAME like 'dim_allusers%'\n",
    "    or TABLE_NAME like 'dim_stores%' \n",
    "    \n",
    "'''\n",
    "df = pd.read_sql(sql_query, engine)"
   ]
  },
  {
   "cell_type": "code",
   "execution_count": 75,
   "metadata": {},
   "outputs": [],
   "source": [
    "table_schema=df.loc[0][0]"
   ]
  },
  {
   "cell_type": "code",
   "execution_count": 76,
   "metadata": {},
   "outputs": [
    {
     "name": "stdout",
     "output_type": "stream",
     "text": [
      "dbo\n"
     ]
    }
   ],
   "source": [
    "print(table_schema)"
   ]
  },
  {
   "cell_type": "code",
   "execution_count": 77,
   "metadata": {},
   "outputs": [],
   "source": [
    "df=df.drop(columns=['TABLE_SCHEMA'])\n"
   ]
  },
  {
   "cell_type": "code",
   "execution_count": 78,
   "metadata": {},
   "outputs": [
    {
     "data": {
      "text/plain": [
       "Index(['TABLE_NAME', 'COLUMN_NAME', 'DATA_TYPE'], dtype='object')"
      ]
     },
     "execution_count": 78,
     "metadata": {},
     "output_type": "execute_result"
    }
   ],
   "source": [
    "df.columns"
   ]
  },
  {
   "cell_type": "code",
   "execution_count": 79,
   "metadata": {},
   "outputs": [
    {
     "data": {
      "text/plain": [
       "[{'TABLE_NAME': 'dim_allusers', 'COLUMN_NAME': 'user_id', 'DATA_TYPE': 'int'},\n",
       " {'TABLE_NAME': 'dim_allusers',\n",
       "  'COLUMN_NAME': 'first_name',\n",
       "  'DATA_TYPE': 'varchar'},\n",
       " {'TABLE_NAME': 'dim_allusers',\n",
       "  'COLUMN_NAME': 'last_name',\n",
       "  'DATA_TYPE': 'varchar'},\n",
       " {'TABLE_NAME': 'dim_allusers',\n",
       "  'COLUMN_NAME': 'email',\n",
       "  'DATA_TYPE': 'varchar'},\n",
       " {'TABLE_NAME': 'dim_allusers',\n",
       "  'COLUMN_NAME': 'store_country_id',\n",
       "  'DATA_TYPE': 'int'},\n",
       " {'TABLE_NAME': 'dim_allusers',\n",
       "  'COLUMN_NAME': 'customer_group_id',\n",
       "  'DATA_TYPE': 'int'},\n",
       " {'TABLE_NAME': 'dim_allusers',\n",
       "  'COLUMN_NAME': 'phone',\n",
       "  'DATA_TYPE': 'varchar'},\n",
       " {'TABLE_NAME': 'dim_allusers',\n",
       "  'COLUMN_NAME': 'representative_id',\n",
       "  'DATA_TYPE': 'int'},\n",
       " {'TABLE_NAME': 'dim_allusers',\n",
       "  'COLUMN_NAME': 'createdDate',\n",
       "  'DATA_TYPE': 'date'},\n",
       " {'TABLE_NAME': 'dim_allusers',\n",
       "  'COLUMN_NAME': 'created_on',\n",
       "  'DATA_TYPE': 'int'},\n",
       " {'TABLE_NAME': 'dim_allusers',\n",
       "  'COLUMN_NAME': 'createdDateKey',\n",
       "  'DATA_TYPE': 'varchar'},\n",
       " {'TABLE_NAME': 'dim_allusers',\n",
       "  'COLUMN_NAME': 'First_transaction_date',\n",
       "  'DATA_TYPE': 'datetime2'},\n",
       " {'TABLE_NAME': 'dim_allusers',\n",
       "  'COLUMN_NAME': 'last_transaction_date',\n",
       "  'DATA_TYPE': 'datetime2'},\n",
       " {'TABLE_NAME': 'dim_allusers',\n",
       "  'COLUMN_NAME': 'Monetary',\n",
       "  'DATA_TYPE': 'float'},\n",
       " {'TABLE_NAME': 'dim_allusers',\n",
       "  'COLUMN_NAME': 'Frequency',\n",
       "  'DATA_TYPE': 'bigint'},\n",
       " {'TABLE_NAME': 'dim_allusers',\n",
       "  'COLUMN_NAME': 'Recency',\n",
       "  'DATA_TYPE': 'bigint'},\n",
       " {'TABLE_NAME': 'dim_allusers',\n",
       "  'COLUMN_NAME': 'R_Score',\n",
       "  'DATA_TYPE': 'varchar'},\n",
       " {'TABLE_NAME': 'dim_allusers',\n",
       "  'COLUMN_NAME': 'F_Score',\n",
       "  'DATA_TYPE': 'varchar'},\n",
       " {'TABLE_NAME': 'dim_allusers',\n",
       "  'COLUMN_NAME': 'M_Score',\n",
       "  'DATA_TYPE': 'varchar'},\n",
       " {'TABLE_NAME': 'dim_allusers', 'COLUMN_NAME': 'RFM', 'DATA_TYPE': 'int'},\n",
       " {'TABLE_NAME': 'dim_allusers',\n",
       "  'COLUMN_NAME': 'EOM_for_firstTransaction',\n",
       "  'DATA_TYPE': 'date'},\n",
       " {'TABLE_NAME': 'dim_allusers',\n",
       "  'COLUMN_NAME': 'Life_Time_Span',\n",
       "  'DATA_TYPE': 'bigint'},\n",
       " {'TABLE_NAME': 'dim_allusers',\n",
       "  'COLUMN_NAME': 'Customer_state',\n",
       "  'DATA_TYPE': 'varchar'},\n",
       " {'TABLE_NAME': 'dim_allusers', 'COLUMN_NAME': 'Year', 'DATA_TYPE': 'int'},\n",
       " {'TABLE_NAME': 'dim_allusers', 'COLUMN_NAME': 'Month', 'DATA_TYPE': 'int'},\n",
       " {'TABLE_NAME': 'dim_allusers', 'COLUMN_NAME': 'Quarter', 'DATA_TYPE': 'int'},\n",
       " {'TABLE_NAME': 'dim_allusers',\n",
       "  'COLUMN_NAME': 'Month_name',\n",
       "  'DATA_TYPE': 'varchar'},\n",
       " {'TABLE_NAME': 'dim_allusers',\n",
       "  'COLUMN_NAME': 'Business_line',\n",
       "  'DATA_TYPE': 'varchar'},\n",
       " {'TABLE_NAME': 'dim_products',\n",
       "  'COLUMN_NAME': 'product_id',\n",
       "  'DATA_TYPE': 'int'},\n",
       " {'TABLE_NAME': 'dim_products',\n",
       "  'COLUMN_NAME': 'product_name',\n",
       "  'DATA_TYPE': 'varchar'},\n",
       " {'TABLE_NAME': 'dim_products',\n",
       "  'COLUMN_NAME': 'category_id',\n",
       "  'DATA_TYPE': 'int'},\n",
       " {'TABLE_NAME': 'dim_stores', 'COLUMN_NAME': 'country_id', 'DATA_TYPE': 'int'},\n",
       " {'TABLE_NAME': 'dim_stores',\n",
       "  'COLUMN_NAME': 'country',\n",
       "  'DATA_TYPE': 'varchar'},\n",
       " {'TABLE_NAME': 'fact_transactions',\n",
       "  'COLUMN_NAME': 'OrderDateTime',\n",
       "  'DATA_TYPE': 'datetime2'},\n",
       " {'TABLE_NAME': 'fact_transactions',\n",
       "  'COLUMN_NAME': 'user_id',\n",
       "  'DATA_TYPE': 'int'},\n",
       " {'TABLE_NAME': 'fact_transactions',\n",
       "  'COLUMN_NAME': 'order_id',\n",
       "  'DATA_TYPE': 'int'},\n",
       " {'TABLE_NAME': 'fact_transactions',\n",
       "  'COLUMN_NAME': 'store_id',\n",
       "  'DATA_TYPE': 'int'},\n",
       " {'TABLE_NAME': 'fact_transactions',\n",
       "  'COLUMN_NAME': 'payment_method_id',\n",
       "  'DATA_TYPE': 'int'},\n",
       " {'TABLE_NAME': 'fact_transactions',\n",
       "  'COLUMN_NAME': 'bank_id',\n",
       "  'DATA_TYPE': 'int'},\n",
       " {'TABLE_NAME': 'fact_transactions',\n",
       "  'COLUMN_NAME': 'product_id',\n",
       "  'DATA_TYPE': 'int'},\n",
       " {'TABLE_NAME': 'fact_transactions', 'COLUMN_NAME': 'qty', 'DATA_TYPE': 'int'},\n",
       " {'TABLE_NAME': 'fact_transactions',\n",
       "  'COLUMN_NAME': 'cost',\n",
       "  'DATA_TYPE': 'float'},\n",
       " {'TABLE_NAME': 'fact_transactions',\n",
       "  'COLUMN_NAME': 'coupon_code',\n",
       "  'DATA_TYPE': 'varchar'},\n",
       " {'TABLE_NAME': 'fact_transactions',\n",
       "  'COLUMN_NAME': 'fees',\n",
       "  'DATA_TYPE': 'float'},\n",
       " {'TABLE_NAME': 'fact_transactions',\n",
       "  'COLUMN_NAME': 'amount',\n",
       "  'DATA_TYPE': 'float'},\n",
       " {'TABLE_NAME': 'fact_transactions',\n",
       "  'COLUMN_NAME': 'total_amount',\n",
       "  'DATA_TYPE': 'float'},\n",
       " {'TABLE_NAME': 'fact_transactions', 'COLUMN_NAME': 'id', 'DATA_TYPE': 'int'},\n",
       " {'TABLE_NAME': 'fact_transactions',\n",
       "  'COLUMN_NAME': 'coupon_discount',\n",
       "  'DATA_TYPE': 'float'},\n",
       " {'TABLE_NAME': 'fact_transactions',\n",
       "  'COLUMN_NAME': 'time',\n",
       "  'DATA_TYPE': 'int'},\n",
       " {'TABLE_NAME': 'fact_transactions',\n",
       "  'COLUMN_NAME': 'OrderTimeKey',\n",
       "  'DATA_TYPE': 'varchar'},\n",
       " {'TABLE_NAME': 'fact_transactions',\n",
       "  'COLUMN_NAME': 'Hour',\n",
       "  'DATA_TYPE': 'int'}]"
      ]
     },
     "execution_count": 79,
     "metadata": {},
     "output_type": "execute_result"
    }
   ],
   "source": [
    "df_dict = df.to_dict(orient='records')\n",
    "df_dict"
   ]
  },
  {
   "cell_type": "code",
   "execution_count": 80,
   "metadata": {},
   "outputs": [
    {
     "name": "stdout",
     "output_type": "stream",
     "text": [
      "dim_products\n",
      "dim_allusers\n",
      "fact_transactions\n",
      "dim_stores\n"
     ]
    }
   ],
   "source": [
    "unique_table_names = set(entry['TABLE_NAME'] for entry in df_dict)\n",
    "\n",
    "# Display unique table names\n",
    "for table_name in unique_table_names:\n",
    "    print(table_name)\n"
   ]
  },
  {
   "cell_type": "code",
   "execution_count": 173,
   "metadata": {},
   "outputs": [],
   "source": [
    "import os\n",
    "openai.api_type = \"azure\"\n",
    "openai.api_base = \"https://like-card-test.openai.azure.com/\"\n",
    "openai.api_version = \"2023-07-01-preview\"\n",
    "openai.api_key = \"85889c7998dd4adb9a4c89abe56b1242\"\n",
    "openai.azure_endpoint=\"https://like-card-test.openai.azure.com/openai/deployments/gpt-35-turbo/chat/completions?api-version=2023-07-01-preview\"\n",
    "                       "
   ]
  },
  {
   "cell_type": "code",
   "execution_count": 202,
   "metadata": {},
   "outputs": [],
   "source": [
    "query = None\n",
    "def generate_sql_query(dictionary, text, table_schema):\n",
    "    prompt = \"\"\"**Task:** Generate a concise SQL Server query using only function calls and parentheses.\n",
    "\n",
    "**Context:**\n",
    "- Available tables, columns, and data types: {}\n",
    "- Table schemas: {}\n",
    "\n",
    "**Requirements:**\n",
    "- **Translate natural language input:** Accurately convert the given text into a corresponding SQL query.\n",
    "- **Concise language:** Use only function calls and parentheses, omitting descriptive words.\n",
    "- **Example:** Replace \"DATE_SUB(CURRENT_DATE(), INTERVAL 1 DAY)\" with \"DATE_SUB(CURRENT_DATE(), 1)\".\n",
    "- **Handle joins:** Identify and join necessary tables as required by the input text.\n",
    "    Input: {} SQL Query (without descriptive words).\n",
    "    \"\"\".format(dictionary, table_schema, text)\n",
    "\n",
    "    request = openai.ChatCompletion.create(\n",
    "        engine=\"gpt-35-turbo\",\n",
    "        messages=[\n",
    "            {\"role\": \"user\", \"content\": prompt},\n",
    "        ],\n",
    "        stop=None,\n",
    "\n",
    "    )\n",
    "    global query\n",
    "    query = request.choices[0].message.content\n",
    "    return query\n"
   ]
  },
  {
   "cell_type": "code",
   "execution_count": 203,
   "metadata": {},
   "outputs": [],
   "source": [
    "def executeSQLquery(df_dict,text,table_schema ,max_retries):\n",
    "    retry_count = 0\n",
    "    \n",
    "    while retry_count < max_retries:\n",
    "        try:\n",
    "            query = generate_sql_query(df_dict,text,table_schema)\n",
    "            result = pd.read_sql(query,engine)\n",
    "            return result\n",
    "        except Exception as e:\n",
    "            print(f\"Error executing query: {e}\")\n",
    "            retry_count += 1\n",
    "            if retry_count < max_retries:\n",
    "                print(f\"Retrying... (Attempt {retry_count}/{max_retries})\")\n",
    "            else:\n",
    "                print(\"Max retry attempts reached. Exiting.\")\n",
    "                raise"
   ]
  },
  {
   "cell_type": "code",
   "execution_count": null,
   "metadata": {},
   "outputs": [],
   "source": []
  },
  {
   "cell_type": "code",
   "execution_count": 256,
   "metadata": {},
   "outputs": [
    {
     "name": "stdout",
     "output_type": "stream",
     "text": [
      "2024-01-09 16:11:52,974 INFO sqlalchemy.engine.Engine SELECT [INFORMATION_SCHEMA].[TABLES].[TABLE_NAME] \n",
      "FROM [INFORMATION_SCHEMA].[TABLES] \n",
      "WHERE [INFORMATION_SCHEMA].[TABLES].[TABLE_TYPE] = CAST(? AS NVARCHAR(max)) AND [INFORMATION_SCHEMA].[TABLES].[TABLE_NAME] = CAST(? AS NVARCHAR(max)) AND [INFORMATION_SCHEMA].[TABLES].[TABLE_SCHEMA] = CAST(? AS NVARCHAR(max))\n",
      "2024-01-09 16:11:52,974 INFO sqlalchemy.engine.Engine [cached since 1.311e+04s ago] ('BASE TABLE', 'SELECT TOP 5 product_id, SUM(amount) as total_amount\\nFROM fact_transactions\\nGROUP BY product_id\\nORDER BY total_amount DESC;', 'dbo')\n",
      "2024-01-09 16:11:53,889 INFO sqlalchemy.engine.Engine SELECT TOP 5 product_id, SUM(amount) as total_amount\n",
      "FROM fact_transactions\n",
      "GROUP BY product_id\n",
      "ORDER BY total_amount DESC;\n",
      "2024-01-09 16:11:53,889 INFO sqlalchemy.engine.Engine [raw sql] ()\n",
      "**Task:** Answer the input question in natural language based on the provided data.\n",
      "\n",
      "**Context:**\n",
      "- Table schemas: dbo\n",
      "- Input SQL query (with potential joins): SELECT TOP 5 product_id, SUM(amount) as total_amount\n",
      "FROM fact_transactions\n",
      "GROUP BY product_id\n",
      "ORDER BY total_amount DESC;\n",
      "- Query result:    product_id  total_amount\n",
      "0          54  2.916845e+08\n",
      "1        1628  2.308801e+08\n",
      "2         975  1.305104e+08\n",
      "3        1627  1.240185e+08\n",
      "4          53  1.072587e+08\n",
      "- Input question: top 5 products in terms of amount\n",
      "\n",
      "**Requirements:**\n",
      "- Generate a human-readable response that directly answers the question.\n",
      "- Avoid mentioning any SQL queries or table names in the response.\n",
      "- Handle empty results with \"No data found.\"\n",
      "- Gracefully handle errors with \"Try it in another way.\"\n",
      "\n",
      "**Example:**\n",
      " What were the total sales in January 2023?\n",
      "**Response:** The total sales in January 2023 were 123 million dollars.\n",
      "\n"
     ]
    }
   ],
   "source": [
    "def get_result_prompt(question, query, df_dict, table_schema, queryResult):\n",
    "\n",
    "    prompt = \"\"\"**Task:** Answer the input question in natural language based on the provided data.\n",
    "\n",
    "**Context:**\n",
    "- Table schemas: {}\n",
    "- Input SQL query (with potential joins): {}\n",
    "- Query result: {}\n",
    "- Input question: {}\n",
    "\n",
    "**Requirements:**\n",
    "- Generate a human-readable response that directly answers the question.\n",
    "- Avoid mentioning any SQL queries or table names in the response.\n",
    "- Handle empty results with \"No data found.\"\n",
    "- Gracefully handle errors with \"Try it in another way.\"\n",
    "\n",
    "**Example:**\n",
    " What were the total sales in January 2023?\n",
    "**Response:** The total sales in January 2023 were 123 million dollars.\n",
    "\"\"\".format(table_schema, query, queryResult, question)\n",
    "    return prompt\n",
    "text = 'top 5 products in terms of amount'\n",
    "queryResult = executeSQLquery(df_dict,text,table_schema ,6)\n",
    "result_prompt = get_result_prompt(text,query,df_dict,table_schema,queryResult)\n",
    "print(result_prompt)"
   ]
  },
  {
   "cell_type": "code",
   "execution_count": 257,
   "metadata": {},
   "outputs": [
    {
     "data": {
      "text/plain": [
       "'The top 5 products in terms of amount are product 54 with a total amount of 291.7 million dollars, product 1628 with a total amount of 230.9 million dollars, product 975 with a total amount of 130.5 million dollars, product 1627 with a total amount of 124 million dollars, and product 53 with a total amount of 107.3 million dollars.'"
      ]
     },
     "execution_count": 257,
     "metadata": {},
     "output_type": "execute_result"
    }
   ],
   "source": [
    "\n",
    "request = openai.ChatCompletion.create(\n",
    "        engine=\"gpt-35-turbo\",\n",
    "        messages=[\n",
    "            {\"role\": \"user\", \"content\": result_prompt},\n",
    "        ],\n",
    "        stop=None,\n",
    "        temperature=0.7,\n",
    "        max_tokens=800,\n",
    "        top_p=0.95,\n",
    "        frequency_penalty=0,\n",
    "        presence_penalty=0,\n",
    "    )\n",
    "answer = request.choices[0].message.content\n",
    "answer\n"
   ]
  },
  {
   "cell_type": "code",
   "execution_count": 261,
   "metadata": {},
   "outputs": [
    {
     "data": {
      "application/vnd.plotly.v1+json": {
       "config": {
        "plotlyServerURL": "https://plot.ly"
       },
       "data": [
        {
         "alignmentgroup": "True",
         "hovertemplate": "product_id=%{x}<br>total_amount=%{y}<extra></extra>",
         "legendgroup": "",
         "marker": {
          "color": "#636efa",
          "pattern": {
           "shape": ""
          }
         },
         "name": "",
         "offsetgroup": "",
         "orientation": "v",
         "showlegend": false,
         "textposition": "auto",
         "type": "bar",
         "x": [
          54,
          1628,
          975,
          1627,
          53
         ],
         "xaxis": "x",
         "y": [
          291684500,
          230880100,
          130510400,
          124018500,
          107258700
         ],
         "yaxis": "y"
        }
       ],
       "layout": {
        "barmode": "relative",
        "legend": {
         "tracegroupgap": 0
        },
        "template": {
         "data": {
          "bar": [
           {
            "error_x": {
             "color": "#2a3f5f"
            },
            "error_y": {
             "color": "#2a3f5f"
            },
            "marker": {
             "line": {
              "color": "#E5ECF6",
              "width": 0.5
             },
             "pattern": {
              "fillmode": "overlay",
              "size": 10,
              "solidity": 0.2
             }
            },
            "type": "bar"
           }
          ],
          "barpolar": [
           {
            "marker": {
             "line": {
              "color": "#E5ECF6",
              "width": 0.5
             },
             "pattern": {
              "fillmode": "overlay",
              "size": 10,
              "solidity": 0.2
             }
            },
            "type": "barpolar"
           }
          ],
          "carpet": [
           {
            "aaxis": {
             "endlinecolor": "#2a3f5f",
             "gridcolor": "white",
             "linecolor": "white",
             "minorgridcolor": "white",
             "startlinecolor": "#2a3f5f"
            },
            "baxis": {
             "endlinecolor": "#2a3f5f",
             "gridcolor": "white",
             "linecolor": "white",
             "minorgridcolor": "white",
             "startlinecolor": "#2a3f5f"
            },
            "type": "carpet"
           }
          ],
          "choropleth": [
           {
            "colorbar": {
             "outlinewidth": 0,
             "ticks": ""
            },
            "type": "choropleth"
           }
          ],
          "contour": [
           {
            "colorbar": {
             "outlinewidth": 0,
             "ticks": ""
            },
            "colorscale": [
             [
              0,
              "#0d0887"
             ],
             [
              0.1111111111111111,
              "#46039f"
             ],
             [
              0.2222222222222222,
              "#7201a8"
             ],
             [
              0.3333333333333333,
              "#9c179e"
             ],
             [
              0.4444444444444444,
              "#bd3786"
             ],
             [
              0.5555555555555556,
              "#d8576b"
             ],
             [
              0.6666666666666666,
              "#ed7953"
             ],
             [
              0.7777777777777778,
              "#fb9f3a"
             ],
             [
              0.8888888888888888,
              "#fdca26"
             ],
             [
              1,
              "#f0f921"
             ]
            ],
            "type": "contour"
           }
          ],
          "contourcarpet": [
           {
            "colorbar": {
             "outlinewidth": 0,
             "ticks": ""
            },
            "type": "contourcarpet"
           }
          ],
          "heatmap": [
           {
            "colorbar": {
             "outlinewidth": 0,
             "ticks": ""
            },
            "colorscale": [
             [
              0,
              "#0d0887"
             ],
             [
              0.1111111111111111,
              "#46039f"
             ],
             [
              0.2222222222222222,
              "#7201a8"
             ],
             [
              0.3333333333333333,
              "#9c179e"
             ],
             [
              0.4444444444444444,
              "#bd3786"
             ],
             [
              0.5555555555555556,
              "#d8576b"
             ],
             [
              0.6666666666666666,
              "#ed7953"
             ],
             [
              0.7777777777777778,
              "#fb9f3a"
             ],
             [
              0.8888888888888888,
              "#fdca26"
             ],
             [
              1,
              "#f0f921"
             ]
            ],
            "type": "heatmap"
           }
          ],
          "heatmapgl": [
           {
            "colorbar": {
             "outlinewidth": 0,
             "ticks": ""
            },
            "colorscale": [
             [
              0,
              "#0d0887"
             ],
             [
              0.1111111111111111,
              "#46039f"
             ],
             [
              0.2222222222222222,
              "#7201a8"
             ],
             [
              0.3333333333333333,
              "#9c179e"
             ],
             [
              0.4444444444444444,
              "#bd3786"
             ],
             [
              0.5555555555555556,
              "#d8576b"
             ],
             [
              0.6666666666666666,
              "#ed7953"
             ],
             [
              0.7777777777777778,
              "#fb9f3a"
             ],
             [
              0.8888888888888888,
              "#fdca26"
             ],
             [
              1,
              "#f0f921"
             ]
            ],
            "type": "heatmapgl"
           }
          ],
          "histogram": [
           {
            "marker": {
             "pattern": {
              "fillmode": "overlay",
              "size": 10,
              "solidity": 0.2
             }
            },
            "type": "histogram"
           }
          ],
          "histogram2d": [
           {
            "colorbar": {
             "outlinewidth": 0,
             "ticks": ""
            },
            "colorscale": [
             [
              0,
              "#0d0887"
             ],
             [
              0.1111111111111111,
              "#46039f"
             ],
             [
              0.2222222222222222,
              "#7201a8"
             ],
             [
              0.3333333333333333,
              "#9c179e"
             ],
             [
              0.4444444444444444,
              "#bd3786"
             ],
             [
              0.5555555555555556,
              "#d8576b"
             ],
             [
              0.6666666666666666,
              "#ed7953"
             ],
             [
              0.7777777777777778,
              "#fb9f3a"
             ],
             [
              0.8888888888888888,
              "#fdca26"
             ],
             [
              1,
              "#f0f921"
             ]
            ],
            "type": "histogram2d"
           }
          ],
          "histogram2dcontour": [
           {
            "colorbar": {
             "outlinewidth": 0,
             "ticks": ""
            },
            "colorscale": [
             [
              0,
              "#0d0887"
             ],
             [
              0.1111111111111111,
              "#46039f"
             ],
             [
              0.2222222222222222,
              "#7201a8"
             ],
             [
              0.3333333333333333,
              "#9c179e"
             ],
             [
              0.4444444444444444,
              "#bd3786"
             ],
             [
              0.5555555555555556,
              "#d8576b"
             ],
             [
              0.6666666666666666,
              "#ed7953"
             ],
             [
              0.7777777777777778,
              "#fb9f3a"
             ],
             [
              0.8888888888888888,
              "#fdca26"
             ],
             [
              1,
              "#f0f921"
             ]
            ],
            "type": "histogram2dcontour"
           }
          ],
          "mesh3d": [
           {
            "colorbar": {
             "outlinewidth": 0,
             "ticks": ""
            },
            "type": "mesh3d"
           }
          ],
          "parcoords": [
           {
            "line": {
             "colorbar": {
              "outlinewidth": 0,
              "ticks": ""
             }
            },
            "type": "parcoords"
           }
          ],
          "pie": [
           {
            "automargin": true,
            "type": "pie"
           }
          ],
          "scatter": [
           {
            "fillpattern": {
             "fillmode": "overlay",
             "size": 10,
             "solidity": 0.2
            },
            "type": "scatter"
           }
          ],
          "scatter3d": [
           {
            "line": {
             "colorbar": {
              "outlinewidth": 0,
              "ticks": ""
             }
            },
            "marker": {
             "colorbar": {
              "outlinewidth": 0,
              "ticks": ""
             }
            },
            "type": "scatter3d"
           }
          ],
          "scattercarpet": [
           {
            "marker": {
             "colorbar": {
              "outlinewidth": 0,
              "ticks": ""
             }
            },
            "type": "scattercarpet"
           }
          ],
          "scattergeo": [
           {
            "marker": {
             "colorbar": {
              "outlinewidth": 0,
              "ticks": ""
             }
            },
            "type": "scattergeo"
           }
          ],
          "scattergl": [
           {
            "marker": {
             "colorbar": {
              "outlinewidth": 0,
              "ticks": ""
             }
            },
            "type": "scattergl"
           }
          ],
          "scattermapbox": [
           {
            "marker": {
             "colorbar": {
              "outlinewidth": 0,
              "ticks": ""
             }
            },
            "type": "scattermapbox"
           }
          ],
          "scatterpolar": [
           {
            "marker": {
             "colorbar": {
              "outlinewidth": 0,
              "ticks": ""
             }
            },
            "type": "scatterpolar"
           }
          ],
          "scatterpolargl": [
           {
            "marker": {
             "colorbar": {
              "outlinewidth": 0,
              "ticks": ""
             }
            },
            "type": "scatterpolargl"
           }
          ],
          "scatterternary": [
           {
            "marker": {
             "colorbar": {
              "outlinewidth": 0,
              "ticks": ""
             }
            },
            "type": "scatterternary"
           }
          ],
          "surface": [
           {
            "colorbar": {
             "outlinewidth": 0,
             "ticks": ""
            },
            "colorscale": [
             [
              0,
              "#0d0887"
             ],
             [
              0.1111111111111111,
              "#46039f"
             ],
             [
              0.2222222222222222,
              "#7201a8"
             ],
             [
              0.3333333333333333,
              "#9c179e"
             ],
             [
              0.4444444444444444,
              "#bd3786"
             ],
             [
              0.5555555555555556,
              "#d8576b"
             ],
             [
              0.6666666666666666,
              "#ed7953"
             ],
             [
              0.7777777777777778,
              "#fb9f3a"
             ],
             [
              0.8888888888888888,
              "#fdca26"
             ],
             [
              1,
              "#f0f921"
             ]
            ],
            "type": "surface"
           }
          ],
          "table": [
           {
            "cells": {
             "fill": {
              "color": "#EBF0F8"
             },
             "line": {
              "color": "white"
             }
            },
            "header": {
             "fill": {
              "color": "#C8D4E3"
             },
             "line": {
              "color": "white"
             }
            },
            "type": "table"
           }
          ]
         },
         "layout": {
          "annotationdefaults": {
           "arrowcolor": "#2a3f5f",
           "arrowhead": 0,
           "arrowwidth": 1
          },
          "autotypenumbers": "strict",
          "coloraxis": {
           "colorbar": {
            "outlinewidth": 0,
            "ticks": ""
           }
          },
          "colorscale": {
           "diverging": [
            [
             0,
             "#8e0152"
            ],
            [
             0.1,
             "#c51b7d"
            ],
            [
             0.2,
             "#de77ae"
            ],
            [
             0.3,
             "#f1b6da"
            ],
            [
             0.4,
             "#fde0ef"
            ],
            [
             0.5,
             "#f7f7f7"
            ],
            [
             0.6,
             "#e6f5d0"
            ],
            [
             0.7,
             "#b8e186"
            ],
            [
             0.8,
             "#7fbc41"
            ],
            [
             0.9,
             "#4d9221"
            ],
            [
             1,
             "#276419"
            ]
           ],
           "sequential": [
            [
             0,
             "#0d0887"
            ],
            [
             0.1111111111111111,
             "#46039f"
            ],
            [
             0.2222222222222222,
             "#7201a8"
            ],
            [
             0.3333333333333333,
             "#9c179e"
            ],
            [
             0.4444444444444444,
             "#bd3786"
            ],
            [
             0.5555555555555556,
             "#d8576b"
            ],
            [
             0.6666666666666666,
             "#ed7953"
            ],
            [
             0.7777777777777778,
             "#fb9f3a"
            ],
            [
             0.8888888888888888,
             "#fdca26"
            ],
            [
             1,
             "#f0f921"
            ]
           ],
           "sequentialminus": [
            [
             0,
             "#0d0887"
            ],
            [
             0.1111111111111111,
             "#46039f"
            ],
            [
             0.2222222222222222,
             "#7201a8"
            ],
            [
             0.3333333333333333,
             "#9c179e"
            ],
            [
             0.4444444444444444,
             "#bd3786"
            ],
            [
             0.5555555555555556,
             "#d8576b"
            ],
            [
             0.6666666666666666,
             "#ed7953"
            ],
            [
             0.7777777777777778,
             "#fb9f3a"
            ],
            [
             0.8888888888888888,
             "#fdca26"
            ],
            [
             1,
             "#f0f921"
            ]
           ]
          },
          "colorway": [
           "#636efa",
           "#EF553B",
           "#00cc96",
           "#ab63fa",
           "#FFA15A",
           "#19d3f3",
           "#FF6692",
           "#B6E880",
           "#FF97FF",
           "#FECB52"
          ],
          "font": {
           "color": "#2a3f5f"
          },
          "geo": {
           "bgcolor": "white",
           "lakecolor": "white",
           "landcolor": "#E5ECF6",
           "showlakes": true,
           "showland": true,
           "subunitcolor": "white"
          },
          "hoverlabel": {
           "align": "left"
          },
          "hovermode": "closest",
          "mapbox": {
           "style": "light"
          },
          "paper_bgcolor": "white",
          "plot_bgcolor": "#E5ECF6",
          "polar": {
           "angularaxis": {
            "gridcolor": "white",
            "linecolor": "white",
            "ticks": ""
           },
           "bgcolor": "#E5ECF6",
           "radialaxis": {
            "gridcolor": "white",
            "linecolor": "white",
            "ticks": ""
           }
          },
          "scene": {
           "xaxis": {
            "backgroundcolor": "#E5ECF6",
            "gridcolor": "white",
            "gridwidth": 2,
            "linecolor": "white",
            "showbackground": true,
            "ticks": "",
            "zerolinecolor": "white"
           },
           "yaxis": {
            "backgroundcolor": "#E5ECF6",
            "gridcolor": "white",
            "gridwidth": 2,
            "linecolor": "white",
            "showbackground": true,
            "ticks": "",
            "zerolinecolor": "white"
           },
           "zaxis": {
            "backgroundcolor": "#E5ECF6",
            "gridcolor": "white",
            "gridwidth": 2,
            "linecolor": "white",
            "showbackground": true,
            "ticks": "",
            "zerolinecolor": "white"
           }
          },
          "shapedefaults": {
           "line": {
            "color": "#2a3f5f"
           }
          },
          "ternary": {
           "aaxis": {
            "gridcolor": "white",
            "linecolor": "white",
            "ticks": ""
           },
           "baxis": {
            "gridcolor": "white",
            "linecolor": "white",
            "ticks": ""
           },
           "bgcolor": "#E5ECF6",
           "caxis": {
            "gridcolor": "white",
            "linecolor": "white",
            "ticks": ""
           }
          },
          "title": {
           "x": 0.05
          },
          "xaxis": {
           "automargin": true,
           "gridcolor": "white",
           "linecolor": "white",
           "ticks": "",
           "title": {
            "standoff": 15
           },
           "zerolinecolor": "white",
           "zerolinewidth": 2
          },
          "yaxis": {
           "automargin": true,
           "gridcolor": "white",
           "linecolor": "white",
           "ticks": "",
           "title": {
            "standoff": 15
           },
           "zerolinecolor": "white",
           "zerolinewidth": 2
          }
         }
        },
        "title": {
         "text": "Top 5 Products by Amount"
        },
        "xaxis": {
         "anchor": "y",
         "domain": [
          0,
          1
         ],
         "title": {
          "text": "Product ID"
         }
        },
        "yaxis": {
         "anchor": "x",
         "domain": [
          0,
          1
         ],
         "title": {
          "text": "Total Amount"
         }
        }
       }
      }
     },
     "metadata": {},
     "output_type": "display_data"
    }
   ],
   "source": [
    "def graph(question,query,df_dict,table_schema,queryResult):\n",
    "\n",
    "    prompt = \"\"\"**Task:** Write Python code using pandas and plotly **without any comments** to generate the graph based on the provided data.\n",
    "\n",
    "**Context:**\n",
    "- Table schema: {}\n",
    "- Input SQL query (with potential joins): {}\n",
    "- Query result: {}\n",
    "- Input question: {}\n",
    "\n",
    "**Requirements:**\n",
    "- Handle empty results with \"No data found.\"\n",
    "- Gracefully handle errors with \"Try it in another way.\"\n",
    "\n",
    "**Example:**\n",
    "> import pandas as pd\n",
    "> import plotly\n",
    "> \n",
    "> ...\n",
    "> \n",
    "\"\"\".format(table_schema, query, queryResult, question)\n",
    "\n",
    "\n",
    "    request = openai.ChatCompletion.create(\n",
    "        engine=\"gpt-35-turbo\",\n",
    "        messages=[\n",
    "            {\"role\": \"user\", \"content\": prompt},\n",
    "        ],\n",
    "                stop=None,\n",
    "       \n",
    "    )\n",
    "    answer = request.choices[0].message.content\n",
    "    return answer\n",
    "\n",
    "graph_code = graph(text,query,df_dict,table_schema,queryResult)\n",
    "graph_code\n",
    "exec(graph_code)"
   ]
  },
  {
   "cell_type": "code",
   "execution_count": 262,
   "metadata": {},
   "outputs": [
    {
     "data": {
      "text/plain": [
       "\"import pandas as pd\\nimport plotly.express as px\\n\\n# input query result\\ndata = {'product_id': [54, 1628, 975, 1627, 53],\\n        'total_amount': [2.916845e+08, 2.308801e+08, 1.305104e+08, 1.240185e+08, 1.072587e+08]}\\ndf = pd.DataFrame(data)\\n\\n# create bar plot\\nfig = px.bar(df, x='product_id', y='total_amount', title='Top 5 Products by Amount')\\nfig.update_layout(xaxis_title='Product ID', yaxis_title='Total Amount')\\nfig.show()\""
      ]
     },
     "execution_count": 262,
     "metadata": {},
     "output_type": "execute_result"
    }
   ],
   "source": [
    "graph_code"
   ]
  },
  {
   "cell_type": "code",
   "execution_count": 221,
   "metadata": {},
   "outputs": [
    {
     "data": {
      "text/plain": [
       "'**Response:** The top 5 products sales in each country are as follows:\\n\\nIn Emirates:\\n1. LikeCard Gift Card 20 SAR (KSA Account)\\n2. LikeCard Gift Card 20 AED (UAE Account)\\n3. Binance 1000 Tether ( USDT ) - Global\\n\\nIn Saudi Arabia:\\n1. noon 1000 AED - (Shipping only in UAE)\\n\\nPlease note that there is no data available for other countries.'"
      ]
     },
     "execution_count": 221,
     "metadata": {},
     "output_type": "execute_result"
    }
   ],
   "source": [
    "\n",
    "request = openai.ChatCompletion.create(\n",
    "        engine=\"gpt-35-turbo\",\n",
    "        messages=[\n",
    "            {\"role\": \"user\", \"content\": result_prompt},\n",
    "        ],\n",
    "        stop=None,\n",
    "        temperature=0.7,\n",
    "        max_tokens=800,\n",
    "        top_p=0.95,\n",
    "        frequency_penalty=0,\n",
    "        presence_penalty=0,\n",
    "    )\n",
    "answer = request.choices[0].message.content\n",
    "answer\n"
   ]
  },
  {
   "cell_type": "code",
   "execution_count": 214,
   "metadata": {},
   "outputs": [
    {
     "name": "stdout",
     "output_type": "stream",
     "text": [
      "2024-01-09 15:54:07,891 INFO sqlalchemy.engine.Engine SELECT [INFORMATION_SCHEMA].[TABLES].[TABLE_NAME] \n",
      "FROM [INFORMATION_SCHEMA].[TABLES] \n",
      "WHERE [INFORMATION_SCHEMA].[TABLES].[TABLE_TYPE] = CAST(? AS NVARCHAR(max)) AND [INFORMATION_SCHEMA].[TABLES].[TABLE_NAME] = CAST(? AS NVARCHAR(max)) AND [INFORMATION_SCHEMA].[TABLES].[TABLE_SCHEMA] = CAST(? AS NVARCHAR(max))\n",
      "2024-01-09 15:54:07,898 INFO sqlalchemy.engine.Engine [cached since 1.204e+04s ago] ('BASE TABLE', '(SELECT product_name, country, SUM(qty) as total_sales\\nFROM fact_transactions\\nJOIN dim_products ON fact_transactions.product_id = dim_products.product_id\\nJOIN dim_stores ON fact_transactions.store_id = dim_stores.country_id\\nGROUP BY product_name, country\\nORDER BY total_sales DESC\\nLIMIT 5)', 'dbo')\n",
      "2024-01-09 15:54:08,621 INFO sqlalchemy.engine.Engine (SELECT product_name, country, SUM(qty) as total_sales\n",
      "FROM fact_transactions\n",
      "JOIN dim_products ON fact_transactions.product_id = dim_products.product_id\n",
      "JOIN dim_stores ON fact_transactions.store_id = dim_stores.country_id\n",
      "GROUP BY product_name, country\n",
      "ORDER BY total_sales DESC\n",
      "LIMIT 5)\n",
      "2024-01-09 15:54:08,621 INFO sqlalchemy.engine.Engine [raw sql] ()\n",
      "2024-01-09 15:54:08,926 INFO sqlalchemy.engine.Engine ROLLBACK\n",
      "Error executing query: (pyodbc.ProgrammingError) ('42000', \"[42000] [Microsoft][ODBC Driver 18 for SQL Server][SQL Server]Incorrect syntax near the keyword 'ORDER'. (156) (SQLExecDirectW)\")\n",
      "[SQL: (SELECT product_name, country, SUM(qty) as total_sales\n",
      "FROM fact_transactions\n",
      "JOIN dim_products ON fact_transactions.product_id = dim_products.product_id\n",
      "JOIN dim_stores ON fact_transactions.store_id = dim_stores.country_id\n",
      "GROUP BY product_name, country\n",
      "ORDER BY total_sales DESC\n",
      "LIMIT 5)]\n",
      "(Background on this error at: https://sqlalche.me/e/14/f405)\n",
      "Retrying... (Attempt 1/6)\n",
      "2024-01-09 15:54:10,445 INFO sqlalchemy.engine.Engine SELECT [INFORMATION_SCHEMA].[TABLES].[TABLE_NAME] \n",
      "FROM [INFORMATION_SCHEMA].[TABLES] \n",
      "WHERE [INFORMATION_SCHEMA].[TABLES].[TABLE_TYPE] = CAST(? AS NVARCHAR(max)) AND [INFORMATION_SCHEMA].[TABLES].[TABLE_NAME] = CAST(? AS NVARCHAR(max)) AND [INFORMATION_SCHEMA].[TABLES].[TABLE_SCHEMA] = CAST(? AS NVARCHAR(max))\n",
      "2024-01-09 15:54:10,456 INFO sqlalchemy.engine.Engine [cached since 1.205e+04s ago] ('BASE TABLE', '(SELECT TOP 5 * FROM\\n  (SELECT p.product_name, COUNT(*) AS sales_count, s.country\\n  FROM dim_products AS p\\n  JOIN fact_transactions AS ft ON p.pro ... (7 characters truncated) ...  = ft.product_id\\n  JOIN dim_stores AS s ON ft.store_id = s.country_id\\n  GROUP BY p.product_name, s.country) AS subquery\\nORDER BY sales_count DESC)', 'dbo')\n",
      "2024-01-09 15:54:11,159 INFO sqlalchemy.engine.Engine (SELECT TOP 5 * FROM\n",
      "  (SELECT p.product_name, COUNT(*) AS sales_count, s.country\n",
      "  FROM dim_products AS p\n",
      "  JOIN fact_transactions AS ft ON p.product_id = ft.product_id\n",
      "  JOIN dim_stores AS s ON ft.store_id = s.country_id\n",
      "  GROUP BY p.product_name, s.country) AS subquery\n",
      "ORDER BY sales_count DESC)\n",
      "2024-01-09 15:54:11,159 INFO sqlalchemy.engine.Engine [raw sql] ()\n",
      "2024-01-09 15:54:11,575 INFO sqlalchemy.engine.Engine ROLLBACK\n",
      "Error executing query: (pyodbc.ProgrammingError) ('42000', \"[42000] [Microsoft][ODBC Driver 18 for SQL Server][SQL Server]Incorrect syntax near the keyword 'ORDER'. (156) (SQLExecDirectW)\")\n",
      "[SQL: (SELECT TOP 5 * FROM\n",
      "  (SELECT p.product_name, COUNT(*) AS sales_count, s.country\n",
      "  FROM dim_products AS p\n",
      "  JOIN fact_transactions AS ft ON p.product_id = ft.product_id\n",
      "  JOIN dim_stores AS s ON ft.store_id = s.country_id\n",
      "  GROUP BY p.product_name, s.country) AS subquery\n",
      "ORDER BY sales_count DESC)]\n",
      "(Background on this error at: https://sqlalche.me/e/14/f405)\n",
      "Retrying... (Attempt 2/6)\n",
      "2024-01-09 15:54:12,701 INFO sqlalchemy.engine.Engine SELECT [INFORMATION_SCHEMA].[TABLES].[TABLE_NAME] \n",
      "FROM [INFORMATION_SCHEMA].[TABLES] \n",
      "WHERE [INFORMATION_SCHEMA].[TABLES].[TABLE_TYPE] = CAST(? AS NVARCHAR(max)) AND [INFORMATION_SCHEMA].[TABLES].[TABLE_NAME] = CAST(? AS NVARCHAR(max)) AND [INFORMATION_SCHEMA].[TABLES].[TABLE_SCHEMA] = CAST(? AS NVARCHAR(max))\n",
      "2024-01-09 15:54:12,701 INFO sqlalchemy.engine.Engine [cached since 1.205e+04s ago] ('BASE TABLE', '(SELECT \\n    product_name,\\n    SUM(qty) as total_sales,\\n    country \\nFROM \\n    dbo.dim_products\\nJOIN \\n    dbo.fact_transactions ON dim_product ... (108 characters truncated) ... actions.store_id\\nGROUP BY \\n    product_name, country\\nORDER BY \\n    country, total_sales DESC)\\nGROUP BY \\n    country\\nHAVING \\n    COUNT(*) >= 5', 'dbo')\n",
      "2024-01-09 15:54:13,312 INFO sqlalchemy.engine.Engine (SELECT \n",
      "    product_name,\n",
      "    SUM(qty) as total_sales,\n",
      "    country \n",
      "FROM \n",
      "    dbo.dim_products\n",
      "JOIN \n",
      "    dbo.fact_transactions ON dim_products.product_id = fact_transactions.product_id\n",
      "JOIN \n",
      "    dbo.dim_stores ON dim_stores.country_id = fact_transactions.store_id\n",
      "GROUP BY \n",
      "    product_name, country\n",
      "ORDER BY \n",
      "    country, total_sales DESC)\n",
      "GROUP BY \n",
      "    country\n",
      "HAVING \n",
      "    COUNT(*) >= 5\n",
      "2024-01-09 15:54:13,312 INFO sqlalchemy.engine.Engine [raw sql] ()\n",
      "2024-01-09 15:54:13,624 INFO sqlalchemy.engine.Engine ROLLBACK\n",
      "Error executing query: (pyodbc.ProgrammingError) ('42000', \"[42000] [Microsoft][ODBC Driver 18 for SQL Server][SQL Server]Incorrect syntax near the keyword 'ORDER'. (156) (SQLExecDirectW)\")\n",
      "[SQL: (SELECT \n",
      "    product_name,\n",
      "    SUM(qty) as total_sales,\n",
      "    country \n",
      "FROM \n",
      "    dbo.dim_products\n",
      "JOIN \n",
      "    dbo.fact_transactions ON dim_products.product_id = fact_transactions.product_id\n",
      "JOIN \n",
      "    dbo.dim_stores ON dim_stores.country_id = fact_transactions.store_id\n",
      "GROUP BY \n",
      "    product_name, country\n",
      "ORDER BY \n",
      "    country, total_sales DESC)\n",
      "GROUP BY \n",
      "    country\n",
      "HAVING \n",
      "    COUNT(*) >= 5]\n",
      "(Background on this error at: https://sqlalche.me/e/14/f405)\n",
      "Retrying... (Attempt 3/6)\n",
      "2024-01-09 15:54:15,364 INFO sqlalchemy.engine.Engine SELECT [INFORMATION_SCHEMA].[TABLES].[TABLE_NAME] \n",
      "FROM [INFORMATION_SCHEMA].[TABLES] \n",
      "WHERE [INFORMATION_SCHEMA].[TABLES].[TABLE_TYPE] = CAST(? AS NVARCHAR(max)) AND [INFORMATION_SCHEMA].[TABLES].[TABLE_NAME] = CAST(? AS NVARCHAR(max)) AND [INFORMATION_SCHEMA].[TABLES].[TABLE_SCHEMA] = CAST(? AS NVARCHAR(max))\n",
      "2024-01-09 15:54:15,370 INFO sqlalchemy.engine.Engine [cached since 1.205e+04s ago] ('BASE TABLE', '(SELECT \\n    dp.product_name, \\n    ds.country, \\n    SUM(ft.total_amount) AS total_sales\\nFROM \\n    dim_products dp\\n    INNER JOIN fact_transacti ... (317 characters truncated) ...  FROM \\n        subquery \\n    WHERE \\n        subquery.country = country\\n    ORDER BY \\n        total_sales DESC\\n    ) AS top_5_sales_per_country;', 'dbo')\n",
      "2024-01-09 15:54:16,177 INFO sqlalchemy.engine.Engine (SELECT \n",
      "    dp.product_name, \n",
      "    ds.country, \n",
      "    SUM(ft.total_amount) AS total_sales\n",
      "FROM \n",
      "    dim_products dp\n",
      "    INNER JOIN fact_transactions ft ON dp.product_id = ft.product_id\n",
      "    INNER JOIN dim_stores ds ON ft.store_id = ds.store_id\n",
      "GROUP BY \n",
      "    dp.product_name, \n",
      "    ds.country\n",
      "ORDER BY \n",
      "    ds.country, \n",
      "    total_sales DESC\n",
      ") AS subquery\n",
      "CROSS APPLY \n",
      "    (SELECT TOP 5 \n",
      "        product_name, \n",
      "        country, \n",
      "        total_sales\n",
      "    FROM \n",
      "        subquery \n",
      "    WHERE \n",
      "        subquery.country = country\n",
      "    ORDER BY \n",
      "        total_sales DESC\n",
      "    ) AS top_5_sales_per_country;\n",
      "2024-01-09 15:54:16,177 INFO sqlalchemy.engine.Engine [raw sql] ()\n",
      "2024-01-09 15:54:16,492 INFO sqlalchemy.engine.Engine ROLLBACK\n",
      "Error executing query: (pyodbc.ProgrammingError) ('42000', \"[42000] [Microsoft][ODBC Driver 18 for SQL Server][SQL Server]Incorrect syntax near the keyword 'ORDER'. (156) (SQLExecDirectW); [42000] [Microsoft][ODBC Driver 18 for SQL Server][SQL Server]Incorrect syntax near the keyword 'ORDER'. (156)\")\n",
      "[SQL: (SELECT \n",
      "    dp.product_name, \n",
      "    ds.country, \n",
      "    SUM(ft.total_amount) AS total_sales\n",
      "FROM \n",
      "    dim_products dp\n",
      "    INNER JOIN fact_transactions ft ON dp.product_id = ft.product_id\n",
      "    INNER JOIN dim_stores ds ON ft.store_id = ds.store_id\n",
      "GROUP BY \n",
      "    dp.product_name, \n",
      "    ds.country\n",
      "ORDER BY \n",
      "    ds.country, \n",
      "    total_sales DESC\n",
      ") AS subquery\n",
      "CROSS APPLY \n",
      "    (SELECT TOP 5 \n",
      "        product_name, \n",
      "        country, \n",
      "        total_sales\n",
      "    FROM \n",
      "        subquery \n",
      "    WHERE \n",
      "        subquery.country = country\n",
      "    ORDER BY \n",
      "        total_sales DESC\n",
      "    ) AS top_5_sales_per_country;]\n",
      "(Background on this error at: https://sqlalche.me/e/14/f405)\n",
      "Retrying... (Attempt 4/6)\n",
      "2024-01-09 15:54:17,719 INFO sqlalchemy.engine.Engine SELECT [INFORMATION_SCHEMA].[TABLES].[TABLE_NAME] \n",
      "FROM [INFORMATION_SCHEMA].[TABLES] \n",
      "WHERE [INFORMATION_SCHEMA].[TABLES].[TABLE_TYPE] = CAST(? AS NVARCHAR(max)) AND [INFORMATION_SCHEMA].[TABLES].[TABLE_NAME] = CAST(? AS NVARCHAR(max)) AND [INFORMATION_SCHEMA].[TABLES].[TABLE_SCHEMA] = CAST(? AS NVARCHAR(max))\n",
      "2024-01-09 15:54:17,725 INFO sqlalchemy.engine.Engine [cached since 1.205e+04s ago] ('BASE TABLE', '(SELECT TOP 5 dp.product_name, ds.country, SUM(ft.qty) AS sales\\nFROM dim_products dp\\nJOIN fact_transactions ft ON dp.product_id = ft.product_id\\nJOIN dim_stores ds ON ft.store_id = ds.country_id\\nGROUP BY dp.product_name, ds.country\\nORDER BY sales DESC)', 'dbo')\n",
      "2024-01-09 15:54:18,322 INFO sqlalchemy.engine.Engine (SELECT TOP 5 dp.product_name, ds.country, SUM(ft.qty) AS sales\n",
      "FROM dim_products dp\n",
      "JOIN fact_transactions ft ON dp.product_id = ft.product_id\n",
      "JOIN dim_stores ds ON ft.store_id = ds.country_id\n",
      "GROUP BY dp.product_name, ds.country\n",
      "ORDER BY sales DESC)\n",
      "2024-01-09 15:54:18,322 INFO sqlalchemy.engine.Engine [raw sql] ()\n",
      "2024-01-09 15:54:18,744 INFO sqlalchemy.engine.Engine ROLLBACK\n",
      "Error executing query: (pyodbc.ProgrammingError) ('42000', \"[42000] [Microsoft][ODBC Driver 18 for SQL Server][SQL Server]Incorrect syntax near the keyword 'ORDER'. (156) (SQLExecDirectW)\")\n",
      "[SQL: (SELECT TOP 5 dp.product_name, ds.country, SUM(ft.qty) AS sales\n",
      "FROM dim_products dp\n",
      "JOIN fact_transactions ft ON dp.product_id = ft.product_id\n",
      "JOIN dim_stores ds ON ft.store_id = ds.country_id\n",
      "GROUP BY dp.product_name, ds.country\n",
      "ORDER BY sales DESC)]\n",
      "(Background on this error at: https://sqlalche.me/e/14/f405)\n",
      "Retrying... (Attempt 5/6)\n",
      "2024-01-09 15:54:20,180 INFO sqlalchemy.engine.Engine SELECT [INFORMATION_SCHEMA].[TABLES].[TABLE_NAME] \n",
      "FROM [INFORMATION_SCHEMA].[TABLES] \n",
      "WHERE [INFORMATION_SCHEMA].[TABLES].[TABLE_TYPE] = CAST(? AS NVARCHAR(max)) AND [INFORMATION_SCHEMA].[TABLES].[TABLE_NAME] = CAST(? AS NVARCHAR(max)) AND [INFORMATION_SCHEMA].[TABLES].[TABLE_SCHEMA] = CAST(? AS NVARCHAR(max))\n",
      "2024-01-09 15:54:20,180 INFO sqlalchemy.engine.Engine [cached since 1.206e+04s ago] ('BASE TABLE', '(SELECT country, product_name, SUM(qty) AS sales\\nFROM fact_transactions\\nJOIN dim_products ON fact_transactions.product_id = dim_products.product_id\\nJOIN dim_stores ON fact_transactions.store_id = dim_stores.store_id\\nGROUP BY country, product_name\\nORDER BY country, sales DESC)\\n', 'dbo')\n",
      "2024-01-09 15:54:20,891 INFO sqlalchemy.engine.Engine (SELECT country, product_name, SUM(qty) AS sales\n",
      "FROM fact_transactions\n",
      "JOIN dim_products ON fact_transactions.product_id = dim_products.product_id\n",
      "JOIN dim_stores ON fact_transactions.store_id = dim_stores.store_id\n",
      "GROUP BY country, product_name\n",
      "ORDER BY country, sales DESC)\n",
      "\n",
      "2024-01-09 15:54:20,891 INFO sqlalchemy.engine.Engine [raw sql] ()\n",
      "2024-01-09 15:54:21,302 INFO sqlalchemy.engine.Engine ROLLBACK\n",
      "Error executing query: (pyodbc.ProgrammingError) ('42000', \"[42000] [Microsoft][ODBC Driver 18 for SQL Server][SQL Server]Incorrect syntax near the keyword 'ORDER'. (156) (SQLExecDirectW)\")\n",
      "[SQL: (SELECT country, product_name, SUM(qty) AS sales\n",
      "FROM fact_transactions\n",
      "JOIN dim_products ON fact_transactions.product_id = dim_products.product_id\n",
      "JOIN dim_stores ON fact_transactions.store_id = dim_stores.store_id\n",
      "GROUP BY country, product_name\n",
      "ORDER BY country, sales DESC)\n",
      "]\n",
      "(Background on this error at: https://sqlalche.me/e/14/f405)\n",
      "Max retry attempts reached. Exiting.\n"
     ]
    },
    {
     "ename": "ProgrammingError",
     "evalue": "(pyodbc.ProgrammingError) ('42000', \"[42000] [Microsoft][ODBC Driver 18 for SQL Server][SQL Server]Incorrect syntax near the keyword 'ORDER'. (156) (SQLExecDirectW)\")\n[SQL: (SELECT country, product_name, SUM(qty) AS sales\nFROM fact_transactions\nJOIN dim_products ON fact_transactions.product_id = dim_products.product_id\nJOIN dim_stores ON fact_transactions.store_id = dim_stores.store_id\nGROUP BY country, product_name\nORDER BY country, sales DESC)\n]\n(Background on this error at: https://sqlalche.me/e/14/f405)",
     "output_type": "error",
     "traceback": [
      "\u001b[1;31m---------------------------------------------------------------------------\u001b[0m",
      "\u001b[1;31mProgrammingError\u001b[0m                          Traceback (most recent call last)",
      "File \u001b[1;32mc:\\Users\\AbdelKaderTalaat\\anaconda3\\Lib\\site-packages\\sqlalchemy\\engine\\base.py:1819\u001b[0m, in \u001b[0;36mConnection._execute_context\u001b[1;34m(self, dialect, constructor, statement, parameters, execution_options, *args, **kw)\u001b[0m\n\u001b[0;32m   1818\u001b[0m     \u001b[38;5;28;01mif\u001b[39;00m \u001b[38;5;129;01mnot\u001b[39;00m evt_handled:\n\u001b[1;32m-> 1819\u001b[0m         \u001b[38;5;28mself\u001b[39m\u001b[38;5;241m.\u001b[39mdialect\u001b[38;5;241m.\u001b[39mdo_execute(\n\u001b[0;32m   1820\u001b[0m             cursor, statement, parameters, context\n\u001b[0;32m   1821\u001b[0m         )\n\u001b[0;32m   1823\u001b[0m \u001b[38;5;28;01mif\u001b[39;00m \u001b[38;5;28mself\u001b[39m\u001b[38;5;241m.\u001b[39m_has_events \u001b[38;5;129;01mor\u001b[39;00m \u001b[38;5;28mself\u001b[39m\u001b[38;5;241m.\u001b[39mengine\u001b[38;5;241m.\u001b[39m_has_events:\n",
      "File \u001b[1;32mc:\\Users\\AbdelKaderTalaat\\anaconda3\\Lib\\site-packages\\sqlalchemy\\engine\\default.py:732\u001b[0m, in \u001b[0;36mDefaultDialect.do_execute\u001b[1;34m(self, cursor, statement, parameters, context)\u001b[0m\n\u001b[0;32m    731\u001b[0m \u001b[38;5;28;01mdef\u001b[39;00m \u001b[38;5;21mdo_execute\u001b[39m(\u001b[38;5;28mself\u001b[39m, cursor, statement, parameters, context\u001b[38;5;241m=\u001b[39m\u001b[38;5;28;01mNone\u001b[39;00m):\n\u001b[1;32m--> 732\u001b[0m     cursor\u001b[38;5;241m.\u001b[39mexecute(statement, parameters)\n",
      "\u001b[1;31mProgrammingError\u001b[0m: ('42000', \"[42000] [Microsoft][ODBC Driver 18 for SQL Server][SQL Server]Incorrect syntax near the keyword 'ORDER'. (156) (SQLExecDirectW)\")",
      "\nThe above exception was the direct cause of the following exception:\n",
      "\u001b[1;31mProgrammingError\u001b[0m                          Traceback (most recent call last)",
      "Cell \u001b[1;32mIn[214], line 2\u001b[0m\n\u001b[0;32m      1\u001b[0m text \u001b[38;5;241m=\u001b[39m \u001b[38;5;124m'\u001b[39m\u001b[38;5;124mtop 5 prodycts sales in each country\u001b[39m\u001b[38;5;124m'\u001b[39m\n\u001b[1;32m----> 2\u001b[0m queryResult \u001b[38;5;241m=\u001b[39m executeSQLquery(df_dict,text,table_schema ,\u001b[38;5;241m6\u001b[39m)\n\u001b[0;32m      3\u001b[0m result_prompt \u001b[38;5;241m=\u001b[39m get_result_prompt(text,query,df_dict,table_schema,queryResult)\n\u001b[0;32m      4\u001b[0m request \u001b[38;5;241m=\u001b[39m openai\u001b[38;5;241m.\u001b[39mChatCompletion\u001b[38;5;241m.\u001b[39mcreate(\n\u001b[0;32m      5\u001b[0m         engine\u001b[38;5;241m=\u001b[39m\u001b[38;5;124m\"\u001b[39m\u001b[38;5;124mgpt-35-turbo\u001b[39m\u001b[38;5;124m\"\u001b[39m,\n\u001b[0;32m      6\u001b[0m         messages\u001b[38;5;241m=\u001b[39m[\n\u001b[1;32m   (...)\u001b[0m\n\u001b[0;32m     14\u001b[0m         presence_penalty\u001b[38;5;241m=\u001b[39m\u001b[38;5;241m0\u001b[39m,\n\u001b[0;32m     15\u001b[0m     )\n",
      "Cell \u001b[1;32mIn[203], line 7\u001b[0m, in \u001b[0;36mexecuteSQLquery\u001b[1;34m(df_dict, text, table_schema, max_retries)\u001b[0m\n\u001b[0;32m      5\u001b[0m \u001b[38;5;28;01mtry\u001b[39;00m:\n\u001b[0;32m      6\u001b[0m     query \u001b[38;5;241m=\u001b[39m generate_sql_query(df_dict,text,table_schema)\n\u001b[1;32m----> 7\u001b[0m     result \u001b[38;5;241m=\u001b[39m pd\u001b[38;5;241m.\u001b[39mread_sql(query,engine)\n\u001b[0;32m      8\u001b[0m     \u001b[38;5;28;01mreturn\u001b[39;00m result\n\u001b[0;32m      9\u001b[0m \u001b[38;5;28;01mexcept\u001b[39;00m \u001b[38;5;167;01mException\u001b[39;00m \u001b[38;5;28;01mas\u001b[39;00m e:\n",
      "File \u001b[1;32mc:\\Users\\AbdelKaderTalaat\\anaconda3\\Lib\\site-packages\\pandas\\io\\sql.py:663\u001b[0m, in \u001b[0;36mread_sql\u001b[1;34m(sql, con, index_col, coerce_float, params, parse_dates, columns, chunksize, dtype_backend, dtype)\u001b[0m\n\u001b[0;32m    653\u001b[0m     \u001b[38;5;28;01mreturn\u001b[39;00m pandas_sql\u001b[38;5;241m.\u001b[39mread_table(\n\u001b[0;32m    654\u001b[0m         sql,\n\u001b[0;32m    655\u001b[0m         index_col\u001b[38;5;241m=\u001b[39mindex_col,\n\u001b[1;32m   (...)\u001b[0m\n\u001b[0;32m    660\u001b[0m         dtype_backend\u001b[38;5;241m=\u001b[39mdtype_backend,\n\u001b[0;32m    661\u001b[0m     )\n\u001b[0;32m    662\u001b[0m \u001b[38;5;28;01melse\u001b[39;00m:\n\u001b[1;32m--> 663\u001b[0m     \u001b[38;5;28;01mreturn\u001b[39;00m pandas_sql\u001b[38;5;241m.\u001b[39mread_query(\n\u001b[0;32m    664\u001b[0m         sql,\n\u001b[0;32m    665\u001b[0m         index_col\u001b[38;5;241m=\u001b[39mindex_col,\n\u001b[0;32m    666\u001b[0m         params\u001b[38;5;241m=\u001b[39mparams,\n\u001b[0;32m    667\u001b[0m         coerce_float\u001b[38;5;241m=\u001b[39mcoerce_float,\n\u001b[0;32m    668\u001b[0m         parse_dates\u001b[38;5;241m=\u001b[39mparse_dates,\n\u001b[0;32m    669\u001b[0m         chunksize\u001b[38;5;241m=\u001b[39mchunksize,\n\u001b[0;32m    670\u001b[0m         dtype_backend\u001b[38;5;241m=\u001b[39mdtype_backend,\n\u001b[0;32m    671\u001b[0m         dtype\u001b[38;5;241m=\u001b[39mdtype,\n\u001b[0;32m    672\u001b[0m     )\n",
      "File \u001b[1;32mc:\\Users\\AbdelKaderTalaat\\anaconda3\\Lib\\site-packages\\pandas\\io\\sql.py:1738\u001b[0m, in \u001b[0;36mSQLDatabase.read_query\u001b[1;34m(self, sql, index_col, coerce_float, parse_dates, params, chunksize, dtype, dtype_backend)\u001b[0m\n\u001b[0;32m   1681\u001b[0m \u001b[38;5;28;01mdef\u001b[39;00m \u001b[38;5;21mread_query\u001b[39m(\n\u001b[0;32m   1682\u001b[0m     \u001b[38;5;28mself\u001b[39m,\n\u001b[0;32m   1683\u001b[0m     sql: \u001b[38;5;28mstr\u001b[39m,\n\u001b[1;32m   (...)\u001b[0m\n\u001b[0;32m   1690\u001b[0m     dtype_backend: DtypeBackend \u001b[38;5;241m|\u001b[39m Literal[\u001b[38;5;124m\"\u001b[39m\u001b[38;5;124mnumpy\u001b[39m\u001b[38;5;124m\"\u001b[39m] \u001b[38;5;241m=\u001b[39m \u001b[38;5;124m\"\u001b[39m\u001b[38;5;124mnumpy\u001b[39m\u001b[38;5;124m\"\u001b[39m,\n\u001b[0;32m   1691\u001b[0m ) \u001b[38;5;241m-\u001b[39m\u001b[38;5;241m>\u001b[39m DataFrame \u001b[38;5;241m|\u001b[39m Iterator[DataFrame]:\n\u001b[0;32m   1692\u001b[0m \u001b[38;5;250m    \u001b[39m\u001b[38;5;124;03m\"\"\"\u001b[39;00m\n\u001b[0;32m   1693\u001b[0m \u001b[38;5;124;03m    Read SQL query into a DataFrame.\u001b[39;00m\n\u001b[0;32m   1694\u001b[0m \n\u001b[1;32m   (...)\u001b[0m\n\u001b[0;32m   1736\u001b[0m \n\u001b[0;32m   1737\u001b[0m \u001b[38;5;124;03m    \"\"\"\u001b[39;00m\n\u001b[1;32m-> 1738\u001b[0m     result \u001b[38;5;241m=\u001b[39m \u001b[38;5;28mself\u001b[39m\u001b[38;5;241m.\u001b[39mexecute(sql, params)\n\u001b[0;32m   1739\u001b[0m     columns \u001b[38;5;241m=\u001b[39m result\u001b[38;5;241m.\u001b[39mkeys()\n\u001b[0;32m   1741\u001b[0m     \u001b[38;5;28;01mif\u001b[39;00m chunksize \u001b[38;5;129;01mis\u001b[39;00m \u001b[38;5;129;01mnot\u001b[39;00m \u001b[38;5;28;01mNone\u001b[39;00m:\n",
      "File \u001b[1;32mc:\\Users\\AbdelKaderTalaat\\anaconda3\\Lib\\site-packages\\pandas\\io\\sql.py:1562\u001b[0m, in \u001b[0;36mSQLDatabase.execute\u001b[1;34m(self, sql, params)\u001b[0m\n\u001b[0;32m   1560\u001b[0m args \u001b[38;5;241m=\u001b[39m [] \u001b[38;5;28;01mif\u001b[39;00m params \u001b[38;5;129;01mis\u001b[39;00m \u001b[38;5;28;01mNone\u001b[39;00m \u001b[38;5;28;01melse\u001b[39;00m [params]\n\u001b[0;32m   1561\u001b[0m \u001b[38;5;28;01mif\u001b[39;00m \u001b[38;5;28misinstance\u001b[39m(sql, \u001b[38;5;28mstr\u001b[39m):\n\u001b[1;32m-> 1562\u001b[0m     \u001b[38;5;28;01mreturn\u001b[39;00m \u001b[38;5;28mself\u001b[39m\u001b[38;5;241m.\u001b[39mcon\u001b[38;5;241m.\u001b[39mexec_driver_sql(sql, \u001b[38;5;241m*\u001b[39margs)\n\u001b[0;32m   1563\u001b[0m \u001b[38;5;28;01mreturn\u001b[39;00m \u001b[38;5;28mself\u001b[39m\u001b[38;5;241m.\u001b[39mcon\u001b[38;5;241m.\u001b[39mexecute(sql, \u001b[38;5;241m*\u001b[39margs)\n",
      "File \u001b[1;32mc:\\Users\\AbdelKaderTalaat\\anaconda3\\Lib\\site-packages\\sqlalchemy\\engine\\base.py:1686\u001b[0m, in \u001b[0;36mConnection.exec_driver_sql\u001b[1;34m(self, statement, parameters, execution_options)\u001b[0m\n\u001b[0;32m   1636\u001b[0m \u001b[38;5;250m\u001b[39m\u001b[38;5;124mr\u001b[39m\u001b[38;5;124;03m\"\"\"Executes a SQL statement construct and returns a\u001b[39;00m\n\u001b[0;32m   1637\u001b[0m \u001b[38;5;124;03m:class:`_engine.CursorResult`.\u001b[39;00m\n\u001b[0;32m   1638\u001b[0m \n\u001b[1;32m   (...)\u001b[0m\n\u001b[0;32m   1681\u001b[0m \n\u001b[0;32m   1682\u001b[0m \u001b[38;5;124;03m\"\"\"\u001b[39;00m\n\u001b[0;32m   1684\u001b[0m args_10style, kwargs_10style \u001b[38;5;241m=\u001b[39m _distill_params_20(parameters)\n\u001b[1;32m-> 1686\u001b[0m \u001b[38;5;28;01mreturn\u001b[39;00m \u001b[38;5;28mself\u001b[39m\u001b[38;5;241m.\u001b[39m_exec_driver_sql(\n\u001b[0;32m   1687\u001b[0m     statement,\n\u001b[0;32m   1688\u001b[0m     args_10style,\n\u001b[0;32m   1689\u001b[0m     kwargs_10style,\n\u001b[0;32m   1690\u001b[0m     execution_options,\n\u001b[0;32m   1691\u001b[0m     future\u001b[38;5;241m=\u001b[39m\u001b[38;5;28;01mTrue\u001b[39;00m,\n\u001b[0;32m   1692\u001b[0m )\n",
      "File \u001b[1;32mc:\\Users\\AbdelKaderTalaat\\anaconda3\\Lib\\site-packages\\sqlalchemy\\engine\\base.py:1595\u001b[0m, in \u001b[0;36mConnection._exec_driver_sql\u001b[1;34m(self, statement, multiparams, params, execution_options, future)\u001b[0m\n\u001b[0;32m   1585\u001b[0m         (\n\u001b[0;32m   1586\u001b[0m             statement,\n\u001b[0;32m   1587\u001b[0m             distilled_params,\n\u001b[1;32m   (...)\u001b[0m\n\u001b[0;32m   1591\u001b[0m             statement, distilled_parameters, execution_options\n\u001b[0;32m   1592\u001b[0m         )\n\u001b[0;32m   1594\u001b[0m dialect \u001b[38;5;241m=\u001b[39m \u001b[38;5;28mself\u001b[39m\u001b[38;5;241m.\u001b[39mdialect\n\u001b[1;32m-> 1595\u001b[0m ret \u001b[38;5;241m=\u001b[39m \u001b[38;5;28mself\u001b[39m\u001b[38;5;241m.\u001b[39m_execute_context(\n\u001b[0;32m   1596\u001b[0m     dialect,\n\u001b[0;32m   1597\u001b[0m     dialect\u001b[38;5;241m.\u001b[39mexecution_ctx_cls\u001b[38;5;241m.\u001b[39m_init_statement,\n\u001b[0;32m   1598\u001b[0m     statement,\n\u001b[0;32m   1599\u001b[0m     distilled_parameters,\n\u001b[0;32m   1600\u001b[0m     execution_options,\n\u001b[0;32m   1601\u001b[0m     statement,\n\u001b[0;32m   1602\u001b[0m     distilled_parameters,\n\u001b[0;32m   1603\u001b[0m )\n\u001b[0;32m   1605\u001b[0m \u001b[38;5;28;01mif\u001b[39;00m \u001b[38;5;129;01mnot\u001b[39;00m future:\n\u001b[0;32m   1606\u001b[0m     \u001b[38;5;28;01mif\u001b[39;00m \u001b[38;5;28mself\u001b[39m\u001b[38;5;241m.\u001b[39m_has_events \u001b[38;5;129;01mor\u001b[39;00m \u001b[38;5;28mself\u001b[39m\u001b[38;5;241m.\u001b[39mengine\u001b[38;5;241m.\u001b[39m_has_events:\n",
      "File \u001b[1;32mc:\\Users\\AbdelKaderTalaat\\anaconda3\\Lib\\site-packages\\sqlalchemy\\engine\\base.py:1862\u001b[0m, in \u001b[0;36mConnection._execute_context\u001b[1;34m(self, dialect, constructor, statement, parameters, execution_options, *args, **kw)\u001b[0m\n\u001b[0;32m   1859\u001b[0m             branched\u001b[38;5;241m.\u001b[39mclose()\n\u001b[0;32m   1861\u001b[0m \u001b[38;5;28;01mexcept\u001b[39;00m \u001b[38;5;167;01mBaseException\u001b[39;00m \u001b[38;5;28;01mas\u001b[39;00m e:\n\u001b[1;32m-> 1862\u001b[0m     \u001b[38;5;28mself\u001b[39m\u001b[38;5;241m.\u001b[39m_handle_dbapi_exception(\n\u001b[0;32m   1863\u001b[0m         e, statement, parameters, cursor, context\n\u001b[0;32m   1864\u001b[0m     )\n\u001b[0;32m   1866\u001b[0m \u001b[38;5;28;01mreturn\u001b[39;00m result\n",
      "File \u001b[1;32mc:\\Users\\AbdelKaderTalaat\\anaconda3\\Lib\\site-packages\\sqlalchemy\\engine\\base.py:2043\u001b[0m, in \u001b[0;36mConnection._handle_dbapi_exception\u001b[1;34m(self, e, statement, parameters, cursor, context)\u001b[0m\n\u001b[0;32m   2041\u001b[0m     util\u001b[38;5;241m.\u001b[39mraise_(newraise, with_traceback\u001b[38;5;241m=\u001b[39mexc_info[\u001b[38;5;241m2\u001b[39m], from_\u001b[38;5;241m=\u001b[39me)\n\u001b[0;32m   2042\u001b[0m \u001b[38;5;28;01melif\u001b[39;00m should_wrap:\n\u001b[1;32m-> 2043\u001b[0m     util\u001b[38;5;241m.\u001b[39mraise_(\n\u001b[0;32m   2044\u001b[0m         sqlalchemy_exception, with_traceback\u001b[38;5;241m=\u001b[39mexc_info[\u001b[38;5;241m2\u001b[39m], from_\u001b[38;5;241m=\u001b[39me\n\u001b[0;32m   2045\u001b[0m     )\n\u001b[0;32m   2046\u001b[0m \u001b[38;5;28;01melse\u001b[39;00m:\n\u001b[0;32m   2047\u001b[0m     util\u001b[38;5;241m.\u001b[39mraise_(exc_info[\u001b[38;5;241m1\u001b[39m], with_traceback\u001b[38;5;241m=\u001b[39mexc_info[\u001b[38;5;241m2\u001b[39m])\n",
      "File \u001b[1;32mc:\\Users\\AbdelKaderTalaat\\anaconda3\\Lib\\site-packages\\sqlalchemy\\util\\compat.py:208\u001b[0m, in \u001b[0;36mraise_\u001b[1;34m(***failed resolving arguments***)\u001b[0m\n\u001b[0;32m    205\u001b[0m     exception\u001b[38;5;241m.\u001b[39m__cause__ \u001b[38;5;241m=\u001b[39m replace_context\n\u001b[0;32m    207\u001b[0m \u001b[38;5;28;01mtry\u001b[39;00m:\n\u001b[1;32m--> 208\u001b[0m     \u001b[38;5;28;01mraise\u001b[39;00m exception\n\u001b[0;32m    209\u001b[0m \u001b[38;5;28;01mfinally\u001b[39;00m:\n\u001b[0;32m    210\u001b[0m     \u001b[38;5;66;03m# credit to\u001b[39;00m\n\u001b[0;32m    211\u001b[0m     \u001b[38;5;66;03m# https://cosmicpercolator.com/2016/01/13/exception-leaks-in-python-2-and-3/\u001b[39;00m\n\u001b[0;32m    212\u001b[0m     \u001b[38;5;66;03m# as the __traceback__ object creates a cycle\u001b[39;00m\n\u001b[0;32m    213\u001b[0m     \u001b[38;5;28;01mdel\u001b[39;00m exception, replace_context, from_, with_traceback\n",
      "File \u001b[1;32mc:\\Users\\AbdelKaderTalaat\\anaconda3\\Lib\\site-packages\\sqlalchemy\\engine\\base.py:1819\u001b[0m, in \u001b[0;36mConnection._execute_context\u001b[1;34m(self, dialect, constructor, statement, parameters, execution_options, *args, **kw)\u001b[0m\n\u001b[0;32m   1817\u001b[0m                 \u001b[38;5;28;01mbreak\u001b[39;00m\n\u001b[0;32m   1818\u001b[0m     \u001b[38;5;28;01mif\u001b[39;00m \u001b[38;5;129;01mnot\u001b[39;00m evt_handled:\n\u001b[1;32m-> 1819\u001b[0m         \u001b[38;5;28mself\u001b[39m\u001b[38;5;241m.\u001b[39mdialect\u001b[38;5;241m.\u001b[39mdo_execute(\n\u001b[0;32m   1820\u001b[0m             cursor, statement, parameters, context\n\u001b[0;32m   1821\u001b[0m         )\n\u001b[0;32m   1823\u001b[0m \u001b[38;5;28;01mif\u001b[39;00m \u001b[38;5;28mself\u001b[39m\u001b[38;5;241m.\u001b[39m_has_events \u001b[38;5;129;01mor\u001b[39;00m \u001b[38;5;28mself\u001b[39m\u001b[38;5;241m.\u001b[39mengine\u001b[38;5;241m.\u001b[39m_has_events:\n\u001b[0;32m   1824\u001b[0m     \u001b[38;5;28mself\u001b[39m\u001b[38;5;241m.\u001b[39mdispatch\u001b[38;5;241m.\u001b[39mafter_cursor_execute(\n\u001b[0;32m   1825\u001b[0m         \u001b[38;5;28mself\u001b[39m,\n\u001b[0;32m   1826\u001b[0m         cursor,\n\u001b[1;32m   (...)\u001b[0m\n\u001b[0;32m   1830\u001b[0m         context\u001b[38;5;241m.\u001b[39mexecutemany,\n\u001b[0;32m   1831\u001b[0m     )\n",
      "File \u001b[1;32mc:\\Users\\AbdelKaderTalaat\\anaconda3\\Lib\\site-packages\\sqlalchemy\\engine\\default.py:732\u001b[0m, in \u001b[0;36mDefaultDialect.do_execute\u001b[1;34m(self, cursor, statement, parameters, context)\u001b[0m\n\u001b[0;32m    731\u001b[0m \u001b[38;5;28;01mdef\u001b[39;00m \u001b[38;5;21mdo_execute\u001b[39m(\u001b[38;5;28mself\u001b[39m, cursor, statement, parameters, context\u001b[38;5;241m=\u001b[39m\u001b[38;5;28;01mNone\u001b[39;00m):\n\u001b[1;32m--> 732\u001b[0m     cursor\u001b[38;5;241m.\u001b[39mexecute(statement, parameters)\n",
      "\u001b[1;31mProgrammingError\u001b[0m: (pyodbc.ProgrammingError) ('42000', \"[42000] [Microsoft][ODBC Driver 18 for SQL Server][SQL Server]Incorrect syntax near the keyword 'ORDER'. (156) (SQLExecDirectW)\")\n[SQL: (SELECT country, product_name, SUM(qty) AS sales\nFROM fact_transactions\nJOIN dim_products ON fact_transactions.product_id = dim_products.product_id\nJOIN dim_stores ON fact_transactions.store_id = dim_stores.store_id\nGROUP BY country, product_name\nORDER BY country, sales DESC)\n]\n(Background on this error at: https://sqlalche.me/e/14/f405)"
     ]
    }
   ],
   "source": [
    "text = 'top 5 prodycts sales in each country'\n",
    "queryResult = executeSQLquery(df_dict,text,table_schema ,6)\n",
    "result_prompt = get_result_prompt(text,query,df_dict,table_schema,queryResult)\n",
    "request = openai.ChatCompletion.create(\n",
    "        engine=\"gpt-35-turbo\",\n",
    "        messages=[\n",
    "            {\"role\": \"user\", \"content\": result_prompt},\n",
    "        ],\n",
    "        stop=None,\n",
    "        temperature=0.7,\n",
    "        max_tokens=800,\n",
    "        top_p=0.95,\n",
    "        frequency_penalty=0,\n",
    "        presence_penalty=0,\n",
    "    )\n",
    "answer = request.choices[0].message.content\n",
    "print(answer)\n",
    "#exec(graph(text,query,df_dict,table_schema,queryResult))"
   ]
  },
  {
   "cell_type": "code",
   "execution_count": null,
   "metadata": {},
   "outputs": [],
   "source": []
  }
 ],
 "metadata": {
  "kernelspec": {
   "display_name": "Python 3",
   "language": "python",
   "name": "python3"
  },
  "language_info": {
   "codemirror_mode": {
    "name": "ipython",
    "version": 3
   },
   "file_extension": ".py",
   "mimetype": "text/x-python",
   "name": "python",
   "nbconvert_exporter": "python",
   "pygments_lexer": "ipython3",
   "version": "3.11.5"
  }
 },
 "nbformat": 4,
 "nbformat_minor": 2
}
