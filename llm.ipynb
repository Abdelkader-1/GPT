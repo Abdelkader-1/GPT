{
 "cells": [
  {
   "cell_type": "code",
   "execution_count": 2,
   "metadata": {},
   "outputs": [],
   "source": [
    "from langchain.agents import create_sql_agent,create_openai_functions_agent,create_openapi_agent\n",
    "from langchain.agents.agent_toolkits import SQLDatabaseToolkit\n",
    "from langchain.sql_database import SQLDatabase\n",
    "from langchain.llms.openai import OpenAI\n",
    "from langchain.agents import AgentExecutor\n",
    "import os\n",
    "from langchain_community.llms import AzureOpenAI\n",
    "from langchain.agents.agent_types import AgentType\n",
    "os.environ[\"OPENAI_API_TYPE\"] = \"azure\"\n",
    "import openai\n",
    "\n"
   ]
  },
  {
   "cell_type": "code",
   "execution_count": 3,
   "metadata": {},
   "outputs": [],
   "source": [
    "openai.api_type = \"azure\"\n",
    "openai.api_base = \"https://like-card-test.openai.azure.com/\"\n",
    "openai.api_version = \"2023-07-01-preview\"\n",
    "openai.api_key = \"85889c7998dd4adb9a4c89abe56b1242\"\n",
    "openai.azure_endpoint=\"https://like-card-test.openai.azure.com/openai/deployments/gpt-35-turbo/chat/completions?api-version=2023-07-01-preview\""
   ]
  },
  {
   "cell_type": "code",
   "execution_count": 4,
   "metadata": {},
   "outputs": [],
   "source": [
    "import os\n",
    "\n",
    "os.environ[\"OPENAI_API_TYPE\"] = \"azure\"\n",
    "os.environ[\"OPENAI_API_VERSION\"] = \"2023-07-01-preview\"\n",
    "os.environ[\"OPENAI_API_BASE\"] = \"https://like-card-test.openai.azure.com/\"\n",
    "os.environ[\"OPENAI_API_KEY\"] = \"85889c7998dd4adb9a4c89abe56b1242\"\n",
    "os.environ[\"OPENAI_API_ENDPOINT\"]=\"https://like-card-test.openai.azure.com/openai/deployments/gpt-35-turbo/chat/completions?api-version=2023-07-01-preview\""
   ]
  },
  {
   "cell_type": "code",
   "execution_count": 5,
   "metadata": {},
   "outputs": [],
   "source": [
    "openai.api_type = \"azure\"\n",
    "openai.api_base = \"https://like-card-test.openai.azure.com/\"\n",
    "openai.api_version = \"2023-07-01-preview\"\n",
    "openai.api_key = \"85889c7998dd4adb9a4c89abe56b1242\" \n",
    "openai.azure_endpoint=\"https://like-card-test.openai.azure.com/openai/deployments/gpt-35-turbo-instruct/chat/completions?api-version=2023-07-01-preview\""
   ]
  },
  {
   "cell_type": "code",
   "execution_count": 6,
   "metadata": {},
   "outputs": [],
   "source": [
    "f = open(\"Credintials.txt\", \"r\")\n",
    "email = None\n",
    "password = None\n",
    "for i, line in enumerate(f): \n",
    "    if i == 0:\n",
    "        email = line.strip()  # Assign the first line to email variable\n",
    "    elif i == 1:\n",
    "        password = line.strip()  # Assign the second line to password variable\n",
    "\n",
    "f.close()"
   ]
  },
  {
   "cell_type": "code",
   "execution_count": 7,
   "metadata": {},
   "outputs": [],
   "source": [
    "server = 'anmx3c2yurjethctgyba6xtuaq-vkvbn7t4322edeguc3ufhjtjeu.datawarehouse.pbidedicated.windows.net'\n",
    "database = 'likeCard'\n",
    "driver='ODBC Driver 18 for SQL Server'\n",
    "user= email # use %40 inplace of @\n",
    "pass1=password # use %40 inplace of @   \n",
    "db_string =f'mssql+pyodbc://{user}:{pass1}@{server}/{database}?driver={driver}&Trusted_Connection=no&Authentication=ActiveDirectoryInteractive'\n",
    "dp=SQLDatabase.from_uri(db_string)\n"
   ]
  },
  {
   "cell_type": "code",
   "execution_count": 8,
   "metadata": {},
   "outputs": [
    {
     "name": "stderr",
     "output_type": "stream",
     "text": [
      "c:\\Users\\AbdelKaderTalaat\\anaconda3\\Lib\\site-packages\\langchain_core\\_api\\deprecation.py:115: LangChainDeprecationWarning: The class `AzureOpenAI` was deprecated in LangChain 0.1.0 and will be removed in 0.2.0. Use langchain_openai.AzureOpenAI instead.\n",
      "  warn_deprecated(\n"
     ]
    }
   ],
   "source": [
    "llm = AzureOpenAI( model_name=\"gpt-35-turbo-instruct\",deployment_name=\"gpt-35-turbo-instruct\",temperature=0.2)"
   ]
  },
  {
   "cell_type": "code",
   "execution_count": 9,
   "metadata": {},
   "outputs": [],
   "source": [
    "toolkit = SQLDatabaseToolkit(db=dp,llm=llm)\n"
   ]
  },
  {
   "cell_type": "code",
   "execution_count": 10,
   "metadata": {},
   "outputs": [],
   "source": [
    "agent_executor = create_sql_agent(\n",
    "    llm=llm,\n",
    "    toolkit=toolkit,\n",
    "    verbose=True ,\n",
    "    agent_type=AgentType.ZERO_SHOT_REACT_DESCRIPTION,\n",
    "\n",
    ")"
   ]
  },
  {
   "cell_type": "code",
   "execution_count": null,
   "metadata": {},
   "outputs": [],
   "source": []
  },
  {
   "cell_type": "code",
   "execution_count": 11,
   "metadata": {},
   "outputs": [],
   "source": [
    "from langchain.memory import ConversationBufferMemory\n"
   ]
  },
  {
   "cell_type": "code",
   "execution_count": 134,
   "metadata": {},
   "outputs": [],
   "source": [
    "SQL_SUFFIX = \"\"\"Begin!\n",
    "history: {history}\n",
    "Task: **Using the available SQL Server database, generate and execute a concise SQL query to accurately answer the following question:**\n",
    "\n",
    "{query}\n",
    "\n",
    "**Key Considerations:**\n",
    "\n",
    "- **Identify relevant tables:** Determine the tables containing the necessary information to answer the question.\n",
    "- **Join tables appropriately:** Establish relationships between tables using appropriate joins (e.g., INNER JOIN, LEFT JOIN, etc.) if required.\n",
    "- **Apply aggregations:** Use functions like SUM(), COUNT(), AVG(), MAX(), MIN(), and GROUP BY to perform calculations or group data if needed.\n",
    "- **Select relevant columns:** Retrieve only the specific columns essential for providing the desired insights.\n",
    "- **Structure the output:** Return the query results in a clear and informative format, such as a list of rows or a formatted table.\n",
    "- **if the out contain numbers seprate the number with comma for example 154123456 to be 154,123,456\n",
    "\n",
    "**Additional Context (optional):**\n",
    "\n",
    "- If relevant, provide brief descriptions of key tables and columns to aid understanding.\n",
    "- Clarify any specific business rules or constraints that should be considered.\n",
    "\n",
    "**Agent Scratchpad:**\n",
    "\n",
    "{agent_scratchpad}\n",
    "\"\"\"\n"
   ]
  },
  {
   "cell_type": "code",
   "execution_count": 135,
   "metadata": {},
   "outputs": [],
   "source": [
    "agent_executor = create_sql_agent(   \n",
    "    llm,\n",
    "    SQLDatabaseToolkit(db=dp, llm=llm),\n",
    "    agent_executor_kwargs={\n",
    "        \"memory\": ConversationBufferMemory(\n",
    "            input_key=\"query\", memory_key=\"history\", return_messages= True\n",
    "\n",
    "        )\n",
    "    },\n",
    "    \n",
    "    suffix=SQL_SUFFIX,\n",
    "    input_variables=[\"query\", \"history\", \"agent_scratchpad\"],\n",
    "    verbose= True\n",
    ")  "
   ]
  },
  {
   "cell_type": "code",
   "execution_count": 144,
   "metadata": {},
   "outputs": [],
   "source": [
    "query = \"total sales 2023 monthly\""
   ]
  },
  {
   "cell_type": "code",
   "execution_count": 147,
   "metadata": {},
   "outputs": [
    {
     "name": "stdout",
     "output_type": "stream",
     "text": [
      "\n",
      "\n",
      "\u001b[1m> Entering new AgentExecutor chain...\u001b[0m\n",
      "\u001b[32;1m\u001b[1;3mThought: Identify relevant tables\n",
      "Action: sql_db_list_tables\n",
      "Action Input: ''\u001b[0m\n",
      "Observation: \u001b[38;5;200m\u001b[1;3mBL_Mapping_Table, Boost_customers, Customers_DAX_table, DAX_table, GMV_Calender_DAX_table, GMV_DimDate_DAX_table, Same_period, dimDate, dimDateEX, dim_B2B_Sales_Channel, dim_Target, dim_allusers, dim_balance, dim_categories, dim_industry, dim_log_status, dim_parent_categories, dim_payment_methods, dim_pos_sales_channel, dim_products, dim_segments, dim_stores, dim_users_b2b, dim_users_b2c, dim_users_pos, exploration, fact_b2b_trans, fact_b2c_trans, fact_points, fact_pos_trans, fact_salla_trans, fact_transactions, fact_vouchers\u001b[0m\n",
      "Thought:\u001b[32;1m\u001b[1;3mAction: sql_db_schema\n",
      "Action Input: Boost_customers, Customers_DAX_table, DAX_table, GMV_Calender_DAX_table, GMV_DimDate_DAX_table, Same_period, dimDate, dimDateEX, dim_B2B_Sales_Channel, dim_Target, dim_allusers, dim_balance, dim_categories, dim_industry, dim_log_status, dim_parent_categories, dim_payment_methods, dim_pos_sales_channel, dim_products, dim_segments, dim_stores, dim_users_b2b, dim_users_b2c, dim_users_pos, exploration, fact_b2b_trans, fact_b2c_trans, fact_points, fact_pos_trans, fact_salla_trans, fact_transactions, fact_vouchers\u001b[0m"
     ]
    },
    {
     "ename": "OperationalError",
     "evalue": "(pyodbc.OperationalError) ('08S01', '[08S01] [Microsoft][ODBC Driver 18 for SQL Server]TCP Provider: An existing connection was forcibly closed by the remote host.\\r\\n (10054) (SQLExecDirectW); [08S01] [Microsoft][ODBC Driver 18 for SQL Server]Communication link failure (10054)')\n[SQL: SELECT TOP 3 [Boost_customers].user_id, [Boost_customers].[AOV], [Boost_customers].[Frequency], [Boost_customers].[OBJ], [Boost_customers].[AGP], [Boost_customers].[GP], [Boost_customers].[GMV], [Boost_customers].[PM] \nFROM [Boost_customers]]\n(Background on this error at: https://sqlalche.me/e/14/e3q8)",
     "output_type": "error",
     "traceback": [
      "\u001b[1;31m---------------------------------------------------------------------------\u001b[0m",
      "\u001b[1;31mOperationalError\u001b[0m                          Traceback (most recent call last)",
      "File \u001b[1;32mc:\\Users\\AbdelKaderTalaat\\anaconda3\\Lib\\site-packages\\sqlalchemy\\engine\\base.py:1819\u001b[0m, in \u001b[0;36mConnection._execute_context\u001b[1;34m(self, dialect, constructor, statement, parameters, execution_options, *args, **kw)\u001b[0m\n\u001b[0;32m   1818\u001b[0m     \u001b[38;5;28;01mif\u001b[39;00m \u001b[38;5;129;01mnot\u001b[39;00m evt_handled:\n\u001b[1;32m-> 1819\u001b[0m         \u001b[38;5;28mself\u001b[39m\u001b[38;5;241m.\u001b[39mdialect\u001b[38;5;241m.\u001b[39mdo_execute(\n\u001b[0;32m   1820\u001b[0m             cursor, statement, parameters, context\n\u001b[0;32m   1821\u001b[0m         )\n\u001b[0;32m   1823\u001b[0m \u001b[38;5;28;01mif\u001b[39;00m \u001b[38;5;28mself\u001b[39m\u001b[38;5;241m.\u001b[39m_has_events \u001b[38;5;129;01mor\u001b[39;00m \u001b[38;5;28mself\u001b[39m\u001b[38;5;241m.\u001b[39mengine\u001b[38;5;241m.\u001b[39m_has_events:\n",
      "File \u001b[1;32mc:\\Users\\AbdelKaderTalaat\\anaconda3\\Lib\\site-packages\\sqlalchemy\\engine\\default.py:732\u001b[0m, in \u001b[0;36mDefaultDialect.do_execute\u001b[1;34m(self, cursor, statement, parameters, context)\u001b[0m\n\u001b[0;32m    731\u001b[0m \u001b[38;5;28;01mdef\u001b[39;00m \u001b[38;5;21mdo_execute\u001b[39m(\u001b[38;5;28mself\u001b[39m, cursor, statement, parameters, context\u001b[38;5;241m=\u001b[39m\u001b[38;5;28;01mNone\u001b[39;00m):\n\u001b[1;32m--> 732\u001b[0m     cursor\u001b[38;5;241m.\u001b[39mexecute(statement, parameters)\n",
      "\u001b[1;31mOperationalError\u001b[0m: ('08S01', '[08S01] [Microsoft][ODBC Driver 18 for SQL Server]TCP Provider: An existing connection was forcibly closed by the remote host.\\r\\n (10054) (SQLExecDirectW); [08S01] [Microsoft][ODBC Driver 18 for SQL Server]Communication link failure (10054)')",
      "\nThe above exception was the direct cause of the following exception:\n",
      "\u001b[1;31mOperationalError\u001b[0m                          Traceback (most recent call last)",
      "Cell \u001b[1;32mIn[147], line 1\u001b[0m\n\u001b[1;32m----> 1\u001b[0m output\u001b[38;5;241m=\u001b[39magent_executor\u001b[38;5;241m.\u001b[39minvoke(query)\n",
      "File \u001b[1;32mc:\\Users\\AbdelKaderTalaat\\anaconda3\\Lib\\site-packages\\langchain\\chains\\base.py:93\u001b[0m, in \u001b[0;36mChain.invoke\u001b[1;34m(self, input, config, **kwargs)\u001b[0m\n\u001b[0;32m     86\u001b[0m \u001b[38;5;28;01mdef\u001b[39;00m \u001b[38;5;21minvoke\u001b[39m(\n\u001b[0;32m     87\u001b[0m     \u001b[38;5;28mself\u001b[39m,\n\u001b[0;32m     88\u001b[0m     \u001b[38;5;28minput\u001b[39m: Dict[\u001b[38;5;28mstr\u001b[39m, Any],\n\u001b[0;32m     89\u001b[0m     config: Optional[RunnableConfig] \u001b[38;5;241m=\u001b[39m \u001b[38;5;28;01mNone\u001b[39;00m,\n\u001b[0;32m     90\u001b[0m     \u001b[38;5;241m*\u001b[39m\u001b[38;5;241m*\u001b[39mkwargs: Any,\n\u001b[0;32m     91\u001b[0m ) \u001b[38;5;241m-\u001b[39m\u001b[38;5;241m>\u001b[39m Dict[\u001b[38;5;28mstr\u001b[39m, Any]:\n\u001b[0;32m     92\u001b[0m     config \u001b[38;5;241m=\u001b[39m ensure_config(config)\n\u001b[1;32m---> 93\u001b[0m     \u001b[38;5;28;01mreturn\u001b[39;00m \u001b[38;5;28mself\u001b[39m(\n\u001b[0;32m     94\u001b[0m         \u001b[38;5;28minput\u001b[39m,\n\u001b[0;32m     95\u001b[0m         callbacks\u001b[38;5;241m=\u001b[39mconfig\u001b[38;5;241m.\u001b[39mget(\u001b[38;5;124m\"\u001b[39m\u001b[38;5;124mcallbacks\u001b[39m\u001b[38;5;124m\"\u001b[39m),\n\u001b[0;32m     96\u001b[0m         tags\u001b[38;5;241m=\u001b[39mconfig\u001b[38;5;241m.\u001b[39mget(\u001b[38;5;124m\"\u001b[39m\u001b[38;5;124mtags\u001b[39m\u001b[38;5;124m\"\u001b[39m),\n\u001b[0;32m     97\u001b[0m         metadata\u001b[38;5;241m=\u001b[39mconfig\u001b[38;5;241m.\u001b[39mget(\u001b[38;5;124m\"\u001b[39m\u001b[38;5;124mmetadata\u001b[39m\u001b[38;5;124m\"\u001b[39m),\n\u001b[0;32m     98\u001b[0m         run_name\u001b[38;5;241m=\u001b[39mconfig\u001b[38;5;241m.\u001b[39mget(\u001b[38;5;124m\"\u001b[39m\u001b[38;5;124mrun_name\u001b[39m\u001b[38;5;124m\"\u001b[39m),\n\u001b[0;32m     99\u001b[0m         \u001b[38;5;241m*\u001b[39m\u001b[38;5;241m*\u001b[39mkwargs,\n\u001b[0;32m    100\u001b[0m     )\n",
      "File \u001b[1;32mc:\\Users\\AbdelKaderTalaat\\anaconda3\\Lib\\site-packages\\langchain\\chains\\base.py:316\u001b[0m, in \u001b[0;36mChain.__call__\u001b[1;34m(self, inputs, return_only_outputs, callbacks, tags, metadata, run_name, include_run_info)\u001b[0m\n\u001b[0;32m    314\u001b[0m \u001b[38;5;28;01mexcept\u001b[39;00m \u001b[38;5;167;01mBaseException\u001b[39;00m \u001b[38;5;28;01mas\u001b[39;00m e:\n\u001b[0;32m    315\u001b[0m     run_manager\u001b[38;5;241m.\u001b[39mon_chain_error(e)\n\u001b[1;32m--> 316\u001b[0m     \u001b[38;5;28;01mraise\u001b[39;00m e\n\u001b[0;32m    317\u001b[0m run_manager\u001b[38;5;241m.\u001b[39mon_chain_end(outputs)\n\u001b[0;32m    318\u001b[0m final_outputs: Dict[\u001b[38;5;28mstr\u001b[39m, Any] \u001b[38;5;241m=\u001b[39m \u001b[38;5;28mself\u001b[39m\u001b[38;5;241m.\u001b[39mprep_outputs(\n\u001b[0;32m    319\u001b[0m     inputs, outputs, return_only_outputs\n\u001b[0;32m    320\u001b[0m )\n",
      "File \u001b[1;32mc:\\Users\\AbdelKaderTalaat\\anaconda3\\Lib\\site-packages\\langchain\\chains\\base.py:310\u001b[0m, in \u001b[0;36mChain.__call__\u001b[1;34m(self, inputs, return_only_outputs, callbacks, tags, metadata, run_name, include_run_info)\u001b[0m\n\u001b[0;32m    303\u001b[0m run_manager \u001b[38;5;241m=\u001b[39m callback_manager\u001b[38;5;241m.\u001b[39mon_chain_start(\n\u001b[0;32m    304\u001b[0m     dumpd(\u001b[38;5;28mself\u001b[39m),\n\u001b[0;32m    305\u001b[0m     inputs,\n\u001b[0;32m    306\u001b[0m     name\u001b[38;5;241m=\u001b[39mrun_name,\n\u001b[0;32m    307\u001b[0m )\n\u001b[0;32m    308\u001b[0m \u001b[38;5;28;01mtry\u001b[39;00m:\n\u001b[0;32m    309\u001b[0m     outputs \u001b[38;5;241m=\u001b[39m (\n\u001b[1;32m--> 310\u001b[0m         \u001b[38;5;28mself\u001b[39m\u001b[38;5;241m.\u001b[39m_call(inputs, run_manager\u001b[38;5;241m=\u001b[39mrun_manager)\n\u001b[0;32m    311\u001b[0m         \u001b[38;5;28;01mif\u001b[39;00m new_arg_supported\n\u001b[0;32m    312\u001b[0m         \u001b[38;5;28;01melse\u001b[39;00m \u001b[38;5;28mself\u001b[39m\u001b[38;5;241m.\u001b[39m_call(inputs)\n\u001b[0;32m    313\u001b[0m     )\n\u001b[0;32m    314\u001b[0m \u001b[38;5;28;01mexcept\u001b[39;00m \u001b[38;5;167;01mBaseException\u001b[39;00m \u001b[38;5;28;01mas\u001b[39;00m e:\n\u001b[0;32m    315\u001b[0m     run_manager\u001b[38;5;241m.\u001b[39mon_chain_error(e)\n",
      "File \u001b[1;32mc:\\Users\\AbdelKaderTalaat\\anaconda3\\Lib\\site-packages\\langchain\\agents\\agent.py:1312\u001b[0m, in \u001b[0;36mAgentExecutor._call\u001b[1;34m(self, inputs, run_manager)\u001b[0m\n\u001b[0;32m   1310\u001b[0m \u001b[38;5;66;03m# We now enter the agent loop (until it returns something).\u001b[39;00m\n\u001b[0;32m   1311\u001b[0m \u001b[38;5;28;01mwhile\u001b[39;00m \u001b[38;5;28mself\u001b[39m\u001b[38;5;241m.\u001b[39m_should_continue(iterations, time_elapsed):\n\u001b[1;32m-> 1312\u001b[0m     next_step_output \u001b[38;5;241m=\u001b[39m \u001b[38;5;28mself\u001b[39m\u001b[38;5;241m.\u001b[39m_take_next_step(\n\u001b[0;32m   1313\u001b[0m         name_to_tool_map,\n\u001b[0;32m   1314\u001b[0m         color_mapping,\n\u001b[0;32m   1315\u001b[0m         inputs,\n\u001b[0;32m   1316\u001b[0m         intermediate_steps,\n\u001b[0;32m   1317\u001b[0m         run_manager\u001b[38;5;241m=\u001b[39mrun_manager,\n\u001b[0;32m   1318\u001b[0m     )\n\u001b[0;32m   1319\u001b[0m     \u001b[38;5;28;01mif\u001b[39;00m \u001b[38;5;28misinstance\u001b[39m(next_step_output, AgentFinish):\n\u001b[0;32m   1320\u001b[0m         \u001b[38;5;28;01mreturn\u001b[39;00m \u001b[38;5;28mself\u001b[39m\u001b[38;5;241m.\u001b[39m_return(\n\u001b[0;32m   1321\u001b[0m             next_step_output, intermediate_steps, run_manager\u001b[38;5;241m=\u001b[39mrun_manager\n\u001b[0;32m   1322\u001b[0m         )\n",
      "File \u001b[1;32mc:\\Users\\AbdelKaderTalaat\\anaconda3\\Lib\\site-packages\\langchain\\agents\\agent.py:1038\u001b[0m, in \u001b[0;36mAgentExecutor._take_next_step\u001b[1;34m(self, name_to_tool_map, color_mapping, inputs, intermediate_steps, run_manager)\u001b[0m\n\u001b[0;32m   1029\u001b[0m \u001b[38;5;28;01mdef\u001b[39;00m \u001b[38;5;21m_take_next_step\u001b[39m(\n\u001b[0;32m   1030\u001b[0m     \u001b[38;5;28mself\u001b[39m,\n\u001b[0;32m   1031\u001b[0m     name_to_tool_map: Dict[\u001b[38;5;28mstr\u001b[39m, BaseTool],\n\u001b[1;32m   (...)\u001b[0m\n\u001b[0;32m   1035\u001b[0m     run_manager: Optional[CallbackManagerForChainRun] \u001b[38;5;241m=\u001b[39m \u001b[38;5;28;01mNone\u001b[39;00m,\n\u001b[0;32m   1036\u001b[0m ) \u001b[38;5;241m-\u001b[39m\u001b[38;5;241m>\u001b[39m Union[AgentFinish, List[Tuple[AgentAction, \u001b[38;5;28mstr\u001b[39m]]]:\n\u001b[0;32m   1037\u001b[0m     \u001b[38;5;28;01mreturn\u001b[39;00m \u001b[38;5;28mself\u001b[39m\u001b[38;5;241m.\u001b[39m_consume_next_step(\n\u001b[1;32m-> 1038\u001b[0m         [\n\u001b[0;32m   1039\u001b[0m             a\n\u001b[0;32m   1040\u001b[0m             \u001b[38;5;28;01mfor\u001b[39;00m a \u001b[38;5;129;01min\u001b[39;00m \u001b[38;5;28mself\u001b[39m\u001b[38;5;241m.\u001b[39m_iter_next_step(\n\u001b[0;32m   1041\u001b[0m                 name_to_tool_map,\n\u001b[0;32m   1042\u001b[0m                 color_mapping,\n\u001b[0;32m   1043\u001b[0m                 inputs,\n\u001b[0;32m   1044\u001b[0m                 intermediate_steps,\n\u001b[0;32m   1045\u001b[0m                 run_manager,\n\u001b[0;32m   1046\u001b[0m             )\n\u001b[0;32m   1047\u001b[0m         ]\n\u001b[0;32m   1048\u001b[0m     )\n",
      "File \u001b[1;32mc:\\Users\\AbdelKaderTalaat\\anaconda3\\Lib\\site-packages\\langchain\\agents\\agent.py:1038\u001b[0m, in \u001b[0;36m<listcomp>\u001b[1;34m(.0)\u001b[0m\n\u001b[0;32m   1029\u001b[0m \u001b[38;5;28;01mdef\u001b[39;00m \u001b[38;5;21m_take_next_step\u001b[39m(\n\u001b[0;32m   1030\u001b[0m     \u001b[38;5;28mself\u001b[39m,\n\u001b[0;32m   1031\u001b[0m     name_to_tool_map: Dict[\u001b[38;5;28mstr\u001b[39m, BaseTool],\n\u001b[1;32m   (...)\u001b[0m\n\u001b[0;32m   1035\u001b[0m     run_manager: Optional[CallbackManagerForChainRun] \u001b[38;5;241m=\u001b[39m \u001b[38;5;28;01mNone\u001b[39;00m,\n\u001b[0;32m   1036\u001b[0m ) \u001b[38;5;241m-\u001b[39m\u001b[38;5;241m>\u001b[39m Union[AgentFinish, List[Tuple[AgentAction, \u001b[38;5;28mstr\u001b[39m]]]:\n\u001b[0;32m   1037\u001b[0m     \u001b[38;5;28;01mreturn\u001b[39;00m \u001b[38;5;28mself\u001b[39m\u001b[38;5;241m.\u001b[39m_consume_next_step(\n\u001b[1;32m-> 1038\u001b[0m         [\n\u001b[0;32m   1039\u001b[0m             a\n\u001b[0;32m   1040\u001b[0m             \u001b[38;5;28;01mfor\u001b[39;00m a \u001b[38;5;129;01min\u001b[39;00m \u001b[38;5;28mself\u001b[39m\u001b[38;5;241m.\u001b[39m_iter_next_step(\n\u001b[0;32m   1041\u001b[0m                 name_to_tool_map,\n\u001b[0;32m   1042\u001b[0m                 color_mapping,\n\u001b[0;32m   1043\u001b[0m                 inputs,\n\u001b[0;32m   1044\u001b[0m                 intermediate_steps,\n\u001b[0;32m   1045\u001b[0m                 run_manager,\n\u001b[0;32m   1046\u001b[0m             )\n\u001b[0;32m   1047\u001b[0m         ]\n\u001b[0;32m   1048\u001b[0m     )\n",
      "File \u001b[1;32mc:\\Users\\AbdelKaderTalaat\\anaconda3\\Lib\\site-packages\\langchain\\agents\\agent.py:1134\u001b[0m, in \u001b[0;36mAgentExecutor._iter_next_step\u001b[1;34m(self, name_to_tool_map, color_mapping, inputs, intermediate_steps, run_manager)\u001b[0m\n\u001b[0;32m   1132\u001b[0m         tool_run_kwargs[\u001b[38;5;124m\"\u001b[39m\u001b[38;5;124mllm_prefix\u001b[39m\u001b[38;5;124m\"\u001b[39m] \u001b[38;5;241m=\u001b[39m \u001b[38;5;124m\"\u001b[39m\u001b[38;5;124m\"\u001b[39m\n\u001b[0;32m   1133\u001b[0m     \u001b[38;5;66;03m# We then call the tool on the tool input to get an observation\u001b[39;00m\n\u001b[1;32m-> 1134\u001b[0m     observation \u001b[38;5;241m=\u001b[39m tool\u001b[38;5;241m.\u001b[39mrun(\n\u001b[0;32m   1135\u001b[0m         agent_action\u001b[38;5;241m.\u001b[39mtool_input,\n\u001b[0;32m   1136\u001b[0m         verbose\u001b[38;5;241m=\u001b[39m\u001b[38;5;28mself\u001b[39m\u001b[38;5;241m.\u001b[39mverbose,\n\u001b[0;32m   1137\u001b[0m         color\u001b[38;5;241m=\u001b[39mcolor,\n\u001b[0;32m   1138\u001b[0m         callbacks\u001b[38;5;241m=\u001b[39mrun_manager\u001b[38;5;241m.\u001b[39mget_child() \u001b[38;5;28;01mif\u001b[39;00m run_manager \u001b[38;5;28;01melse\u001b[39;00m \u001b[38;5;28;01mNone\u001b[39;00m,\n\u001b[0;32m   1139\u001b[0m         \u001b[38;5;241m*\u001b[39m\u001b[38;5;241m*\u001b[39mtool_run_kwargs,\n\u001b[0;32m   1140\u001b[0m     )\n\u001b[0;32m   1141\u001b[0m \u001b[38;5;28;01melse\u001b[39;00m:\n\u001b[0;32m   1142\u001b[0m     tool_run_kwargs \u001b[38;5;241m=\u001b[39m \u001b[38;5;28mself\u001b[39m\u001b[38;5;241m.\u001b[39magent\u001b[38;5;241m.\u001b[39mtool_run_logging_kwargs()\n",
      "File \u001b[1;32mc:\\Users\\AbdelKaderTalaat\\anaconda3\\Lib\\site-packages\\langchain_core\\tools.py:365\u001b[0m, in \u001b[0;36mBaseTool.run\u001b[1;34m(self, tool_input, verbose, start_color, color, callbacks, tags, metadata, run_name, **kwargs)\u001b[0m\n\u001b[0;32m    363\u001b[0m \u001b[38;5;28;01mexcept\u001b[39;00m (\u001b[38;5;167;01mException\u001b[39;00m, \u001b[38;5;167;01mKeyboardInterrupt\u001b[39;00m) \u001b[38;5;28;01mas\u001b[39;00m e:\n\u001b[0;32m    364\u001b[0m     run_manager\u001b[38;5;241m.\u001b[39mon_tool_error(e)\n\u001b[1;32m--> 365\u001b[0m     \u001b[38;5;28;01mraise\u001b[39;00m e\n\u001b[0;32m    366\u001b[0m \u001b[38;5;28;01melse\u001b[39;00m:\n\u001b[0;32m    367\u001b[0m     run_manager\u001b[38;5;241m.\u001b[39mon_tool_end(\n\u001b[0;32m    368\u001b[0m         \u001b[38;5;28mstr\u001b[39m(observation), color\u001b[38;5;241m=\u001b[39mcolor, name\u001b[38;5;241m=\u001b[39m\u001b[38;5;28mself\u001b[39m\u001b[38;5;241m.\u001b[39mname, \u001b[38;5;241m*\u001b[39m\u001b[38;5;241m*\u001b[39mkwargs\n\u001b[0;32m    369\u001b[0m     )\n",
      "File \u001b[1;32mc:\\Users\\AbdelKaderTalaat\\anaconda3\\Lib\\site-packages\\langchain_core\\tools.py:337\u001b[0m, in \u001b[0;36mBaseTool.run\u001b[1;34m(self, tool_input, verbose, start_color, color, callbacks, tags, metadata, run_name, **kwargs)\u001b[0m\n\u001b[0;32m    334\u001b[0m \u001b[38;5;28;01mtry\u001b[39;00m:\n\u001b[0;32m    335\u001b[0m     tool_args, tool_kwargs \u001b[38;5;241m=\u001b[39m \u001b[38;5;28mself\u001b[39m\u001b[38;5;241m.\u001b[39m_to_args_and_kwargs(parsed_input)\n\u001b[0;32m    336\u001b[0m     observation \u001b[38;5;241m=\u001b[39m (\n\u001b[1;32m--> 337\u001b[0m         \u001b[38;5;28mself\u001b[39m\u001b[38;5;241m.\u001b[39m_run(\u001b[38;5;241m*\u001b[39mtool_args, run_manager\u001b[38;5;241m=\u001b[39mrun_manager, \u001b[38;5;241m*\u001b[39m\u001b[38;5;241m*\u001b[39mtool_kwargs)\n\u001b[0;32m    338\u001b[0m         \u001b[38;5;28;01mif\u001b[39;00m new_arg_supported\n\u001b[0;32m    339\u001b[0m         \u001b[38;5;28;01melse\u001b[39;00m \u001b[38;5;28mself\u001b[39m\u001b[38;5;241m.\u001b[39m_run(\u001b[38;5;241m*\u001b[39mtool_args, \u001b[38;5;241m*\u001b[39m\u001b[38;5;241m*\u001b[39mtool_kwargs)\n\u001b[0;32m    340\u001b[0m     )\n\u001b[0;32m    341\u001b[0m \u001b[38;5;28;01mexcept\u001b[39;00m ToolException \u001b[38;5;28;01mas\u001b[39;00m e:\n\u001b[0;32m    342\u001b[0m     \u001b[38;5;28;01mif\u001b[39;00m \u001b[38;5;129;01mnot\u001b[39;00m \u001b[38;5;28mself\u001b[39m\u001b[38;5;241m.\u001b[39mhandle_tool_error:\n",
      "File \u001b[1;32mc:\\Users\\AbdelKaderTalaat\\anaconda3\\Lib\\site-packages\\langchain_community\\tools\\sql_database\\tool.py:62\u001b[0m, in \u001b[0;36mInfoSQLDatabaseTool._run\u001b[1;34m(self, table_names, run_manager)\u001b[0m\n\u001b[0;32m     56\u001b[0m \u001b[38;5;28;01mdef\u001b[39;00m \u001b[38;5;21m_run\u001b[39m(\n\u001b[0;32m     57\u001b[0m     \u001b[38;5;28mself\u001b[39m,\n\u001b[0;32m     58\u001b[0m     table_names: \u001b[38;5;28mstr\u001b[39m,\n\u001b[0;32m     59\u001b[0m     run_manager: Optional[CallbackManagerForToolRun] \u001b[38;5;241m=\u001b[39m \u001b[38;5;28;01mNone\u001b[39;00m,\n\u001b[0;32m     60\u001b[0m ) \u001b[38;5;241m-\u001b[39m\u001b[38;5;241m>\u001b[39m \u001b[38;5;28mstr\u001b[39m:\n\u001b[0;32m     61\u001b[0m \u001b[38;5;250m    \u001b[39m\u001b[38;5;124;03m\"\"\"Get the schema for tables in a comma-separated list.\"\"\"\u001b[39;00m\n\u001b[1;32m---> 62\u001b[0m     \u001b[38;5;28;01mreturn\u001b[39;00m \u001b[38;5;28mself\u001b[39m\u001b[38;5;241m.\u001b[39mdb\u001b[38;5;241m.\u001b[39mget_table_info_no_throw(\n\u001b[0;32m     63\u001b[0m         [t\u001b[38;5;241m.\u001b[39mstrip() \u001b[38;5;28;01mfor\u001b[39;00m t \u001b[38;5;129;01min\u001b[39;00m table_names\u001b[38;5;241m.\u001b[39msplit(\u001b[38;5;124m\"\u001b[39m\u001b[38;5;124m,\u001b[39m\u001b[38;5;124m\"\u001b[39m)]\n\u001b[0;32m     64\u001b[0m     )\n",
      "File \u001b[1;32mc:\\Users\\AbdelKaderTalaat\\anaconda3\\Lib\\site-packages\\langchain_community\\utilities\\sql_database.py:466\u001b[0m, in \u001b[0;36mSQLDatabase.get_table_info_no_throw\u001b[1;34m(self, table_names)\u001b[0m\n\u001b[0;32m    456\u001b[0m \u001b[38;5;250m\u001b[39m\u001b[38;5;124;03m\"\"\"Get information about specified tables.\u001b[39;00m\n\u001b[0;32m    457\u001b[0m \n\u001b[0;32m    458\u001b[0m \u001b[38;5;124;03mFollows best practices as specified in: Rajkumar et al, 2022\u001b[39;00m\n\u001b[1;32m   (...)\u001b[0m\n\u001b[0;32m    463\u001b[0m \u001b[38;5;124;03mdemonstrated in the paper.\u001b[39;00m\n\u001b[0;32m    464\u001b[0m \u001b[38;5;124;03m\"\"\"\u001b[39;00m\n\u001b[0;32m    465\u001b[0m \u001b[38;5;28;01mtry\u001b[39;00m:\n\u001b[1;32m--> 466\u001b[0m     \u001b[38;5;28;01mreturn\u001b[39;00m \u001b[38;5;28mself\u001b[39m\u001b[38;5;241m.\u001b[39mget_table_info(table_names)\n\u001b[0;32m    467\u001b[0m \u001b[38;5;28;01mexcept\u001b[39;00m \u001b[38;5;167;01mValueError\u001b[39;00m \u001b[38;5;28;01mas\u001b[39;00m e:\n\u001b[0;32m    468\u001b[0m \u001b[38;5;250m    \u001b[39m\u001b[38;5;124;03m\"\"\"Format the error message\"\"\"\u001b[39;00m\n",
      "File \u001b[1;32mc:\\Users\\AbdelKaderTalaat\\anaconda3\\Lib\\site-packages\\langchain_community\\utilities\\sql_database.py:333\u001b[0m, in \u001b[0;36mSQLDatabase.get_table_info\u001b[1;34m(self, table_names)\u001b[0m\n\u001b[0;32m    331\u001b[0m     table_info \u001b[38;5;241m+\u001b[39m\u001b[38;5;241m=\u001b[39m \u001b[38;5;124mf\u001b[39m\u001b[38;5;124m\"\u001b[39m\u001b[38;5;130;01m\\n\u001b[39;00m\u001b[38;5;132;01m{\u001b[39;00m\u001b[38;5;28mself\u001b[39m\u001b[38;5;241m.\u001b[39m_get_table_indexes(table)\u001b[38;5;132;01m}\u001b[39;00m\u001b[38;5;130;01m\\n\u001b[39;00m\u001b[38;5;124m\"\u001b[39m\n\u001b[0;32m    332\u001b[0m \u001b[38;5;28;01mif\u001b[39;00m \u001b[38;5;28mself\u001b[39m\u001b[38;5;241m.\u001b[39m_sample_rows_in_table_info:\n\u001b[1;32m--> 333\u001b[0m     table_info \u001b[38;5;241m+\u001b[39m\u001b[38;5;241m=\u001b[39m \u001b[38;5;124mf\u001b[39m\u001b[38;5;124m\"\u001b[39m\u001b[38;5;130;01m\\n\u001b[39;00m\u001b[38;5;132;01m{\u001b[39;00m\u001b[38;5;28mself\u001b[39m\u001b[38;5;241m.\u001b[39m_get_sample_rows(table)\u001b[38;5;132;01m}\u001b[39;00m\u001b[38;5;130;01m\\n\u001b[39;00m\u001b[38;5;124m\"\u001b[39m\n\u001b[0;32m    334\u001b[0m \u001b[38;5;28;01mif\u001b[39;00m has_extra_info:\n\u001b[0;32m    335\u001b[0m     table_info \u001b[38;5;241m+\u001b[39m\u001b[38;5;241m=\u001b[39m \u001b[38;5;124m\"\u001b[39m\u001b[38;5;124m*/\u001b[39m\u001b[38;5;124m\"\u001b[39m\n",
      "File \u001b[1;32mc:\\Users\\AbdelKaderTalaat\\anaconda3\\Lib\\site-packages\\langchain_community\\utilities\\sql_database.py:356\u001b[0m, in \u001b[0;36mSQLDatabase._get_sample_rows\u001b[1;34m(self, table)\u001b[0m\n\u001b[0;32m    353\u001b[0m \u001b[38;5;28;01mtry\u001b[39;00m:\n\u001b[0;32m    354\u001b[0m     \u001b[38;5;66;03m# get the sample rows\u001b[39;00m\n\u001b[0;32m    355\u001b[0m     \u001b[38;5;28;01mwith\u001b[39;00m \u001b[38;5;28mself\u001b[39m\u001b[38;5;241m.\u001b[39m_engine\u001b[38;5;241m.\u001b[39mconnect() \u001b[38;5;28;01mas\u001b[39;00m connection:\n\u001b[1;32m--> 356\u001b[0m         sample_rows_result \u001b[38;5;241m=\u001b[39m connection\u001b[38;5;241m.\u001b[39mexecute(command)  \u001b[38;5;66;03m# type: ignore\u001b[39;00m\n\u001b[0;32m    357\u001b[0m         \u001b[38;5;66;03m# shorten values in the sample rows\u001b[39;00m\n\u001b[0;32m    358\u001b[0m         sample_rows \u001b[38;5;241m=\u001b[39m \u001b[38;5;28mlist\u001b[39m(\n\u001b[0;32m    359\u001b[0m             \u001b[38;5;28mmap\u001b[39m(\u001b[38;5;28;01mlambda\u001b[39;00m ls: [\u001b[38;5;28mstr\u001b[39m(i)[:\u001b[38;5;241m100\u001b[39m] \u001b[38;5;28;01mfor\u001b[39;00m i \u001b[38;5;129;01min\u001b[39;00m ls], sample_rows_result)\n\u001b[0;32m    360\u001b[0m         )\n",
      "File \u001b[1;32mc:\\Users\\AbdelKaderTalaat\\anaconda3\\Lib\\site-packages\\sqlalchemy\\engine\\base.py:1306\u001b[0m, in \u001b[0;36mConnection.execute\u001b[1;34m(self, statement, *multiparams, **params)\u001b[0m\n\u001b[0;32m   1302\u001b[0m     util\u001b[38;5;241m.\u001b[39mraise_(\n\u001b[0;32m   1303\u001b[0m         exc\u001b[38;5;241m.\u001b[39mObjectNotExecutableError(statement), replace_context\u001b[38;5;241m=\u001b[39merr\n\u001b[0;32m   1304\u001b[0m     )\n\u001b[0;32m   1305\u001b[0m \u001b[38;5;28;01melse\u001b[39;00m:\n\u001b[1;32m-> 1306\u001b[0m     \u001b[38;5;28;01mreturn\u001b[39;00m meth(\u001b[38;5;28mself\u001b[39m, multiparams, params, _EMPTY_EXECUTION_OPTS)\n",
      "File \u001b[1;32mc:\\Users\\AbdelKaderTalaat\\anaconda3\\Lib\\site-packages\\sqlalchemy\\sql\\elements.py:332\u001b[0m, in \u001b[0;36mClauseElement._execute_on_connection\u001b[1;34m(self, connection, multiparams, params, execution_options, _force)\u001b[0m\n\u001b[0;32m    328\u001b[0m \u001b[38;5;28;01mdef\u001b[39;00m \u001b[38;5;21m_execute_on_connection\u001b[39m(\n\u001b[0;32m    329\u001b[0m     \u001b[38;5;28mself\u001b[39m, connection, multiparams, params, execution_options, _force\u001b[38;5;241m=\u001b[39m\u001b[38;5;28;01mFalse\u001b[39;00m\n\u001b[0;32m    330\u001b[0m ):\n\u001b[0;32m    331\u001b[0m     \u001b[38;5;28;01mif\u001b[39;00m _force \u001b[38;5;129;01mor\u001b[39;00m \u001b[38;5;28mself\u001b[39m\u001b[38;5;241m.\u001b[39msupports_execution:\n\u001b[1;32m--> 332\u001b[0m         \u001b[38;5;28;01mreturn\u001b[39;00m connection\u001b[38;5;241m.\u001b[39m_execute_clauseelement(\n\u001b[0;32m    333\u001b[0m             \u001b[38;5;28mself\u001b[39m, multiparams, params, execution_options\n\u001b[0;32m    334\u001b[0m         )\n\u001b[0;32m    335\u001b[0m     \u001b[38;5;28;01melse\u001b[39;00m:\n\u001b[0;32m    336\u001b[0m         \u001b[38;5;28;01mraise\u001b[39;00m exc\u001b[38;5;241m.\u001b[39mObjectNotExecutableError(\u001b[38;5;28mself\u001b[39m)\n",
      "File \u001b[1;32mc:\\Users\\AbdelKaderTalaat\\anaconda3\\Lib\\site-packages\\sqlalchemy\\engine\\base.py:1498\u001b[0m, in \u001b[0;36mConnection._execute_clauseelement\u001b[1;34m(self, elem, multiparams, params, execution_options)\u001b[0m\n\u001b[0;32m   1486\u001b[0m compiled_cache \u001b[38;5;241m=\u001b[39m execution_options\u001b[38;5;241m.\u001b[39mget(\n\u001b[0;32m   1487\u001b[0m     \u001b[38;5;124m\"\u001b[39m\u001b[38;5;124mcompiled_cache\u001b[39m\u001b[38;5;124m\"\u001b[39m, \u001b[38;5;28mself\u001b[39m\u001b[38;5;241m.\u001b[39mengine\u001b[38;5;241m.\u001b[39m_compiled_cache\n\u001b[0;32m   1488\u001b[0m )\n\u001b[0;32m   1490\u001b[0m compiled_sql, extracted_params, cache_hit \u001b[38;5;241m=\u001b[39m elem\u001b[38;5;241m.\u001b[39m_compile_w_cache(\n\u001b[0;32m   1491\u001b[0m     dialect\u001b[38;5;241m=\u001b[39mdialect,\n\u001b[0;32m   1492\u001b[0m     compiled_cache\u001b[38;5;241m=\u001b[39mcompiled_cache,\n\u001b[1;32m   (...)\u001b[0m\n\u001b[0;32m   1496\u001b[0m     linting\u001b[38;5;241m=\u001b[39m\u001b[38;5;28mself\u001b[39m\u001b[38;5;241m.\u001b[39mdialect\u001b[38;5;241m.\u001b[39mcompiler_linting \u001b[38;5;241m|\u001b[39m compiler\u001b[38;5;241m.\u001b[39mWARN_LINTING,\n\u001b[0;32m   1497\u001b[0m )\n\u001b[1;32m-> 1498\u001b[0m ret \u001b[38;5;241m=\u001b[39m \u001b[38;5;28mself\u001b[39m\u001b[38;5;241m.\u001b[39m_execute_context(\n\u001b[0;32m   1499\u001b[0m     dialect,\n\u001b[0;32m   1500\u001b[0m     dialect\u001b[38;5;241m.\u001b[39mexecution_ctx_cls\u001b[38;5;241m.\u001b[39m_init_compiled,\n\u001b[0;32m   1501\u001b[0m     compiled_sql,\n\u001b[0;32m   1502\u001b[0m     distilled_params,\n\u001b[0;32m   1503\u001b[0m     execution_options,\n\u001b[0;32m   1504\u001b[0m     compiled_sql,\n\u001b[0;32m   1505\u001b[0m     distilled_params,\n\u001b[0;32m   1506\u001b[0m     elem,\n\u001b[0;32m   1507\u001b[0m     extracted_params,\n\u001b[0;32m   1508\u001b[0m     cache_hit\u001b[38;5;241m=\u001b[39mcache_hit,\n\u001b[0;32m   1509\u001b[0m )\n\u001b[0;32m   1510\u001b[0m \u001b[38;5;28;01mif\u001b[39;00m has_events:\n\u001b[0;32m   1511\u001b[0m     \u001b[38;5;28mself\u001b[39m\u001b[38;5;241m.\u001b[39mdispatch\u001b[38;5;241m.\u001b[39mafter_execute(\n\u001b[0;32m   1512\u001b[0m         \u001b[38;5;28mself\u001b[39m,\n\u001b[0;32m   1513\u001b[0m         elem,\n\u001b[1;32m   (...)\u001b[0m\n\u001b[0;32m   1517\u001b[0m         ret,\n\u001b[0;32m   1518\u001b[0m     )\n",
      "File \u001b[1;32mc:\\Users\\AbdelKaderTalaat\\anaconda3\\Lib\\site-packages\\sqlalchemy\\engine\\base.py:1862\u001b[0m, in \u001b[0;36mConnection._execute_context\u001b[1;34m(self, dialect, constructor, statement, parameters, execution_options, *args, **kw)\u001b[0m\n\u001b[0;32m   1859\u001b[0m             branched\u001b[38;5;241m.\u001b[39mclose()\n\u001b[0;32m   1861\u001b[0m \u001b[38;5;28;01mexcept\u001b[39;00m \u001b[38;5;167;01mBaseException\u001b[39;00m \u001b[38;5;28;01mas\u001b[39;00m e:\n\u001b[1;32m-> 1862\u001b[0m     \u001b[38;5;28mself\u001b[39m\u001b[38;5;241m.\u001b[39m_handle_dbapi_exception(\n\u001b[0;32m   1863\u001b[0m         e, statement, parameters, cursor, context\n\u001b[0;32m   1864\u001b[0m     )\n\u001b[0;32m   1866\u001b[0m \u001b[38;5;28;01mreturn\u001b[39;00m result\n",
      "File \u001b[1;32mc:\\Users\\AbdelKaderTalaat\\anaconda3\\Lib\\site-packages\\sqlalchemy\\engine\\base.py:2043\u001b[0m, in \u001b[0;36mConnection._handle_dbapi_exception\u001b[1;34m(self, e, statement, parameters, cursor, context)\u001b[0m\n\u001b[0;32m   2041\u001b[0m     util\u001b[38;5;241m.\u001b[39mraise_(newraise, with_traceback\u001b[38;5;241m=\u001b[39mexc_info[\u001b[38;5;241m2\u001b[39m], from_\u001b[38;5;241m=\u001b[39me)\n\u001b[0;32m   2042\u001b[0m \u001b[38;5;28;01melif\u001b[39;00m should_wrap:\n\u001b[1;32m-> 2043\u001b[0m     util\u001b[38;5;241m.\u001b[39mraise_(\n\u001b[0;32m   2044\u001b[0m         sqlalchemy_exception, with_traceback\u001b[38;5;241m=\u001b[39mexc_info[\u001b[38;5;241m2\u001b[39m], from_\u001b[38;5;241m=\u001b[39me\n\u001b[0;32m   2045\u001b[0m     )\n\u001b[0;32m   2046\u001b[0m \u001b[38;5;28;01melse\u001b[39;00m:\n\u001b[0;32m   2047\u001b[0m     util\u001b[38;5;241m.\u001b[39mraise_(exc_info[\u001b[38;5;241m1\u001b[39m], with_traceback\u001b[38;5;241m=\u001b[39mexc_info[\u001b[38;5;241m2\u001b[39m])\n",
      "File \u001b[1;32mc:\\Users\\AbdelKaderTalaat\\anaconda3\\Lib\\site-packages\\sqlalchemy\\util\\compat.py:208\u001b[0m, in \u001b[0;36mraise_\u001b[1;34m(***failed resolving arguments***)\u001b[0m\n\u001b[0;32m    205\u001b[0m     exception\u001b[38;5;241m.\u001b[39m__cause__ \u001b[38;5;241m=\u001b[39m replace_context\n\u001b[0;32m    207\u001b[0m \u001b[38;5;28;01mtry\u001b[39;00m:\n\u001b[1;32m--> 208\u001b[0m     \u001b[38;5;28;01mraise\u001b[39;00m exception\n\u001b[0;32m    209\u001b[0m \u001b[38;5;28;01mfinally\u001b[39;00m:\n\u001b[0;32m    210\u001b[0m     \u001b[38;5;66;03m# credit to\u001b[39;00m\n\u001b[0;32m    211\u001b[0m     \u001b[38;5;66;03m# https://cosmicpercolator.com/2016/01/13/exception-leaks-in-python-2-and-3/\u001b[39;00m\n\u001b[0;32m    212\u001b[0m     \u001b[38;5;66;03m# as the __traceback__ object creates a cycle\u001b[39;00m\n\u001b[0;32m    213\u001b[0m     \u001b[38;5;28;01mdel\u001b[39;00m exception, replace_context, from_, with_traceback\n",
      "File \u001b[1;32mc:\\Users\\AbdelKaderTalaat\\anaconda3\\Lib\\site-packages\\sqlalchemy\\engine\\base.py:1819\u001b[0m, in \u001b[0;36mConnection._execute_context\u001b[1;34m(self, dialect, constructor, statement, parameters, execution_options, *args, **kw)\u001b[0m\n\u001b[0;32m   1817\u001b[0m                 \u001b[38;5;28;01mbreak\u001b[39;00m\n\u001b[0;32m   1818\u001b[0m     \u001b[38;5;28;01mif\u001b[39;00m \u001b[38;5;129;01mnot\u001b[39;00m evt_handled:\n\u001b[1;32m-> 1819\u001b[0m         \u001b[38;5;28mself\u001b[39m\u001b[38;5;241m.\u001b[39mdialect\u001b[38;5;241m.\u001b[39mdo_execute(\n\u001b[0;32m   1820\u001b[0m             cursor, statement, parameters, context\n\u001b[0;32m   1821\u001b[0m         )\n\u001b[0;32m   1823\u001b[0m \u001b[38;5;28;01mif\u001b[39;00m \u001b[38;5;28mself\u001b[39m\u001b[38;5;241m.\u001b[39m_has_events \u001b[38;5;129;01mor\u001b[39;00m \u001b[38;5;28mself\u001b[39m\u001b[38;5;241m.\u001b[39mengine\u001b[38;5;241m.\u001b[39m_has_events:\n\u001b[0;32m   1824\u001b[0m     \u001b[38;5;28mself\u001b[39m\u001b[38;5;241m.\u001b[39mdispatch\u001b[38;5;241m.\u001b[39mafter_cursor_execute(\n\u001b[0;32m   1825\u001b[0m         \u001b[38;5;28mself\u001b[39m,\n\u001b[0;32m   1826\u001b[0m         cursor,\n\u001b[1;32m   (...)\u001b[0m\n\u001b[0;32m   1830\u001b[0m         context\u001b[38;5;241m.\u001b[39mexecutemany,\n\u001b[0;32m   1831\u001b[0m     )\n",
      "File \u001b[1;32mc:\\Users\\AbdelKaderTalaat\\anaconda3\\Lib\\site-packages\\sqlalchemy\\engine\\default.py:732\u001b[0m, in \u001b[0;36mDefaultDialect.do_execute\u001b[1;34m(self, cursor, statement, parameters, context)\u001b[0m\n\u001b[0;32m    731\u001b[0m \u001b[38;5;28;01mdef\u001b[39;00m \u001b[38;5;21mdo_execute\u001b[39m(\u001b[38;5;28mself\u001b[39m, cursor, statement, parameters, context\u001b[38;5;241m=\u001b[39m\u001b[38;5;28;01mNone\u001b[39;00m):\n\u001b[1;32m--> 732\u001b[0m     cursor\u001b[38;5;241m.\u001b[39mexecute(statement, parameters)\n",
      "\u001b[1;31mOperationalError\u001b[0m: (pyodbc.OperationalError) ('08S01', '[08S01] [Microsoft][ODBC Driver 18 for SQL Server]TCP Provider: An existing connection was forcibly closed by the remote host.\\r\\n (10054) (SQLExecDirectW); [08S01] [Microsoft][ODBC Driver 18 for SQL Server]Communication link failure (10054)')\n[SQL: SELECT TOP 3 [Boost_customers].user_id, [Boost_customers].[AOV], [Boost_customers].[Frequency], [Boost_customers].[OBJ], [Boost_customers].[AGP], [Boost_customers].[GP], [Boost_customers].[GMV], [Boost_customers].[PM] \nFROM [Boost_customers]]\n(Background on this error at: https://sqlalche.me/e/14/e3q8)"
     ]
    },
    {
     "ename": "",
     "evalue": "",
     "output_type": "error",
     "traceback": [
      "\u001b[1;31mThe Kernel crashed while executing code in the the current cell or a previous cell. Please review the code in the cell(s) to identify a possible cause of the failure. Click <a href='https://aka.ms/vscodeJupyterKernelCrash'>here</a> for more info. View Jupyter <a href='command:jupyter.viewOutput'>log</a> for further details."
     ]
    }
   ],
   "source": [
    "output=agent_executor.invoke(query)"
   ]
  },
  {
   "cell_type": "code",
   "execution_count": null,
   "metadata": {},
   "outputs": [
    {
     "data": {
      "text/plain": [
       "'1,892,014,583.7895546'"
      ]
     },
     "execution_count": 143,
     "metadata": {},
     "output_type": "execute_result"
    }
   ],
   "source": [
    "output['output']"
   ]
  },
  {
   "cell_type": "code",
   "execution_count": 128,
   "metadata": {},
   "outputs": [],
   "source": [
    "out = output['output']"
   ]
  },
  {
   "cell_type": "code",
   "execution_count": 129,
   "metadata": {},
   "outputs": [
    {
     "name": "stdout",
     "output_type": "stream",
     "text": [
      "import pandas as pd\n",
      "import plotly.graph_objects as go\n",
      "\n",
      "# Creating dataframe\n",
      "data = {'Month': ['January', 'February', 'March', 'April', 'May', 'June', 'July', 'August', 'September', 'October'],\n",
      "        'Sales': [896.725, 2285.181, 1009.616, 1615.767, 437.0, 1722.637, 1153.966, 836.757, 1735.652, 1218.499]}\n",
      "\n",
      "df = pd.DataFrame(data)\n",
      "\n",
      "# Sorting dataframe by month\n",
      "df['Month'] = pd.to_datetime(df['Month'], format='%B', errors='coerce').dt.month\n",
      "df = df.sort_values('Month')\n",
      "\n",
      "# Visualizing the dataframe\n",
      "fig = go.Figure(data=[go.Bar(x=df['Month'], y=df['Sales'], text=df['Sales'], textposition='outside')])\n",
      "fig.update_layout(title_text='Total Sales per Month in 2023', xaxis_title='Month', yaxis_title='Sales')\n",
      "fig.show()\n"
     ]
    }
   ],
   "source": [
    "\n",
    "def graph_code_generation(model_answer):\n",
    "    prompt = \"\"\"Begin!\n",
    "    Task: \n",
    "    -import pandas and plotly\n",
    "    -convert the following text {} to dataframe using python\n",
    "    -create a python code to vizualize this dataframe\n",
    "    -if you are using datetime handle NameError: name 'datetime' is not defined\n",
    "    - dont write ```python ....```\n",
    "    - if you are dealing with dates sort them asc\n",
    "    output: should be python code only\n",
    "    \"\"\".format(model_answer)\n",
    "\n",
    "    # Create agent executor with prompt and tools\n",
    "    agent_executor = openai.ChatCompletion.create(\n",
    "        engine=\"gpt-35-turbo\",\n",
    "        messages=[\n",
    "            {\"role\": \"user\", \"content\": prompt},\n",
    "        ],\n",
    "                stop=None,\n",
    "       \n",
    "    )\n",
    " \n",
    "\n",
    "    graph = agent_executor.choices[0].message.content\n",
    "    \n",
    "    return graph\n",
    "\n",
    "graph = graph_code_generation(out)\n",
    "print(graph)"
   ]
  },
  {
   "cell_type": "code",
   "execution_count": 130,
   "metadata": {},
   "outputs": [
    {
     "data": {
      "application/vnd.plotly.v1+json": {
       "config": {
        "plotlyServerURL": "https://plot.ly"
       },
       "data": [
        {
         "text": [
          896.725,
          2285.181,
          1009.616,
          1615.767,
          437,
          1722.637,
          1153.966,
          836.757,
          1735.652,
          1218.499
         ],
         "textposition": "outside",
         "type": "bar",
         "x": [
          1,
          2,
          3,
          4,
          5,
          6,
          7,
          8,
          9,
          10
         ],
         "y": [
          896.725,
          2285.181,
          1009.616,
          1615.767,
          437,
          1722.637,
          1153.966,
          836.757,
          1735.652,
          1218.499
         ]
        }
       ],
       "layout": {
        "template": {
         "data": {
          "bar": [
           {
            "error_x": {
             "color": "#2a3f5f"
            },
            "error_y": {
             "color": "#2a3f5f"
            },
            "marker": {
             "line": {
              "color": "#E5ECF6",
              "width": 0.5
             },
             "pattern": {
              "fillmode": "overlay",
              "size": 10,
              "solidity": 0.2
             }
            },
            "type": "bar"
           }
          ],
          "barpolar": [
           {
            "marker": {
             "line": {
              "color": "#E5ECF6",
              "width": 0.5
             },
             "pattern": {
              "fillmode": "overlay",
              "size": 10,
              "solidity": 0.2
             }
            },
            "type": "barpolar"
           }
          ],
          "carpet": [
           {
            "aaxis": {
             "endlinecolor": "#2a3f5f",
             "gridcolor": "white",
             "linecolor": "white",
             "minorgridcolor": "white",
             "startlinecolor": "#2a3f5f"
            },
            "baxis": {
             "endlinecolor": "#2a3f5f",
             "gridcolor": "white",
             "linecolor": "white",
             "minorgridcolor": "white",
             "startlinecolor": "#2a3f5f"
            },
            "type": "carpet"
           }
          ],
          "choropleth": [
           {
            "colorbar": {
             "outlinewidth": 0,
             "ticks": ""
            },
            "type": "choropleth"
           }
          ],
          "contour": [
           {
            "colorbar": {
             "outlinewidth": 0,
             "ticks": ""
            },
            "colorscale": [
             [
              0,
              "#0d0887"
             ],
             [
              0.1111111111111111,
              "#46039f"
             ],
             [
              0.2222222222222222,
              "#7201a8"
             ],
             [
              0.3333333333333333,
              "#9c179e"
             ],
             [
              0.4444444444444444,
              "#bd3786"
             ],
             [
              0.5555555555555556,
              "#d8576b"
             ],
             [
              0.6666666666666666,
              "#ed7953"
             ],
             [
              0.7777777777777778,
              "#fb9f3a"
             ],
             [
              0.8888888888888888,
              "#fdca26"
             ],
             [
              1,
              "#f0f921"
             ]
            ],
            "type": "contour"
           }
          ],
          "contourcarpet": [
           {
            "colorbar": {
             "outlinewidth": 0,
             "ticks": ""
            },
            "type": "contourcarpet"
           }
          ],
          "heatmap": [
           {
            "colorbar": {
             "outlinewidth": 0,
             "ticks": ""
            },
            "colorscale": [
             [
              0,
              "#0d0887"
             ],
             [
              0.1111111111111111,
              "#46039f"
             ],
             [
              0.2222222222222222,
              "#7201a8"
             ],
             [
              0.3333333333333333,
              "#9c179e"
             ],
             [
              0.4444444444444444,
              "#bd3786"
             ],
             [
              0.5555555555555556,
              "#d8576b"
             ],
             [
              0.6666666666666666,
              "#ed7953"
             ],
             [
              0.7777777777777778,
              "#fb9f3a"
             ],
             [
              0.8888888888888888,
              "#fdca26"
             ],
             [
              1,
              "#f0f921"
             ]
            ],
            "type": "heatmap"
           }
          ],
          "heatmapgl": [
           {
            "colorbar": {
             "outlinewidth": 0,
             "ticks": ""
            },
            "colorscale": [
             [
              0,
              "#0d0887"
             ],
             [
              0.1111111111111111,
              "#46039f"
             ],
             [
              0.2222222222222222,
              "#7201a8"
             ],
             [
              0.3333333333333333,
              "#9c179e"
             ],
             [
              0.4444444444444444,
              "#bd3786"
             ],
             [
              0.5555555555555556,
              "#d8576b"
             ],
             [
              0.6666666666666666,
              "#ed7953"
             ],
             [
              0.7777777777777778,
              "#fb9f3a"
             ],
             [
              0.8888888888888888,
              "#fdca26"
             ],
             [
              1,
              "#f0f921"
             ]
            ],
            "type": "heatmapgl"
           }
          ],
          "histogram": [
           {
            "marker": {
             "pattern": {
              "fillmode": "overlay",
              "size": 10,
              "solidity": 0.2
             }
            },
            "type": "histogram"
           }
          ],
          "histogram2d": [
           {
            "colorbar": {
             "outlinewidth": 0,
             "ticks": ""
            },
            "colorscale": [
             [
              0,
              "#0d0887"
             ],
             [
              0.1111111111111111,
              "#46039f"
             ],
             [
              0.2222222222222222,
              "#7201a8"
             ],
             [
              0.3333333333333333,
              "#9c179e"
             ],
             [
              0.4444444444444444,
              "#bd3786"
             ],
             [
              0.5555555555555556,
              "#d8576b"
             ],
             [
              0.6666666666666666,
              "#ed7953"
             ],
             [
              0.7777777777777778,
              "#fb9f3a"
             ],
             [
              0.8888888888888888,
              "#fdca26"
             ],
             [
              1,
              "#f0f921"
             ]
            ],
            "type": "histogram2d"
           }
          ],
          "histogram2dcontour": [
           {
            "colorbar": {
             "outlinewidth": 0,
             "ticks": ""
            },
            "colorscale": [
             [
              0,
              "#0d0887"
             ],
             [
              0.1111111111111111,
              "#46039f"
             ],
             [
              0.2222222222222222,
              "#7201a8"
             ],
             [
              0.3333333333333333,
              "#9c179e"
             ],
             [
              0.4444444444444444,
              "#bd3786"
             ],
             [
              0.5555555555555556,
              "#d8576b"
             ],
             [
              0.6666666666666666,
              "#ed7953"
             ],
             [
              0.7777777777777778,
              "#fb9f3a"
             ],
             [
              0.8888888888888888,
              "#fdca26"
             ],
             [
              1,
              "#f0f921"
             ]
            ],
            "type": "histogram2dcontour"
           }
          ],
          "mesh3d": [
           {
            "colorbar": {
             "outlinewidth": 0,
             "ticks": ""
            },
            "type": "mesh3d"
           }
          ],
          "parcoords": [
           {
            "line": {
             "colorbar": {
              "outlinewidth": 0,
              "ticks": ""
             }
            },
            "type": "parcoords"
           }
          ],
          "pie": [
           {
            "automargin": true,
            "type": "pie"
           }
          ],
          "scatter": [
           {
            "fillpattern": {
             "fillmode": "overlay",
             "size": 10,
             "solidity": 0.2
            },
            "type": "scatter"
           }
          ],
          "scatter3d": [
           {
            "line": {
             "colorbar": {
              "outlinewidth": 0,
              "ticks": ""
             }
            },
            "marker": {
             "colorbar": {
              "outlinewidth": 0,
              "ticks": ""
             }
            },
            "type": "scatter3d"
           }
          ],
          "scattercarpet": [
           {
            "marker": {
             "colorbar": {
              "outlinewidth": 0,
              "ticks": ""
             }
            },
            "type": "scattercarpet"
           }
          ],
          "scattergeo": [
           {
            "marker": {
             "colorbar": {
              "outlinewidth": 0,
              "ticks": ""
             }
            },
            "type": "scattergeo"
           }
          ],
          "scattergl": [
           {
            "marker": {
             "colorbar": {
              "outlinewidth": 0,
              "ticks": ""
             }
            },
            "type": "scattergl"
           }
          ],
          "scattermapbox": [
           {
            "marker": {
             "colorbar": {
              "outlinewidth": 0,
              "ticks": ""
             }
            },
            "type": "scattermapbox"
           }
          ],
          "scatterpolar": [
           {
            "marker": {
             "colorbar": {
              "outlinewidth": 0,
              "ticks": ""
             }
            },
            "type": "scatterpolar"
           }
          ],
          "scatterpolargl": [
           {
            "marker": {
             "colorbar": {
              "outlinewidth": 0,
              "ticks": ""
             }
            },
            "type": "scatterpolargl"
           }
          ],
          "scatterternary": [
           {
            "marker": {
             "colorbar": {
              "outlinewidth": 0,
              "ticks": ""
             }
            },
            "type": "scatterternary"
           }
          ],
          "surface": [
           {
            "colorbar": {
             "outlinewidth": 0,
             "ticks": ""
            },
            "colorscale": [
             [
              0,
              "#0d0887"
             ],
             [
              0.1111111111111111,
              "#46039f"
             ],
             [
              0.2222222222222222,
              "#7201a8"
             ],
             [
              0.3333333333333333,
              "#9c179e"
             ],
             [
              0.4444444444444444,
              "#bd3786"
             ],
             [
              0.5555555555555556,
              "#d8576b"
             ],
             [
              0.6666666666666666,
              "#ed7953"
             ],
             [
              0.7777777777777778,
              "#fb9f3a"
             ],
             [
              0.8888888888888888,
              "#fdca26"
             ],
             [
              1,
              "#f0f921"
             ]
            ],
            "type": "surface"
           }
          ],
          "table": [
           {
            "cells": {
             "fill": {
              "color": "#EBF0F8"
             },
             "line": {
              "color": "white"
             }
            },
            "header": {
             "fill": {
              "color": "#C8D4E3"
             },
             "line": {
              "color": "white"
             }
            },
            "type": "table"
           }
          ]
         },
         "layout": {
          "annotationdefaults": {
           "arrowcolor": "#2a3f5f",
           "arrowhead": 0,
           "arrowwidth": 1
          },
          "autotypenumbers": "strict",
          "coloraxis": {
           "colorbar": {
            "outlinewidth": 0,
            "ticks": ""
           }
          },
          "colorscale": {
           "diverging": [
            [
             0,
             "#8e0152"
            ],
            [
             0.1,
             "#c51b7d"
            ],
            [
             0.2,
             "#de77ae"
            ],
            [
             0.3,
             "#f1b6da"
            ],
            [
             0.4,
             "#fde0ef"
            ],
            [
             0.5,
             "#f7f7f7"
            ],
            [
             0.6,
             "#e6f5d0"
            ],
            [
             0.7,
             "#b8e186"
            ],
            [
             0.8,
             "#7fbc41"
            ],
            [
             0.9,
             "#4d9221"
            ],
            [
             1,
             "#276419"
            ]
           ],
           "sequential": [
            [
             0,
             "#0d0887"
            ],
            [
             0.1111111111111111,
             "#46039f"
            ],
            [
             0.2222222222222222,
             "#7201a8"
            ],
            [
             0.3333333333333333,
             "#9c179e"
            ],
            [
             0.4444444444444444,
             "#bd3786"
            ],
            [
             0.5555555555555556,
             "#d8576b"
            ],
            [
             0.6666666666666666,
             "#ed7953"
            ],
            [
             0.7777777777777778,
             "#fb9f3a"
            ],
            [
             0.8888888888888888,
             "#fdca26"
            ],
            [
             1,
             "#f0f921"
            ]
           ],
           "sequentialminus": [
            [
             0,
             "#0d0887"
            ],
            [
             0.1111111111111111,
             "#46039f"
            ],
            [
             0.2222222222222222,
             "#7201a8"
            ],
            [
             0.3333333333333333,
             "#9c179e"
            ],
            [
             0.4444444444444444,
             "#bd3786"
            ],
            [
             0.5555555555555556,
             "#d8576b"
            ],
            [
             0.6666666666666666,
             "#ed7953"
            ],
            [
             0.7777777777777778,
             "#fb9f3a"
            ],
            [
             0.8888888888888888,
             "#fdca26"
            ],
            [
             1,
             "#f0f921"
            ]
           ]
          },
          "colorway": [
           "#636efa",
           "#EF553B",
           "#00cc96",
           "#ab63fa",
           "#FFA15A",
           "#19d3f3",
           "#FF6692",
           "#B6E880",
           "#FF97FF",
           "#FECB52"
          ],
          "font": {
           "color": "#2a3f5f"
          },
          "geo": {
           "bgcolor": "white",
           "lakecolor": "white",
           "landcolor": "#E5ECF6",
           "showlakes": true,
           "showland": true,
           "subunitcolor": "white"
          },
          "hoverlabel": {
           "align": "left"
          },
          "hovermode": "closest",
          "mapbox": {
           "style": "light"
          },
          "paper_bgcolor": "white",
          "plot_bgcolor": "#E5ECF6",
          "polar": {
           "angularaxis": {
            "gridcolor": "white",
            "linecolor": "white",
            "ticks": ""
           },
           "bgcolor": "#E5ECF6",
           "radialaxis": {
            "gridcolor": "white",
            "linecolor": "white",
            "ticks": ""
           }
          },
          "scene": {
           "xaxis": {
            "backgroundcolor": "#E5ECF6",
            "gridcolor": "white",
            "gridwidth": 2,
            "linecolor": "white",
            "showbackground": true,
            "ticks": "",
            "zerolinecolor": "white"
           },
           "yaxis": {
            "backgroundcolor": "#E5ECF6",
            "gridcolor": "white",
            "gridwidth": 2,
            "linecolor": "white",
            "showbackground": true,
            "ticks": "",
            "zerolinecolor": "white"
           },
           "zaxis": {
            "backgroundcolor": "#E5ECF6",
            "gridcolor": "white",
            "gridwidth": 2,
            "linecolor": "white",
            "showbackground": true,
            "ticks": "",
            "zerolinecolor": "white"
           }
          },
          "shapedefaults": {
           "line": {
            "color": "#2a3f5f"
           }
          },
          "ternary": {
           "aaxis": {
            "gridcolor": "white",
            "linecolor": "white",
            "ticks": ""
           },
           "baxis": {
            "gridcolor": "white",
            "linecolor": "white",
            "ticks": ""
           },
           "bgcolor": "#E5ECF6",
           "caxis": {
            "gridcolor": "white",
            "linecolor": "white",
            "ticks": ""
           }
          },
          "title": {
           "x": 0.05
          },
          "xaxis": {
           "automargin": true,
           "gridcolor": "white",
           "linecolor": "white",
           "ticks": "",
           "title": {
            "standoff": 15
           },
           "zerolinecolor": "white",
           "zerolinewidth": 2
          },
          "yaxis": {
           "automargin": true,
           "gridcolor": "white",
           "linecolor": "white",
           "ticks": "",
           "title": {
            "standoff": 15
           },
           "zerolinecolor": "white",
           "zerolinewidth": 2
          }
         }
        },
        "title": {
         "text": "Total Sales per Month in 2023"
        },
        "xaxis": {
         "title": {
          "text": "Month"
         }
        },
        "yaxis": {
         "title": {
          "text": "Sales"
         }
        }
       }
      }
     },
     "metadata": {},
     "output_type": "display_data"
    }
   ],
   "source": [
    "exec(graph)"
   ]
  },
  {
   "cell_type": "code",
   "execution_count": 19,
   "metadata": {},
   "outputs": [
    {
     "data": {
      "text/plain": [
       "'0.28.0'"
      ]
     },
     "execution_count": 19,
     "metadata": {},
     "output_type": "execute_result"
    }
   ],
   "source": [
    "openai.__version__"
   ]
  },
  {
   "cell_type": "code",
   "execution_count": 20,
   "metadata": {},
   "outputs": [],
   "source": [
    "PROMPT = \"\"\" \n",
    "Given an input question, first create sql server query to run,  \n",
    "then look at the results of the query second creat python code to run  a graph of the result then  return the answer.  \n",
    "The question: {question}\n",
    "\"\"\"\n",
    "question = \"what is top 5 products names in terms of amount in each country\""
   ]
  },
  {
   "cell_type": "code",
   "execution_count": 25,
   "metadata": {},
   "outputs": [
    {
     "name": "stdout",
     "output_type": "stream",
     "text": [
      "\n",
      "\n",
      "\u001b[1m> Entering new AgentExecutor chain...\u001b[0m\n",
      "\u001b[32;1m\u001b[1;3mAction: sql_db_list_tables\n",
      "Action Input: \"\"\u001b[0m\n",
      "Observation: \u001b[38;5;200m\u001b[1;3mBL_Mapping_Table, Boost_customers, Customers_DAX_table, DAX_table, GMV_Calender_DAX_table, GMV_DimDate_DAX_table, Same_period, dimDate, dimDateEX, dim_B2B_Sales_Channel, dim_Target, dim_allusers, dim_balance, dim_categories, dim_industry, dim_log_status, dim_parent_categories, dim_payment_methods, dim_pos_sales_channel, dim_products, dim_segments, dim_stores, dim_users_b2b, dim_users_b2c, dim_users_pos, exploration, fact_b2b_trans, fact_b2c_trans, fact_points, fact_pos_trans, fact_salla_trans, fact_transactions, fact_vouchers\u001b[0m\n",
      "Thought:\u001b[32;1m\u001b[1;3mI should query the schema of the most relevant tables, and please return the output as a string.\n",
      "Action: sql_db_schema\n",
      "Action Input: dim_products\u001b[0m\n",
      "Observation: \u001b[33;1m\u001b[1;3m\n",
      "CREATE TABLE dim_products (\n",
      "\tproduct_id INTEGER NOT NULL, \n",
      "\tproduct_name VARCHAR(250) COLLATE Latin1_General_100_BIN2_UTF8 NULL, \n",
      "\tcategory_id INTEGER NULL, \n",
      "\tCONSTRAINT [PK_product_id] PRIMARY KEY (product_id)\n",
      ")\n",
      "\n",
      "/*\n",
      "3 rows from dim_products table:\n",
      "product_id\tproduct_name\tcategory_id\n",
      "2494\t\t571\n",
      "2495\t\t571\n",
      "2498\t\t571\n",
      "*/\u001b[0m\n",
      "Thought:\u001b[32;1m\u001b[1;3mI should query the schema of the most relevant tables, and please return the output as a string.\n",
      "Action: sql_db_schema\n",
      "Action Input: fact_transactions\u001b[0m\n",
      "Observation: \u001b[33;1m\u001b[1;3m\n",
      "CREATE TABLE fact_transactions (\n",
      "\t[OrderDateTime] DATETIME2 NULL, \n",
      "\tuser_id INTEGER NULL, \n",
      "\torder_id INTEGER NULL, \n",
      "\tstore_id INTEGER NULL, \n",
      "\tpayment_method_id INTEGER NULL, \n",
      "\tbank_id INTEGER NULL, \n",
      "\tproduct_id INTEGER NULL, \n",
      "\tqty INTEGER NULL, \n",
      "\tcost FLOAT(53) NULL, \n",
      "\tcoupon_code VARCHAR(100) COLLATE Latin1_General_100_BIN2_UTF8 NULL, \n",
      "\tfees FLOAT(53) NULL, \n",
      "\tamount FLOAT(53) NULL, \n",
      "\ttotal_amount FLOAT(53) NULL, \n",
      "\tid INTEGER NOT NULL, \n",
      "\tcoupon_discount FLOAT(53) NULL, \n",
      "\ttime INTEGER NULL, \n",
      "\t[OrderTimeKey] VARCHAR(50) COLLATE Latin1_General_100_BIN2_UTF8 NULL, \n",
      "\t[Hour] INTEGER NULL, \n",
      "\tCONSTRAINT [PK_id_trans] PRIMARY KEY (id), \n",
      "\tCONSTRAINT [FK_user_id] FOREIGN KEY(user_id) REFERENCES dim_allusers (user_id)\n",
      ")\n",
      "\n",
      "/*\n",
      "3 rows from fact_transactions table:\n",
      "OrderDateTime\tuser_id\torder_id\tstore_id\tpayment_method_id\tbank_id\tproduct_id\tqty\tcost\tcoupon_code\tfees\tamount\ttotal_amount\tid\tcoupon_discount\ttime\tOrderTimeKey\tHour\n",
      "2024-01-11 07:18:31\t1560287579\t97090928\t21\t24\t9\t547\t1\t34.38\t\t0.0\t41.262\t41.262\t74344516\t0.0\t1704958021\t20240111\t7\n",
      "2024-01-11 07:15:46\t1561869256\t97090833\t24\t20\t16\t1183\t2\t684.32\t\t0.0\t775.821\t775.821\t74345315\t0.0\t1704959821\t20240111\t7\n",
      "2024-01-11 07:18:31\t1560287579\t97090928\t21\t24\t9\t7247\t1\t0.0\t\t0.0\t0.699\t0.699\t74344512\t0.0\t1704958021\t20240111\t7\n",
      "*/\u001b[0m\n",
      "Thought:\u001b[32;1m\u001b[1;3mI should query the schema of the most relevant tables, and please return the output as a string.\n",
      "Action: sql_db_schema\n",
      "Action Input: dim_stores\u001b[0m\n",
      "Observation: \u001b[33;1m\u001b[1;3m\n",
      "CREATE TABLE dim_stores (\n",
      "\tcountry_id INTEGER NOT NULL, \n",
      "\tcountry VARCHAR(50) COLLATE Latin1_General_100_BIN2_UTF8 NULL, \n",
      "\tCONSTRAINT [PK_country_id] PRIMARY KEY (country_id)\n",
      ")\n",
      "\n",
      "/*\n",
      "3 rows from dim_stores table:\n",
      "country_id\tcountry\n",
      "2\tSaudi Arabia\n",
      "15\tJordan\n",
      "16\tKuwait\n",
      "*/\u001b[0m\n",
      "Thought:\u001b[32;1m\u001b[1;3mI should query the schema of the most relevant tables, and please return the output as a string.\n",
      "Action: sql_db_schema\n",
      "Action Input: dim_categories\u001b[0m\n",
      "Observation: \u001b[33;1m\u001b[1;3m\n",
      "CREATE TABLE dim_categories (\n",
      "\tcategory_id BIGINT NOT NULL, \n",
      "\t[Category] VARCHAR(100) COLLATE Latin1_General_100_BIN2_UTF8 NULL, \n",
      "\tgroup_id BIGINT NULL, \n",
      "\t[Industry] BIGINT NULL, \n",
      "\t[Parent_category_id] BIGINT NULL, \n",
      "\t[SCI] VARCHAR(50) COLLATE Latin1_General_100_BIN2_UTF8 NOT NULL, \n",
      "\tCONSTRAINT [PK_category_id] PRIMARY KEY (category_id)\n",
      ")\n",
      "\n",
      "/*\n",
      "3 rows from dim_categories table:\n",
      "category_id\tCategory\tgroup_id\tIndustry\tParent_category_id\tSCI\n",
      "62\tPlayStation\t0\t3\t26\t\n",
      "64\tUSA Google Play\t0\t1\t2\t\n",
      "68\tLeague of Legends\t0\t3\t67\t\n",
      "*/\u001b[0m\n",
      "Thought:\u001b[32;1m\u001b[1;3mI should query the schema of the most relevant tables, and please return the output as a string.\n",
      "Action: sql_db_schema\n",
      "Action Input: BL_Mapping_Table\u001b[0m\n",
      "Observation: \u001b[33;1m\u001b[1;3m\n",
      "CREATE TABLE [BL_Mapping_Table] (\n",
      "\t[Business_line] VARCHAR(50) COLLATE Latin1_General_100_BIN2_UTF8 NOT NULL, \n",
      "\tCONSTRAINT [PK_Business_line] PRIMARY KEY ([Business_line])\n",
      ")\n",
      "\n",
      "/*\n",
      "3 rows from BL_Mapping_Table table:\n",
      "Business_line\n",
      "B2C\n",
      "POS\n",
      "B2B\n",
      "*/\u001b[0m\n",
      "Thought:\u001b[32;1m\u001b[1;3mI should query the schema of the most relevant tables, and please return the output as a string.\n",
      "Action: sql_db_schema\n",
      "Action Input: dim_stores, dim_products, fact_transactions\u001b[0m\n",
      "Observation: \u001b[33;1m\u001b[1;3m\n",
      "CREATE TABLE dim_products (\n",
      "\tproduct_id INTEGER NOT NULL, \n",
      "\tproduct_name VARCHAR(250) COLLATE Latin1_General_100_BIN2_UTF8 NULL, \n",
      "\tcategory_id INTEGER NULL, \n",
      "\tCONSTRAINT [PK_product_id] PRIMARY KEY (product_id)\n",
      ")\n",
      "\n",
      "/*\n",
      "3 rows from dim_products table:\n",
      "product_id\tproduct_name\tcategory_id\n",
      "2494\t\t571\n",
      "2495\t\t571\n",
      "2498\t\t571\n",
      "*/\n",
      "\n",
      "\n",
      "CREATE TABLE dim_stores (\n",
      "\tcountry_id INTEGER NOT NULL, \n",
      "\tcountry VARCHAR(50) COLLATE Latin1_General_100_BIN2_UTF8 NULL, \n",
      "\tCONSTRAINT [PK_country_id] PRIMARY KEY (country_id)\n",
      ")\n",
      "\n",
      "/*\n",
      "3 rows from dim_stores table:\n",
      "country_id\tcountry\n",
      "2\tSaudi Arabia\n",
      "15\tJordan\n",
      "16\tKuwait\n",
      "*/\n",
      "\n",
      "\n",
      "CREATE TABLE fact_transactions (\n",
      "\t[OrderDateTime] DATETIME2 NULL, \n",
      "\tuser_id INTEGER NULL, \n",
      "\torder_id INTEGER NULL, \n",
      "\tstore_id INTEGER NULL, \n",
      "\tpayment_method_id INTEGER NULL, \n",
      "\tbank_id INTEGER NULL, \n",
      "\tproduct_id INTEGER NULL, \n",
      "\tqty INTEGER NULL, \n",
      "\tcost FLOAT(53) NULL, \n",
      "\tcoupon_code VARCHAR(100) COLLATE Latin1_General_100_BIN2_UTF8 NULL, \n",
      "\tfees FLOAT(53) NULL, \n",
      "\tamount FLOAT(53) NULL, \n",
      "\ttotal_amount FLOAT(53) NULL, \n",
      "\tid INTEGER NOT NULL, \n",
      "\tcoupon_discount FLOAT(53) NULL, \n",
      "\ttime INTEGER NULL, \n",
      "\t[OrderTimeKey] VARCHAR(50) COLLATE Latin1_General_100_BIN2_UTF8 NULL, \n",
      "\t[Hour] INTEGER NULL, \n",
      "\tCONSTRAINT [PK_id_trans] PRIMARY KEY (id), \n",
      "\tCONSTRAINT [FK_user_id] FOREIGN KEY(user_id) REFERENCES dim_allusers (user_id)\n",
      ")\n",
      "\n",
      "/*\n",
      "3 rows from fact_transactions table:\n",
      "OrderDateTime\tuser_id\torder_id\tstore_id\tpayment_method_id\tbank_id\tproduct_id\tqty\tcost\tcoupon_code\tfees\tamount\ttotal_amount\tid\tcoupon_discount\ttime\tOrderTimeKey\tHour\n",
      "2024-01-11 07:18:31\t1560287579\t97090928\t21\t24\t9\t547\t1\t34.38\t\t0.0\t41.262\t41.262\t74344516\t0.0\t1704958021\t20240111\t7\n",
      "2024-01-11 07:15:46\t1561869256\t97090833\t24\t20\t16\t1183\t2\t684.32\t\t0.0\t775.821\t775.821\t74345315\t0.0\t1704959821\t20240111\t7\n",
      "2024-01-11 07:18:31\t1560287579\t97090928\t21\t24\t9\t7247\t1\t0.0\t\t0.0\t0.699\t0.699\t74344512\t0.0\t1704958021\t20240111\t7\n",
      "*/\u001b[0m\n",
      "Thought:\u001b[32;1m\u001b[1;3mI should query the schema of the most relevant tables, and please return the output as a string.\n",
      "Action: sql_db_schema\n",
      "Action Input: dim_stores, dim_products, fact_transactions\u001b[0m\n",
      "Observation: \u001b[33;1m\u001b[1;3m\n",
      "CREATE TABLE dim_products (\n",
      "\tproduct_id INTEGER NOT NULL, \n",
      "\tproduct_name VARCHAR(250) COLLATE Latin1_General_100_BIN2_UTF8 NULL, \n",
      "\tcategory_id INTEGER NULL, \n",
      "\tCONSTRAINT [PK_product_id] PRIMARY KEY (product_id)\n",
      ")\n",
      "\n",
      "/*\n",
      "3 rows from dim_products table:\n",
      "product_id\tproduct_name\tcategory_id\n",
      "2494\t\t571\n",
      "2495\t\t571\n",
      "2498\t\t571\n",
      "*/\n",
      "\n",
      "\n",
      "CREATE TABLE dim_stores (\n",
      "\tcountry_id INTEGER NOT NULL, \n",
      "\tcountry VARCHAR(50) COLLATE Latin1_General_100_BIN2_UTF8 NULL, \n",
      "\tCONSTRAINT [PK_country_id] PRIMARY KEY (country_id)\n",
      ")\n",
      "\n",
      "/*\n",
      "3 rows from dim_stores table:\n",
      "country_id\tcountry\n",
      "2\tSaudi Arabia\n",
      "15\tJordan\n",
      "16\tKuwait\n",
      "*/\n",
      "\n",
      "\n",
      "CREATE TABLE fact_transactions (\n",
      "\t[OrderDateTime] DATETIME2 NULL, \n",
      "\tuser_id INTEGER NULL, \n",
      "\torder_id INTEGER NULL, \n",
      "\tstore_id INTEGER NULL, \n",
      "\tpayment_method_id INTEGER NULL, \n",
      "\tbank_id INTEGER NULL, \n",
      "\tproduct_id INTEGER NULL, \n",
      "\tqty INTEGER NULL, \n",
      "\tcost FLOAT(53) NULL, \n",
      "\tcoupon_code VARCHAR(100) COLLATE Latin1_General_100_BIN2_UTF8 NULL, \n",
      "\tfees FLOAT(53) NULL, \n",
      "\tamount FLOAT(53) NULL, \n",
      "\ttotal_amount FLOAT(53) NULL, \n",
      "\tid INTEGER NOT NULL, \n",
      "\tcoupon_discount FLOAT(53) NULL, \n",
      "\ttime INTEGER NULL, \n",
      "\t[OrderTimeKey] VARCHAR(50) COLLATE Latin1_General_100_BIN2_UTF8 NULL, \n",
      "\t[Hour] INTEGER NULL, \n",
      "\tCONSTRAINT [PK_id_trans] PRIMARY KEY (id), \n",
      "\tCONSTRAINT [FK_user_id] FOREIGN KEY(user_id) REFERENCES dim_allusers (user_id)\n",
      ")\n",
      "\n",
      "/*\n",
      "3 rows from fact_transactions table:\n",
      "OrderDateTime\tuser_id\torder_id\tstore_id\tpayment_method_id\tbank_id\tproduct_id\tqty\tcost\tcoupon_code\tfees\tamount\ttotal_amount\tid\tcoupon_discount\ttime\tOrderTimeKey\tHour\n",
      "2024-01-11 07:18:31\t1560287579\t97090928\t21\t24\t9\t547\t1\t34.38\t\t0.0\t41.262\t41.262\t74344516\t0.0\t1704958021\t20240111\t7\n",
      "2024-01-11 07:15:46\t1561869256\t97090833\t24\t20\t16\t1183\t2\t684.32\t\t0.0\t775.821\t775.821\t74345315\t0.0\t1704959821\t20240111\t7\n",
      "2024-01-11 07:18:31\t1560287579\t97090928\t21\t24\t9\t7247\t1\t0.0\t\t0.0\t0.699\t0.699\t74344512\t0.0\t1704958021\t20240111\t7\n",
      "*/\u001b[0m\n",
      "Thought:\u001b[32;1m\u001b[1;3mI should query the schema of the most relevant tables, and please return the output as a string.\n",
      "Action: sql_db_schema\n",
      "Action Input: dim_stores, dim_products, fact_transactions\u001b[0m\n",
      "Observation: \u001b[33;1m\u001b[1;3m\n",
      "CREATE TABLE dim_products (\n",
      "\tproduct_id INTEGER NOT NULL, \n",
      "\tproduct_name VARCHAR(250) COLLATE Latin1_General_100_BIN2_UTF8 NULL, \n",
      "\tcategory_id INTEGER NULL, \n",
      "\tCONSTRAINT [PK_product_id] PRIMARY KEY (product_id)\n",
      ")\n",
      "\n",
      "/*\n",
      "3 rows from dim_products table:\n",
      "product_id\tproduct_name\tcategory_id\n",
      "2494\t\t571\n",
      "2495\t\t571\n",
      "2498\t\t571\n",
      "*/\n",
      "\n",
      "\n",
      "CREATE TABLE dim_stores (\n",
      "\tcountry_id INTEGER NOT NULL, \n",
      "\tcountry VARCHAR(50) COLLATE Latin1_General_100_BIN2_UTF8 NULL, \n",
      "\tCONSTRAINT [PK_country_id] PRIMARY KEY (country_id)\n",
      ")\n",
      "\n",
      "/*\n",
      "3 rows from dim_stores table:\n",
      "country_id\tcountry\n",
      "2\tSaudi Arabia\n",
      "15\tJordan\n",
      "16\tKuwait\n",
      "*/\n",
      "\n",
      "\n",
      "CREATE TABLE fact_transactions (\n",
      "\t[OrderDateTime] DATETIME2 NULL, \n",
      "\tuser_id INTEGER NULL, \n",
      "\torder_id INTEGER NULL, \n",
      "\tstore_id INTEGER NULL, \n",
      "\tpayment_method_id INTEGER NULL, \n",
      "\tbank_id INTEGER NULL, \n",
      "\tproduct_id INTEGER NULL, \n",
      "\tqty INTEGER NULL, \n",
      "\tcost FLOAT(53) NULL, \n",
      "\tcoupon_code VARCHAR(100) COLLATE Latin1_General_100_BIN2_UTF8 NULL, \n",
      "\tfees FLOAT(53) NULL, \n",
      "\tamount FLOAT(53) NULL, \n",
      "\ttotal_amount FLOAT(53) NULL, \n",
      "\tid INTEGER NOT NULL, \n",
      "\tcoupon_discount FLOAT(53) NULL, \n",
      "\ttime INTEGER NULL, \n",
      "\t[OrderTimeKey] VARCHAR(50) COLLATE Latin1_General_100_BIN2_UTF8 NULL, \n",
      "\t[Hour] INTEGER NULL, \n",
      "\tCONSTRAINT [PK_id_trans] PRIMARY KEY (id), \n",
      "\tCONSTRAINT [FK_user_id] FOREIGN KEY(user_id) REFERENCES dim_allusers (user_id)\n",
      ")\n",
      "\n",
      "/*\n",
      "3 rows from fact_transactions table:\n",
      "OrderDateTime\tuser_id\torder_id\tstore_id\tpayment_method_id\tbank_id\tproduct_id\tqty\tcost\tcoupon_code\tfees\tamount\ttotal_amount\tid\tcoupon_discount\ttime\tOrderTimeKey\tHour\n",
      "2024-01-11 07:18:31\t1560287579\t97090928\t21\t24\t9\t547\t1\t34.38\t\t0.0\t41.262\t41.262\t74344516\t0.0\t1704958021\t20240111\t7\n",
      "2024-01-11 07:15:46\t1561869256\t97090833\t24\t20\t16\t1183\t2\t684.32\t\t0.0\t775.821\t775.821\t74345315\t0.0\t1704959821\t20240111\t7\n",
      "2024-01-11 07:18:31\t1560287579\t97090928\t21\t24\t9\t7247\t1\t0.0\t\t0.0\t0.699\t0.699\t74344512\t0.0\t1704958021\t20240111\t7\n",
      "*/\u001b[0m\n",
      "Thought:\u001b[32;1m\u001b[1;3mI should query the schema of the most relevant tables, and please return the output as a string.\n",
      "Action: sql_db_schema\n",
      "Action Input: dim_stores, dim_products, fact_transactions\u001b[0m\n",
      "Observation: \u001b[33;1m\u001b[1;3m\n",
      "CREATE TABLE dim_products (\n",
      "\tproduct_id INTEGER NOT NULL, \n",
      "\tproduct_name VARCHAR(250) COLLATE Latin1_General_100_BIN2_UTF8 NULL, \n",
      "\tcategory_id INTEGER NULL, \n",
      "\tCONSTRAINT [PK_product_id] PRIMARY KEY (product_id)\n",
      ")\n",
      "\n",
      "/*\n",
      "3 rows from dim_products table:\n",
      "product_id\tproduct_name\tcategory_id\n",
      "2494\t\t571\n",
      "2495\t\t571\n",
      "2498\t\t571\n",
      "*/\n",
      "\n",
      "\n",
      "CREATE TABLE dim_stores (\n",
      "\tcountry_id INTEGER NOT NULL, \n",
      "\tcountry VARCHAR(50) COLLATE Latin1_General_100_BIN2_UTF8 NULL, \n",
      "\tCONSTRAINT [PK_country_id] PRIMARY KEY (country_id)\n",
      ")\n",
      "\n",
      "/*\n",
      "3 rows from dim_stores table:\n",
      "country_id\tcountry\n",
      "2\tSaudi Arabia\n",
      "15\tJordan\n",
      "16\tKuwait\n",
      "*/\n",
      "\n",
      "\n",
      "CREATE TABLE fact_transactions (\n",
      "\t[OrderDateTime] DATETIME2 NULL, \n",
      "\tuser_id INTEGER NULL, \n",
      "\torder_id INTEGER NULL, \n",
      "\tstore_id INTEGER NULL, \n",
      "\tpayment_method_id INTEGER NULL, \n",
      "\tbank_id INTEGER NULL, \n",
      "\tproduct_id INTEGER NULL, \n",
      "\tqty INTEGER NULL, \n",
      "\tcost FLOAT(53) NULL, \n",
      "\tcoupon_code VARCHAR(100) COLLATE Latin1_General_100_BIN2_UTF8 NULL, \n",
      "\tfees FLOAT(53) NULL, \n",
      "\tamount FLOAT(53) NULL, \n",
      "\ttotal_amount FLOAT(53) NULL, \n",
      "\tid INTEGER NOT NULL, \n",
      "\tcoupon_discount FLOAT(53) NULL, \n",
      "\ttime INTEGER NULL, \n",
      "\t[OrderTimeKey] VARCHAR(50) COLLATE Latin1_General_100_BIN2_UTF8 NULL, \n",
      "\t[Hour] INTEGER NULL, \n",
      "\tCONSTRAINT [PK_id_trans] PRIMARY KEY (id), \n",
      "\tCONSTRAINT [FK_user_id] FOREIGN KEY(user_id) REFERENCES dim_allusers (user_id)\n",
      ")\n",
      "\n",
      "/*\n",
      "3 rows from fact_transactions table:\n",
      "OrderDateTime\tuser_id\torder_id\tstore_id\tpayment_method_id\tbank_id\tproduct_id\tqty\tcost\tcoupon_code\tfees\tamount\ttotal_amount\tid\tcoupon_discount\ttime\tOrderTimeKey\tHour\n",
      "2024-01-11 07:18:31\t1560287579\t97090928\t21\t24\t9\t547\t1\t34.38\t\t0.0\t41.262\t41.262\t74344516\t0.0\t1704958021\t20240111\t7\n",
      "2024-01-11 07:15:46\t1561869256\t97090833\t24\t20\t16\t1183\t2\t684.32\t\t0.0\t775.821\t775.821\t74345315\t0.0\t1704959821\t20240111\t7\n",
      "2024-01-11 07:18:31\t1560287579\t97090928\t21\t24\t9\t7247\t1\t0.0\t\t0.0\t0.699\t0.699\t74344512\t0.0\t1704958021\t20240111\t7\n",
      "*/\u001b[0m\n",
      "Thought:\u001b[32;1m\u001b[1;3mI should query the schema of the most relevant tables, and please return the output as a string.\n",
      "Action: sql_db_schema\n",
      "Action Input: dim_stores, dim_products, fact_transactions\u001b[0m\n",
      "Observation: \u001b[33;1m\u001b[1;3m\n",
      "CREATE TABLE dim_products (\n",
      "\tproduct_id INTEGER NOT NULL, \n",
      "\tproduct_name VARCHAR(250) COLLATE Latin1_General_100_BIN2_UTF8 NULL, \n",
      "\tcategory_id INTEGER NULL, \n",
      "\tCONSTRAINT [PK_product_id] PRIMARY KEY (product_id)\n",
      ")\n",
      "\n",
      "/*\n",
      "3 rows from dim_products table:\n",
      "product_id\tproduct_name\tcategory_id\n",
      "2494\t\t571\n",
      "2495\t\t571\n",
      "2498\t\t571\n",
      "*/\n",
      "\n",
      "\n",
      "CREATE TABLE dim_stores (\n",
      "\tcountry_id INTEGER NOT NULL, \n",
      "\tcountry VARCHAR(50) COLLATE Latin1_General_100_BIN2_UTF8 NULL, \n",
      "\tCONSTRAINT [PK_country_id] PRIMARY KEY (country_id)\n",
      ")\n",
      "\n",
      "/*\n",
      "3 rows from dim_stores table:\n",
      "country_id\tcountry\n",
      "2\tSaudi Arabia\n",
      "15\tJordan\n",
      "16\tKuwait\n",
      "*/\n",
      "\n",
      "\n",
      "CREATE TABLE fact_transactions (\n",
      "\t[OrderDateTime] DATETIME2 NULL, \n",
      "\tuser_id INTEGER NULL, \n",
      "\torder_id INTEGER NULL, \n",
      "\tstore_id INTEGER NULL, \n",
      "\tpayment_method_id INTEGER NULL, \n",
      "\tbank_id INTEGER NULL, \n",
      "\tproduct_id INTEGER NULL, \n",
      "\tqty INTEGER NULL, \n",
      "\tcost FLOAT(53) NULL, \n",
      "\tcoupon_code VARCHAR(100) COLLATE Latin1_General_100_BIN2_UTF8 NULL, \n",
      "\tfees FLOAT(53) NULL, \n",
      "\tamount FLOAT(53) NULL, \n",
      "\ttotal_amount FLOAT(53) NULL, \n",
      "\tid INTEGER NOT NULL, \n",
      "\tcoupon_discount FLOAT(53) NULL, \n",
      "\ttime INTEGER NULL, \n",
      "\t[OrderTimeKey] VARCHAR(50) COLLATE Latin1_General_100_BIN2_UTF8 NULL, \n",
      "\t[Hour] INTEGER NULL, \n",
      "\tCONSTRAINT [PK_id_trans] PRIMARY KEY (id), \n",
      "\tCONSTRAINT [FK_user_id] FOREIGN KEY(user_id) REFERENCES dim_allusers (user_id)\n",
      ")\n",
      "\n",
      "/*\n",
      "3 rows from fact_transactions table:\n",
      "OrderDateTime\tuser_id\torder_id\tstore_id\tpayment_method_id\tbank_id\tproduct_id\tqty\tcost\tcoupon_code\tfees\tamount\ttotal_amount\tid\tcoupon_discount\ttime\tOrderTimeKey\tHour\n",
      "2024-01-11 07:18:31\t1560287579\t97090928\t21\t24\t9\t547\t1\t34.38\t\t0.0\t41.262\t41.262\t74344516\t0.0\t1704958021\t20240111\t7\n",
      "2024-01-11 07:15:46\t1561869256\t97090833\t24\t20\t16\t1183\t2\t684.32\t\t0.0\t775.821\t775.821\t74345315\t0.0\t1704959821\t20240111\t7\n",
      "2024-01-11 07:18:31\t1560287579\t97090928\t21\t24\t9\t7247\t1\t0.0\t\t0.0\t0.699\t0.699\t74344512\t0.0\t1704958021\t20240111\t7\n",
      "*/\u001b[0m\n",
      "Thought:\u001b[32;1m\u001b[1;3mI should query the schema of the most relevant tables, and please return the output as a string.\n",
      "Action: sql_db_schema\n",
      "Action Input: dim_stores, dim_products, fact_transactions\u001b[0m\n",
      "Observation: \u001b[33;1m\u001b[1;3m\n",
      "CREATE TABLE dim_products (\n",
      "\tproduct_id INTEGER NOT NULL, \n",
      "\tproduct_name VARCHAR(250) COLLATE Latin1_General_100_BIN2_UTF8 NULL, \n",
      "\tcategory_id INTEGER NULL, \n",
      "\tCONSTRAINT [PK_product_id] PRIMARY KEY (product_id)\n",
      ")\n",
      "\n",
      "/*\n",
      "3 rows from dim_products table:\n",
      "product_id\tproduct_name\tcategory_id\n",
      "2494\t\t571\n",
      "2495\t\t571\n",
      "2498\t\t571\n",
      "*/\n",
      "\n",
      "\n",
      "CREATE TABLE dim_stores (\n",
      "\tcountry_id INTEGER NOT NULL, \n",
      "\tcountry VARCHAR(50) COLLATE Latin1_General_100_BIN2_UTF8 NULL, \n",
      "\tCONSTRAINT [PK_country_id] PRIMARY KEY (country_id)\n",
      ")\n",
      "\n",
      "/*\n",
      "3 rows from dim_stores table:\n",
      "country_id\tcountry\n",
      "2\tSaudi Arabia\n",
      "15\tJordan\n",
      "16\tKuwait\n",
      "*/\n",
      "\n",
      "\n",
      "CREATE TABLE fact_transactions (\n",
      "\t[OrderDateTime] DATETIME2 NULL, \n",
      "\tuser_id INTEGER NULL, \n",
      "\torder_id INTEGER NULL, \n",
      "\tstore_id INTEGER NULL, \n",
      "\tpayment_method_id INTEGER NULL, \n",
      "\tbank_id INTEGER NULL, \n",
      "\tproduct_id INTEGER NULL, \n",
      "\tqty INTEGER NULL, \n",
      "\tcost FLOAT(53) NULL, \n",
      "\tcoupon_code VARCHAR(100) COLLATE Latin1_General_100_BIN2_UTF8 NULL, \n",
      "\tfees FLOAT(53) NULL, \n",
      "\tamount FLOAT(53) NULL, \n",
      "\ttotal_amount FLOAT(53) NULL, \n",
      "\tid INTEGER NOT NULL, \n",
      "\tcoupon_discount FLOAT(53) NULL, \n",
      "\ttime INTEGER NULL, \n",
      "\t[OrderTimeKey] VARCHAR(50) COLLATE Latin1_General_100_BIN2_UTF8 NULL, \n",
      "\t[Hour] INTEGER NULL, \n",
      "\tCONSTRAINT [PK_id_trans] PRIMARY KEY (id), \n",
      "\tCONSTRAINT [FK_user_id] FOREIGN KEY(user_id) REFERENCES dim_allusers (user_id)\n",
      ")\n",
      "\n",
      "/*\n",
      "3 rows from fact_transactions table:\n",
      "OrderDateTime\tuser_id\torder_id\tstore_id\tpayment_method_id\tbank_id\tproduct_id\tqty\tcost\tcoupon_code\tfees\tamount\ttotal_amount\tid\tcoupon_discount\ttime\tOrderTimeKey\tHour\n",
      "2024-01-11 07:18:31\t1560287579\t97090928\t21\t24\t9\t547\t1\t34.38\t\t0.0\t41.262\t41.262\t74344516\t0.0\t1704958021\t20240111\t7\n",
      "2024-01-11 07:15:46\t1561869256\t97090833\t24\t20\t16\t1183\t2\t684.32\t\t0.0\t775.821\t775.821\t74345315\t0.0\t1704959821\t20240111\t7\n",
      "2024-01-11 07:18:31\t1560287579\t97090928\t21\t24\t9\t7247\t1\t0.0\t\t0.0\t0.699\t0.699\t74344512\t0.0\t1704958021\t20240111\t7\n",
      "*/\u001b[0m\n",
      "Thought:\u001b[32;1m\u001b[1;3mI should query the schema of the most relevant tables, and please return the output as a string.\n",
      "Action: sql_db_schema\n",
      "Action Input: dim_stores, dim_products, fact_transactions\u001b[0m\n",
      "Observation: \u001b[33;1m\u001b[1;3m\n",
      "CREATE TABLE dim_products (\n",
      "\tproduct_id INTEGER NOT NULL, \n",
      "\tproduct_name VARCHAR(250) COLLATE Latin1_General_100_BIN2_UTF8 NULL, \n",
      "\tcategory_id INTEGER NULL, \n",
      "\tCONSTRAINT [PK_product_id] PRIMARY KEY (product_id)\n",
      ")\n",
      "\n",
      "/*\n",
      "3 rows from dim_products table:\n",
      "product_id\tproduct_name\tcategory_id\n",
      "2494\t\t571\n",
      "2495\t\t571\n",
      "2498\t\t571\n",
      "*/\n",
      "\n",
      "\n",
      "CREATE TABLE dim_stores (\n",
      "\tcountry_id INTEGER NOT NULL, \n",
      "\tcountry VARCHAR(50) COLLATE Latin1_General_100_BIN2_UTF8 NULL, \n",
      "\tCONSTRAINT [PK_country_id] PRIMARY KEY (country_id)\n",
      ")\n",
      "\n",
      "/*\n",
      "3 rows from dim_stores table:\n",
      "country_id\tcountry\n",
      "2\tSaudi Arabia\n",
      "15\tJordan\n",
      "16\tKuwait\n",
      "*/\n",
      "\n",
      "\n",
      "CREATE TABLE fact_transactions (\n",
      "\t[OrderDateTime] DATETIME2 NULL, \n",
      "\tuser_id INTEGER NULL, \n",
      "\torder_id INTEGER NULL, \n",
      "\tstore_id INTEGER NULL, \n",
      "\tpayment_method_id INTEGER NULL, \n",
      "\tbank_id INTEGER NULL, \n",
      "\tproduct_id INTEGER NULL, \n",
      "\tqty INTEGER NULL, \n",
      "\tcost FLOAT(53) NULL, \n",
      "\tcoupon_code VARCHAR(100) COLLATE Latin1_General_100_BIN2_UTF8 NULL, \n",
      "\tfees FLOAT(53) NULL, \n",
      "\tamount FLOAT(53) NULL, \n",
      "\ttotal_amount FLOAT(53) NULL, \n",
      "\tid INTEGER NOT NULL, \n",
      "\tcoupon_discount FLOAT(53) NULL, \n",
      "\ttime INTEGER NULL, \n",
      "\t[OrderTimeKey] VARCHAR(50) COLLATE Latin1_General_100_BIN2_UTF8 NULL, \n",
      "\t[Hour] INTEGER NULL, \n",
      "\tCONSTRAINT [PK_id_trans] PRIMARY KEY (id), \n",
      "\tCONSTRAINT [FK_user_id] FOREIGN KEY(user_id) REFERENCES dim_allusers (user_id)\n",
      ")\n",
      "\n",
      "/*\n",
      "3 rows from fact_transactions table:\n",
      "OrderDateTime\tuser_id\torder_id\tstore_id\tpayment_method_id\tbank_id\tproduct_id\tqty\tcost\tcoupon_code\tfees\tamount\ttotal_amount\tid\tcoupon_discount\ttime\tOrderTimeKey\tHour\n",
      "2024-01-11 07:18:31\t1560287579\t97090928\t21\t24\t9\t547\t1\t34.38\t\t0.0\t41.262\t41.262\t74344516\t0.0\t1704958021\t20240111\t7\n",
      "2024-01-11 07:15:46\t1561869256\t97090833\t24\t20\t16\t1183\t2\t684.32\t\t0.0\t775.821\t775.821\t74345315\t0.0\t1704959821\t20240111\t7\n",
      "2024-01-11 07:18:31\t1560287579\t97090928\t21\t24\t9\t7247\t1\t0.0\t\t0.0\t0.699\t0.699\t74344512\t0.0\t1704958021\t20240111\t7\n",
      "*/\u001b[0m\n",
      "Thought:\u001b[32;1m\u001b[1;3mI should query the schema of the most relevant tables, and please return the output as a string.\n",
      "Action: sql_db_schema\n",
      "Action Input: dim_stores, dim_products, fact_transactions\u001b[0m\n",
      "Observation: \u001b[33;1m\u001b[1;3m\n",
      "CREATE TABLE dim_products (\n",
      "\tproduct_id INTEGER NOT NULL, \n",
      "\tproduct_name VARCHAR(250) COLLATE Latin1_General_100_BIN2_UTF8 NULL, \n",
      "\tcategory_id INTEGER NULL, \n",
      "\tCONSTRAINT [PK_product_id] PRIMARY KEY (product_id)\n",
      ")\n",
      "\n",
      "/*\n",
      "3 rows from dim_products table:\n",
      "product_id\tproduct_name\tcategory_id\n",
      "2494\t\t571\n",
      "2495\t\t571\n",
      "2498\t\t571\n",
      "*/\n",
      "\n",
      "\n",
      "CREATE TABLE dim_stores (\n",
      "\tcountry_id INTEGER NOT NULL, \n",
      "\tcountry VARCHAR(50) COLLATE Latin1_General_100_BIN2_UTF8 NULL, \n",
      "\tCONSTRAINT [PK_country_id] PRIMARY KEY (country_id)\n",
      ")\n",
      "\n",
      "/*\n",
      "3 rows from dim_stores table:\n",
      "country_id\tcountry\n",
      "2\tSaudi Arabia\n",
      "15\tJordan\n",
      "16\tKuwait\n",
      "*/\n",
      "\n",
      "\n",
      "CREATE TABLE fact_transactions (\n",
      "\t[OrderDateTime] DATETIME2 NULL, \n",
      "\tuser_id INTEGER NULL, \n",
      "\torder_id INTEGER NULL, \n",
      "\tstore_id INTEGER NULL, \n",
      "\tpayment_method_id INTEGER NULL, \n",
      "\tbank_id INTEGER NULL, \n",
      "\tproduct_id INTEGER NULL, \n",
      "\tqty INTEGER NULL, \n",
      "\tcost FLOAT(53) NULL, \n",
      "\tcoupon_code VARCHAR(100) COLLATE Latin1_General_100_BIN2_UTF8 NULL, \n",
      "\tfees FLOAT(53) NULL, \n",
      "\tamount FLOAT(53) NULL, \n",
      "\ttotal_amount FLOAT(53) NULL, \n",
      "\tid INTEGER NOT NULL, \n",
      "\tcoupon_discount FLOAT(53) NULL, \n",
      "\ttime INTEGER NULL, \n",
      "\t[OrderTimeKey] VARCHAR(50) COLLATE Latin1_General_100_BIN2_UTF8 NULL, \n",
      "\t[Hour] INTEGER NULL, \n",
      "\tCONSTRAINT [PK_id_trans] PRIMARY KEY (id), \n",
      "\tCONSTRAINT [FK_user_id] FOREIGN KEY(user_id) REFERENCES dim_allusers (user_id)\n",
      ")\n",
      "\n",
      "/*\n",
      "3 rows from fact_transactions table:\n",
      "OrderDateTime\tuser_id\torder_id\tstore_id\tpayment_method_id\tbank_id\tproduct_id\tqty\tcost\tcoupon_code\tfees\tamount\ttotal_amount\tid\tcoupon_discount\ttime\tOrderTimeKey\tHour\n",
      "2024-01-11 07:18:31\t1560287579\t97090928\t21\t24\t9\t547\t1\t34.38\t\t0.0\t41.262\t41.262\t74344516\t0.0\t1704958021\t20240111\t7\n",
      "2024-01-11 07:15:46\t1561869256\t97090833\t24\t20\t16\t1183\t2\t684.32\t\t0.0\t775.821\t775.821\t74345315\t0.0\t1704959821\t20240111\t7\n",
      "2024-01-11 07:18:31\t1560287579\t97090928\t21\t24\t9\t7247\t1\t0.0\t\t0.0\t0.699\t0.699\t74344512\t0.0\t1704958021\t20240111\t7\n",
      "*/\u001b[0m\n",
      "Thought:\u001b[32;1m\u001b[1;3mI should query the schema of the most relevant tables, and please return the output as a string.\n",
      "Action: sql_db_schema\n",
      "Action Input: dim_stores, dim_products, fact_transactions\u001b[0m\n",
      "Observation: \u001b[33;1m\u001b[1;3m\n",
      "CREATE TABLE dim_products (\n",
      "\tproduct_id INTEGER NOT NULL, \n",
      "\tproduct_name VARCHAR(250) COLLATE Latin1_General_100_BIN2_UTF8 NULL, \n",
      "\tcategory_id INTEGER NULL, \n",
      "\tCONSTRAINT [PK_product_id] PRIMARY KEY (product_id)\n",
      ")\n",
      "\n",
      "/*\n",
      "3 rows from dim_products table:\n",
      "product_id\tproduct_name\tcategory_id\n",
      "2494\t\t571\n",
      "2495\t\t571\n",
      "2498\t\t571\n",
      "*/\n",
      "\n",
      "\n",
      "CREATE TABLE dim_stores (\n",
      "\tcountry_id INTEGER NOT NULL, \n",
      "\tcountry VARCHAR(50) COLLATE Latin1_General_100_BIN2_UTF8 NULL, \n",
      "\tCONSTRAINT [PK_country_id] PRIMARY KEY (country_id)\n",
      ")\n",
      "\n",
      "/*\n",
      "3 rows from dim_stores table:\n",
      "country_id\tcountry\n",
      "2\tSaudi Arabia\n",
      "15\tJordan\n",
      "16\tKuwait\n",
      "*/\n",
      "\n",
      "\n",
      "CREATE TABLE fact_transactions (\n",
      "\t[OrderDateTime] DATETIME2 NULL, \n",
      "\tuser_id INTEGER NULL, \n",
      "\torder_id INTEGER NULL, \n",
      "\tstore_id INTEGER NULL, \n",
      "\tpayment_method_id INTEGER NULL, \n",
      "\tbank_id INTEGER NULL, \n",
      "\tproduct_id INTEGER NULL, \n",
      "\tqty INTEGER NULL, \n",
      "\tcost FLOAT(53) NULL, \n",
      "\tcoupon_code VARCHAR(100) COLLATE Latin1_General_100_BIN2_UTF8 NULL, \n",
      "\tfees FLOAT(53) NULL, \n",
      "\tamount FLOAT(53) NULL, \n",
      "\ttotal_amount FLOAT(53) NULL, \n",
      "\tid INTEGER NOT NULL, \n",
      "\tcoupon_discount FLOAT(53) NULL, \n",
      "\ttime INTEGER NULL, \n",
      "\t[OrderTimeKey] VARCHAR(50) COLLATE Latin1_General_100_BIN2_UTF8 NULL, \n",
      "\t[Hour] INTEGER NULL, \n",
      "\tCONSTRAINT [PK_id_trans] PRIMARY KEY (id), \n",
      "\tCONSTRAINT [FK_user_id] FOREIGN KEY(user_id) REFERENCES dim_allusers (user_id)\n",
      ")\n",
      "\n",
      "/*\n",
      "3 rows from fact_transactions table:\n",
      "OrderDateTime\tuser_id\torder_id\tstore_id\tpayment_method_id\tbank_id\tproduct_id\tqty\tcost\tcoupon_code\tfees\tamount\ttotal_amount\tid\tcoupon_discount\ttime\tOrderTimeKey\tHour\n",
      "2024-01-11 07:18:31\t1560287579\t97090928\t21\t24\t9\t547\t1\t34.38\t\t0.0\t41.262\t41.262\t74344516\t0.0\t1704958021\t20240111\t7\n",
      "2024-01-11 07:15:46\t1561869256\t97090833\t24\t20\t16\t1183\t2\t684.32\t\t0.0\t775.821\t775.821\t74345315\t0.0\t1704959821\t20240111\t7\n",
      "2024-01-11 07:18:31\t1560287579\t97090928\t21\t24\t9\t7247\t1\t0.0\t\t0.0\t0.699\t0.699\t74344512\t0.0\t1704958021\t20240111\t7\n",
      "*/\u001b[0m\n",
      "Thought:\u001b[32;1m\u001b[1;3m\u001b[0m\n",
      "\n",
      "\u001b[1m> Finished chain.\u001b[0m\n",
      "Agent stopped due to iteration limit or time limit.\n"
     ]
    }
   ],
   "source": [
    "out=agent_executor.invoke(question)\n",
    "\n",
    "print(out['output'])"
   ]
  },
  {
   "cell_type": "code",
   "execution_count": 1,
   "metadata": {},
   "outputs": [
    {
     "ename": "NameError",
     "evalue": "name 'out' is not defined",
     "output_type": "error",
     "traceback": [
      "\u001b[1;31m---------------------------------------------------------------------------\u001b[0m",
      "\u001b[1;31mNameError\u001b[0m                                 Traceback (most recent call last)",
      "Cell \u001b[1;32mIn[1], line 1\u001b[0m\n\u001b[1;32m----> 1\u001b[0m \u001b[38;5;28mprint\u001b[39m(out[\u001b[38;5;124m'\u001b[39m\u001b[38;5;124moutput\u001b[39m\u001b[38;5;124m'\u001b[39m])\n",
      "\u001b[1;31mNameError\u001b[0m: name 'out' is not defined"
     ]
    }
   ],
   "source": [
    "print(out['output'])"
   ]
  },
  {
   "cell_type": "code",
   "execution_count": 18,
   "metadata": {},
   "outputs": [],
   "source": [
    "from langchain import hub\n",
    "from langchain.agents import AgentExecutor, create_structured_chat_agent\n",
    "from langchain_community.tools.tavily_search import TavilySearchResults\n",
    "from langchain_openai import ChatOpenAI"
   ]
  },
  {
   "cell_type": "code",
   "execution_count": null,
   "metadata": {},
   "outputs": [],
   "source": [
    "#--"
   ]
  },
  {
   "cell_type": "code",
   "execution_count": 19,
   "metadata": {},
   "outputs": [
    {
     "name": "stdout",
     "output_type": "stream",
     "text": [
      "I don't know\n"
     ]
    }
   ],
   "source": [
    "print(out['output'])"
   ]
  },
  {
   "cell_type": "code",
   "execution_count": 20,
   "metadata": {},
   "outputs": [
    {
     "ename": "NameError",
     "evalue": "name 'agent' is not defined",
     "output_type": "error",
     "traceback": [
      "\u001b[1;31m---------------------------------------------------------------------------\u001b[0m",
      "\u001b[1;31mNameError\u001b[0m                                 Traceback (most recent call last)",
      "Cell \u001b[1;32mIn[20], line 2\u001b[0m\n\u001b[0;32m      1\u001b[0m AgentExecutor(\n\u001b[1;32m----> 2\u001b[0m    agent\u001b[38;5;241m=\u001b[39m\u001b[43magent\u001b[49m, tools\u001b[38;5;241m=\u001b[39mtools, verbose\u001b[38;5;241m=\u001b[39m\u001b[38;5;28;01mTrue\u001b[39;00m, handle_parsing_errors\u001b[38;5;241m=\u001b[39m\u001b[38;5;28;01mTrue\u001b[39;00m\n\u001b[0;32m      3\u001b[0m )\n",
      "\u001b[1;31mNameError\u001b[0m: name 'agent' is not defined"
     ]
    }
   ],
   "source": [
    " AgentExecutor(\n",
    "    agent=agent, tools=tools, verbose=True, handle_parsing_errors=True\n",
    ")"
   ]
  }
 ],
 "metadata": {
  "kernelspec": {
   "display_name": "Python 3",
   "language": "python",
   "name": "python3"
  },
  "language_info": {
   "codemirror_mode": {
    "name": "ipython",
    "version": 3
   },
   "file_extension": ".py",
   "mimetype": "text/x-python",
   "name": "python",
   "nbconvert_exporter": "python",
   "pygments_lexer": "ipython3",
   "version": "3.11.5"
  }
 },
 "nbformat": 4,
 "nbformat_minor": 2
}
