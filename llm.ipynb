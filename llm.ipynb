{
 "cells": [
  {
   "cell_type": "code",
   "execution_count": 1,
   "metadata": {},
   "outputs": [],
   "source": [
    "from langchain.agents import create_sql_agent,create_openai_functions_agent\n",
    "from langchain.agents.agent_toolkits import SQLDatabaseToolkit\n",
    "from langchain.sql_database import SQLDatabase\n",
    "from langchain.llms.openai import OpenAI\n",
    "from langchain.agents import AgentExecutor\n",
    "import os\n",
    "from langchain_community.llms import AzureOpenAI\n",
    "from langchain.agents.agent_types import AgentType\n",
    "\n",
    "os.environ[\"OPENAI_API_TYPE\"] = \"azure\"\n",
    "import openai\n",
    "\n"
   ]
  },
  {
   "cell_type": "code",
   "execution_count": 2,
   "metadata": {},
   "outputs": [],
   "source": [
    "openai.api_type = \"azure\"\n",
    "openai.api_base = \"https://like-card-test.openai.azure.com/\"\n",
    "openai.api_version = \"2023-07-01-preview\"\n",
    "openai.api_key = \"85889c7998dd4adb9a4c89abe56b1242\"\n",
    "openai.azure_endpoint=\"https://like-card-test.openai.azure.com/openai/deployments/gpt-35-turbo/chat/completions?api-version=2023-07-01-preview\""
   ]
  },
  {
   "cell_type": "code",
   "execution_count": 3,
   "metadata": {},
   "outputs": [],
   "source": [
    "import os\n",
    "\n",
    "os.environ[\"OPENAI_API_TYPE\"] = \"azure\"\n",
    "os.environ[\"OPENAI_API_VERSION\"] = \"2023-07-01-preview\"\n",
    "os.environ[\"OPENAI_API_BASE\"] = \"https://like-card-test.openai.azure.com/\"\n",
    "os.environ[\"OPENAI_API_KEY\"] = \"85889c7998dd4adb9a4c89abe56b1242\"\n",
    "os.environ[\"OPENAI_API_ENDPOINT\"]=\"https://like-card-test.openai.azure.com/openai/deployments/gpt-35-turbo-instruct/chat/completions?api-version=2023-07-01-preview\""
   ]
  },
  {
   "cell_type": "code",
   "execution_count": 4,
   "metadata": {},
   "outputs": [],
   "source": [
    "openai.api_type = \"azure\"\n",
    "openai.api_base = \"https://like-card-test.openai.azure.com/\"\n",
    "openai.api_version = \"2023-07-01-preview\"\n",
    "openai.api_key = \"85889c7998dd4adb9a4c89abe56b1242\" \n",
    "openai.azure_endpoint=\"https://like-card-test.openai.azure.com/openai/deployments/gpt-35-turbo-instruct/chat/completions?api-version=2023-07-01-preview\""
   ]
  },
  {
   "cell_type": "code",
   "execution_count": 5,
   "metadata": {},
   "outputs": [],
   "source": [
    "f = open(\"Credintials.txt\", \"r\")\n",
    "email = None\n",
    "password = None\n",
    "for i, line in enumerate(f): \n",
    "    if i == 0:\n",
    "        email = line.strip()  # Assign the first line to email variable\n",
    "    elif i == 1:\n",
    "        password = line.strip()  # Assign the second line to password variable\n",
    "\n",
    "f.close()"
   ]
  },
  {
   "cell_type": "code",
   "execution_count": 6,
   "metadata": {},
   "outputs": [],
   "source": [
    "server = 'anmx3c2yurjethctgyba6xtuaq-vkvbn7t4322edeguc3ufhjtjeu.datawarehouse.pbidedicated.windows.net'\n",
    "database = 'likeCard'\n",
    "driver='ODBC Driver 18 for SQL Server'\n",
    "user= email # use %40 inplace of @\n",
    "pass1=password # use %40 inplace of @   \n",
    "db_string =f'mssql+pyodbc://{user}:{pass1}@{server}/{database}?driver={driver}&Trusted_Connection=no&Authentication=ActiveDirectoryInteractive'\n",
    "dp=SQLDatabase.from_uri(db_string)\n"
   ]
  },
  {
   "cell_type": "code",
   "execution_count": 7,
   "metadata": {},
   "outputs": [
    {
     "name": "stderr",
     "output_type": "stream",
     "text": [
      "C:\\Users\\moham\\AppData\\Local\\Packages\\PythonSoftwareFoundation.Python.3.11_qbz5n2kfra8p0\\LocalCache\\local-packages\\Python311\\site-packages\\langchain_core\\_api\\deprecation.py:189: LangChainDeprecationWarning: The class `AzureOpenAI` was deprecated in LangChain 0.1.0 and will be removed in 0.2.0. Use langchain_openai.AzureOpenAI instead.\n",
      "  warn_deprecated(\n"
     ]
    }
   ],
   "source": [
    "llm = AzureOpenAI( model_name=\"gpt-35-turbo-instruct\",deployment_name=\"gpt-35-turbo-instruct\",temperature=0.2)"
   ]
  },
  {
   "cell_type": "code",
   "execution_count": 8,
   "metadata": {},
   "outputs": [],
   "source": [
    "toolkit = SQLDatabaseToolkit(db=dp,llm=llm)\n"
   ]
  },
  {
   "cell_type": "code",
   "execution_count": 9,
   "metadata": {},
   "outputs": [
    {
     "name": "stderr",
     "output_type": "stream",
     "text": [
      "C:\\Users\\moham\\AppData\\Local\\Packages\\PythonSoftwareFoundation.Python.3.11_qbz5n2kfra8p0\\LocalCache\\local-packages\\Python311\\site-packages\\langchain_core\\_api\\deprecation.py:189: LangChainDeprecationWarning: The class `ZeroShotAgent` was deprecated in LangChain 0.1.0 and will be removed in 0.2.0. Use create_react_agent instead.\n",
      "  warn_deprecated(\n",
      "C:\\Users\\moham\\AppData\\Local\\Packages\\PythonSoftwareFoundation.Python.3.11_qbz5n2kfra8p0\\LocalCache\\local-packages\\Python311\\site-packages\\langchain_core\\_api\\deprecation.py:189: LangChainDeprecationWarning: The class `Agent` was deprecated in LangChain 0.1.0 and will be removed in 0.2.0. Use Use new agent constructor methods like create_react_agent, create_json_agent, create_structured_chat_agent, etc. instead.\n",
      "  warn_deprecated(\n"
     ]
    }
   ],
   "source": [
    "agent_executor = create_sql_agent(\n",
    "    llm=llm,\n",
    "    toolkit=toolkit,\n",
    "    verbose=True ,\n",
    "    agent_type=AgentType.ZERO_SHOT_REACT_DESCRIPTION,\n",
    "\n",
    ")"
   ]
  },
  {
   "cell_type": "code",
   "execution_count": null,
   "metadata": {},
   "outputs": [],
   "source": []
  },
  {
   "cell_type": "code",
   "execution_count": 10,
   "metadata": {},
   "outputs": [],
   "source": [
    "from langchain.memory import ConversationBufferMemory\n"
   ]
  },
  {
   "cell_type": "code",
   "execution_count": 26,
   "metadata": {},
   "outputs": [],
   "source": [
    "SQL_SUFFIX = \"\"\"Begin!\n",
    "history: {history}\n",
    "question: {query}\n",
    "Thought: I should look at the tables in the database to see what I can query. Then I should query the schema of the most relevant tables, and please return the output as a string.\n",
    "{agent_scratchpad} \n",
    "\"\"\""
   ]
  },
  {
   "cell_type": "code",
   "execution_count": 27,
   "metadata": {},
   "outputs": [
    {
     "name": "stderr",
     "output_type": "stream",
     "text": [
      "C:\\Users\\moham\\AppData\\Local\\Packages\\PythonSoftwareFoundation.Python.3.11_qbz5n2kfra8p0\\LocalCache\\local-packages\\Python311\\site-packages\\langchain_core\\_api\\deprecation.py:189: LangChainDeprecationWarning: The class `ZeroShotAgent` was deprecated in LangChain 0.1.0 and will be removed in 0.2.0. Use create_react_agent instead.\n",
      "  warn_deprecated(\n",
      "C:\\Users\\moham\\AppData\\Local\\Packages\\PythonSoftwareFoundation.Python.3.11_qbz5n2kfra8p0\\LocalCache\\local-packages\\Python311\\site-packages\\langchain_core\\_api\\deprecation.py:189: LangChainDeprecationWarning: The class `Agent` was deprecated in LangChain 0.1.0 and will be removed in 0.2.0. Use Use new agent constructor methods like create_react_agent, create_json_agent, create_structured_chat_agent, etc. instead.\n",
      "  warn_deprecated(\n"
     ]
    }
   ],
   "source": [
    "agent_executor = create_sql_agent(   \n",
    "    llm,\n",
    "    SQLDatabaseToolkit(db=dp, llm=llm),\n",
    "    agent_executor_kwargs={\n",
    "        \"memory\": ConversationBufferMemory(\n",
    "            input_key=\"query\", memory_key=\"history\", return_messages= True\n",
    "\n",
    "        )\n",
    "    },\n",
    "    \n",
    "    suffix=SQL_SUFFIX,\n",
    "    input_variables=[\"query\", \"history\", \"agent_scratchpad\"],\n",
    "    verbose= True\n",
    ")  "
   ]
  },
  {
   "cell_type": "code",
   "execution_count": 40,
   "metadata": {},
   "outputs": [],
   "source": [
    "query = \"i need the  country or the stored name instead of the id of the store\""
   ]
  },
  {
   "cell_type": "code",
   "execution_count": 41,
   "metadata": {},
   "outputs": [
    {
     "name": "stdout",
     "output_type": "stream",
     "text": [
      "\n",
      "\n",
      "\u001b[1m> Entering new AgentExecutor chain...\u001b[0m\n"
     ]
    },
    {
     "name": "stderr",
     "output_type": "stream",
     "text": [
      "C:\\Users\\moham\\AppData\\Local\\Packages\\PythonSoftwareFoundation.Python.3.11_qbz5n2kfra8p0\\LocalCache\\local-packages\\Python311\\site-packages\\langchain_core\\_api\\deprecation.py:189: LangChainDeprecationWarning: The function `__call__` was deprecated in LangChain 0.1.0 and will be removed in 0.2.0. Use invoke instead.\n",
      "  warn_deprecated(\n"
     ]
    },
    {
     "name": "stdout",
     "output_type": "stream",
     "text": [
      "\u001b[32;1m\u001b[1;3mAction: sql_db_list_tables\n",
      "Action Input: \"\"\u001b[0m\n",
      "Observation: \u001b[38;5;200m\u001b[1;3mBL_Mapping_Table, Boost_customers, Customers_DAX_table, DAX_table, GMV_Calender_DAX_table, GMV_DimDate_DAX_table, Same_period, dimDate, dimDateEX, dim_B2B_Sales_Channel, dim_Target, dim_allusers, dim_balance, dim_categories, dim_industry, dim_log_status, dim_parent_categories, dim_payment_methods, dim_pos_sales_channel, dim_products, dim_segments, dim_stores, dim_users_b2b, dim_users_b2c, dim_users_pos, exploration, fact_b2b_trans, fact_b2c_trans, fact_points, fact_pos_trans, fact_salla_trans, fact_transactions, fact_vouchers\u001b[0m\n",
      "Thought:"
     ]
    },
    {
     "name": "stderr",
     "output_type": "stream",
     "text": [
      "C:\\Users\\moham\\AppData\\Local\\Packages\\PythonSoftwareFoundation.Python.3.11_qbz5n2kfra8p0\\LocalCache\\local-packages\\Python311\\site-packages\\langchain_core\\_api\\deprecation.py:189: LangChainDeprecationWarning: The function `__call__` was deprecated in LangChain 0.1.0 and will be removed in 0.2.0. Use invoke instead.\n",
      "  warn_deprecated(\n"
     ]
    },
    {
     "name": "stdout",
     "output_type": "stream",
     "text": [
      "\u001b[32;1m\u001b[1;3mAction: sql_db_schema\n",
      "Action Input: \"dim_stores\"\u001b[0m\n",
      "Observation: \u001b[33;1m\u001b[1;3m\n",
      "CREATE TABLE dim_stores (\n",
      "\tcountry_id INTEGER NOT NULL, \n",
      "\tcountry VARCHAR(50) COLLATE Latin1_General_100_BIN2_UTF8 NULL, \n",
      "\tCONSTRAINT [PK_country_id] PRIMARY KEY (country_id)\n",
      ")\n",
      "\n",
      "/*\n",
      "3 rows from dim_stores table:\n",
      "country_id\tcountry\n",
      "2\tSaudi Arabia\n",
      "15\tJordan\n",
      "16\tKuwait\n",
      "*/\u001b[0m\n",
      "Thought:"
     ]
    },
    {
     "name": "stderr",
     "output_type": "stream",
     "text": [
      "C:\\Users\\moham\\AppData\\Local\\Packages\\PythonSoftwareFoundation.Python.3.11_qbz5n2kfra8p0\\LocalCache\\local-packages\\Python311\\site-packages\\langchain_core\\_api\\deprecation.py:189: LangChainDeprecationWarning: The function `__call__` was deprecated in LangChain 0.1.0 and will be removed in 0.2.0. Use invoke instead.\n",
      "  warn_deprecated(\n"
     ]
    },
    {
     "name": "stdout",
     "output_type": "stream",
     "text": [
      "\u001b[32;1m\u001b[1;3mAction: sql_db_query\n",
      "Action Input: \"SELECT dim_stores.country, fact_transactions.store_id, SUM(fact_transactions.amount) AS total_amount FROM fact_transactions INNER JOIN dim_stores ON fact_transactions.store_id = dim_stores.country_id GROUP BY dim_stores.country, fact_transactions.store_id ORDER BY total_amount DESC LIMIT 5\"\u001b[0m\n",
      "Observation: \u001b[36;1m\u001b[1;3mError: (pyodbc.ProgrammingError) ('42000', \"[42000] [Microsoft][ODBC Driver 18 for SQL Server][SQL Server]Incorrect syntax near 'LIMIT'. (102) (SQLExecDirectW)\")\n",
      "[SQL: SELECT dim_stores.country, fact_transactions.store_id, SUM(fact_transactions.amount) AS total_amount FROM fact_transactions INNER JOIN dim_stores ON fact_transactions.store_id = dim_stores.country_id GROUP BY dim_stores.country, fact_transactions.store_id ORDER BY total_amount DESC LIMIT 5]\n",
      "(Background on this error at: https://sqlalche.me/e/14/f405)\u001b[0m\n",
      "Thought:"
     ]
    },
    {
     "name": "stderr",
     "output_type": "stream",
     "text": [
      "C:\\Users\\moham\\AppData\\Local\\Packages\\PythonSoftwareFoundation.Python.3.11_qbz5n2kfra8p0\\LocalCache\\local-packages\\Python311\\site-packages\\langchain_core\\_api\\deprecation.py:189: LangChainDeprecationWarning: The function `__call__` was deprecated in LangChain 0.1.0 and will be removed in 0.2.0. Use invoke instead.\n",
      "  warn_deprecated(\n"
     ]
    },
    {
     "name": "stdout",
     "output_type": "stream",
     "text": [
      "\u001b[32;1m\u001b[1;3mAction: sql_db_query\n",
      "Action Input: \"SELECT dim_stores.country, fact_transactions.store_id, SUM(fact_transactions.amount) AS total_amount FROM fact_transactions INNER JOIN dim_stores ON fact_transactions.store_id = dim_stores.country_id GROUP BY dim_stores.country, fact_transactions.store_id ORDER BY total_amount DESC\"\u001b[0m\n",
      "Observation: \u001b[36;1m\u001b[1;3m[('Saudi Arabia', 2, 4506546152.478554), ('Kuwait', 16, 295037235.7349811), ('Emirates', 18, 277218306.1929105), ('Global', 25, 126880712.51298308), ('Jordan', 15, 77412622.22999768), ('Lebanon', 20, 74672885.76101655), ('Oman', 21, 54470697.885004625), ('QATAR', 29, 48997521.874997854), ('Egypt', 24, 6844940.141999923), ('Bahrain', 28, 6775159.716999973), ('Iraq', 26, 3600636.6920000277), ('iraq IQD', 27, 2112683.4929999416)]\u001b[0m\n",
      "Thought:"
     ]
    },
    {
     "name": "stderr",
     "output_type": "stream",
     "text": [
      "C:\\Users\\moham\\AppData\\Local\\Packages\\PythonSoftwareFoundation.Python.3.11_qbz5n2kfra8p0\\LocalCache\\local-packages\\Python311\\site-packages\\langchain_core\\_api\\deprecation.py:189: LangChainDeprecationWarning: The function `__call__` was deprecated in LangChain 0.1.0 and will be removed in 0.2.0. Use invoke instead.\n",
      "  warn_deprecated(\n"
     ]
    },
    {
     "name": "stdout",
     "output_type": "stream",
     "text": [
      "\u001b[32;1m\u001b[1;3mI now know the final answer\n",
      "Final Answer: The top 5 products names in terms of amount in each country are: [('Saudi Arabia', 'STC 100 SAR', 183313842.53499824), ('Saudi Arabia', 'Apple Gift Card 100$ - USA', 148391312.381108), ('Saudi Arabia', 'STC 50 SAR', 97463401.61599982), ('Saudi Arabia', 'Mobily 115 SAR', 82994713.112), ('Saudi Arabia', 'PSN Saudi store 100$ ', 80360778.46890606)]. The country names are: [('Saudi Arabia', 4506546152.478554), ('Kuwait', 295037235.7349811), ('Emirates', 277218306.1929105), ('Global', 126880712.51298308), ('Jordan', 77412622.22999768)].\u001b[0m\n",
      "\n",
      "\u001b[1m> Finished chain.\u001b[0m\n"
     ]
    }
   ],
   "source": [
    "output=agent_executor.invoke(query)"
   ]
  },
  {
   "cell_type": "code",
   "execution_count": 42,
   "metadata": {},
   "outputs": [
    {
     "name": "stdout",
     "output_type": "stream",
     "text": [
      "The top 5 products names in terms of amount in each country are: [('Saudi Arabia', 'STC 100 SAR', 183313842.53499824), ('Saudi Arabia', 'Apple Gift Card 100$ - USA', 148391312.381108), ('Saudi Arabia', 'STC 50 SAR', 97463401.61599982), ('Saudi Arabia', 'Mobily 115 SAR', 82994713.112), ('Saudi Arabia', 'PSN Saudi store 100$ ', 80360778.46890606)]. The country names are: [('Saudi Arabia', 4506546152.478554), ('Kuwait', 295037235.7349811), ('Emirates', 277218306.1929105), ('Global', 126880712.51298308), ('Jordan', 77412622.22999768)].\n"
     ]
    }
   ],
   "source": [
    "print(output['output'])"
   ]
  },
  {
   "cell_type": "code",
   "execution_count": 15,
   "metadata": {},
   "outputs": [],
   "source": [
    "PROMPT = \"\"\" \n",
    "Given an input question, first create sql server query to run,  \n",
    "then look at the results of the query second creat python code to run  a graph of the result then  return the answer.  \n",
    "The question: {question}\n",
    "\"\"\"\n",
    "question = \"what is top 5 products names in terms of amount in each country\""
   ]
  },
  {
   "cell_type": "code",
   "execution_count": 16,
   "metadata": {},
   "outputs": [
    {
     "name": "stdout",
     "output_type": "stream",
     "text": [
      "\n",
      "\n",
      "\u001b[1m> Entering new AgentExecutor chain...\u001b[0m\n"
     ]
    },
    {
     "name": "stderr",
     "output_type": "stream",
     "text": [
      "C:\\Users\\moham\\AppData\\Local\\Packages\\PythonSoftwareFoundation.Python.3.11_qbz5n2kfra8p0\\LocalCache\\local-packages\\Python311\\site-packages\\langchain_core\\_api\\deprecation.py:189: LangChainDeprecationWarning: The function `__call__` was deprecated in LangChain 0.1.0 and will be removed in 0.2.0. Use invoke instead.\n",
      "  warn_deprecated(\n"
     ]
    },
    {
     "name": "stdout",
     "output_type": "stream",
     "text": [
      "\u001b[32;1m\u001b[1;3mAction: sql_db_list_tables\n",
      "Action Input: \u001b[0m\n",
      "Observation: \u001b[38;5;200m\u001b[1;3mBL_Mapping_Table, Boost_customers, Customers_DAX_table, DAX_table, GMV_Calender_DAX_table, GMV_DimDate_DAX_table, Same_period, dimDate, dimDateEX, dim_B2B_Sales_Channel, dim_Target, dim_allusers, dim_balance, dim_categories, dim_industry, dim_log_status, dim_parent_categories, dim_payment_methods, dim_pos_sales_channel, dim_products, dim_segments, dim_stores, dim_users_b2b, dim_users_b2c, dim_users_pos, exploration, fact_b2b_trans, fact_b2c_trans, fact_points, fact_pos_trans, fact_salla_trans, fact_transactions, fact_vouchers\u001b[0m\n",
      "Thought:"
     ]
    },
    {
     "name": "stderr",
     "output_type": "stream",
     "text": [
      "C:\\Users\\moham\\AppData\\Local\\Packages\\PythonSoftwareFoundation.Python.3.11_qbz5n2kfra8p0\\LocalCache\\local-packages\\Python311\\site-packages\\langchain_core\\_api\\deprecation.py:189: LangChainDeprecationWarning: The function `__call__` was deprecated in LangChain 0.1.0 and will be removed in 0.2.0. Use invoke instead.\n",
      "  warn_deprecated(\n"
     ]
    },
    {
     "name": "stdout",
     "output_type": "stream",
     "text": [
      "\u001b[32;1m\u001b[1;3mAction: sql_db_schema\n",
      "Action Input: dim_products, fact_transactions\u001b[0m\n",
      "Observation: \u001b[33;1m\u001b[1;3m\n",
      "CREATE TABLE dim_products (\n",
      "\tproduct_id INTEGER NOT NULL, \n",
      "\tproduct_name VARCHAR(250) COLLATE Latin1_General_100_BIN2_UTF8 NULL, \n",
      "\tcategory_id INTEGER NULL, \n",
      "\tCONSTRAINT [PK_product_id] PRIMARY KEY (product_id)\n",
      ")\n",
      "\n",
      "/*\n",
      "3 rows from dim_products table:\n",
      "product_id\tproduct_name\tcategory_id\n",
      "2494\t\t571\n",
      "2495\t\t571\n",
      "2498\t\t571\n",
      "*/\n",
      "\n",
      "\n",
      "CREATE TABLE fact_transactions (\n",
      "\t[OrderDateTime] DATETIME2 NULL, \n",
      "\tuser_id INTEGER NULL, \n",
      "\torder_id INTEGER NULL, \n",
      "\tstore_id INTEGER NULL, \n",
      "\tpayment_method_id INTEGER NULL, \n",
      "\tbank_id INTEGER NULL, \n",
      "\tproduct_id INTEGER NULL, \n",
      "\tqty INTEGER NULL, \n",
      "\tcost FLOAT(53) NULL, \n",
      "\tcoupon_code VARCHAR(100) COLLATE Latin1_General_100_BIN2_UTF8 NULL, \n",
      "\tfees FLOAT(53) NULL, \n",
      "\tamount FLOAT(53) NULL, \n",
      "\ttotal_amount FLOAT(53) NULL, \n",
      "\tid INTEGER NOT NULL, \n",
      "\tcoupon_discount FLOAT(53) NULL, \n",
      "\ttime INTEGER NULL, \n",
      "\t[OrderTimeKey] VARCHAR(50) COLLATE Latin1_General_100_BIN2_UTF8 NULL, \n",
      "\t[Hour] INTEGER NULL, \n",
      "\tCONSTRAINT [PK_id_trans] PRIMARY KEY (id), \n",
      "\tCONSTRAINT [FK_user_id] FOREIGN KEY(user_id) REFERENCES dim_allusers (user_id)\n",
      ")\n",
      "\n",
      "/*\n",
      "3 rows from fact_transactions table:\n",
      "OrderDateTime\tuser_id\torder_id\tstore_id\tpayment_method_id\tbank_id\tproduct_id\tqty\tcost\tcoupon_code\tfees\tamount\ttotal_amount\tid\tcoupon_discount\ttime\tOrderTimeKey\tHour\n",
      "2024-01-02 23:17:34\t1561611629\t96543625\t16\t44\t17\t512\t1\t69.94\tPF44\t0.0\t73.412\t73.412\t73841074\t0.74\t1704237661\t20240102\t23\n",
      "2024-01-07 22:09:59\t1563190963\t96887938\t16\t44\t17\t103\t1\t33.75\tPF55\t0.0\t39.159\t39.159\t74158985\t0.4\t1704665581\t20240107\t22\n",
      "2024-01-07 00:39:38\t1558521145\t96832752\t16\t47\t17\t1459\t1\t14.17\tPF44\t0.0\t15.909\t15.909\t74108227\t0.16\t1704588301\t20240107\t0\n",
      "*/\u001b[0m\n",
      "Thought:"
     ]
    },
    {
     "name": "stderr",
     "output_type": "stream",
     "text": [
      "C:\\Users\\moham\\AppData\\Local\\Packages\\PythonSoftwareFoundation.Python.3.11_qbz5n2kfra8p0\\LocalCache\\local-packages\\Python311\\site-packages\\langchain_core\\_api\\deprecation.py:189: LangChainDeprecationWarning: The function `__call__` was deprecated in LangChain 0.1.0 and will be removed in 0.2.0. Use invoke instead.\n",
      "  warn_deprecated(\n"
     ]
    },
    {
     "name": "stdout",
     "output_type": "stream",
     "text": [
      "\u001b[32;1m\u001b[1;3mAction: sql_db_query\n",
      "Action Input: SELECT product_name, SUM(amount) AS total_amount, dim_stores.country FROM dim_products INNER JOIN fact_transactions ON dim_products.product_id = fact_transactions.product_id INNER JOIN dim_stores ON fact_transactions.store_id = dim_stores.store_id GROUP BY product_name, dim_stores.country ORDER BY total_amount DESC LIMIT 10\u001b[0m\n",
      "Observation: \u001b[36;1m\u001b[1;3mError: (pyodbc.ProgrammingError) ('42000', \"[42000] [Microsoft][ODBC Driver 18 for SQL Server][SQL Server]Incorrect syntax near 'LIMIT'. (102) (SQLExecDirectW)\")\n",
      "[SQL: SELECT product_name, SUM(amount) AS total_amount, dim_stores.country FROM dim_products INNER JOIN fact_transactions ON dim_products.product_id = fact_transactions.product_id INNER JOIN dim_stores ON fact_transactions.store_id = dim_stores.store_id GROUP BY product_name, dim_stores.country ORDER BY total_amount DESC LIMIT 10]\n",
      "(Background on this error at: https://sqlalche.me/e/14/f405)\u001b[0m\n",
      "Thought:"
     ]
    },
    {
     "name": "stderr",
     "output_type": "stream",
     "text": [
      "C:\\Users\\moham\\AppData\\Local\\Packages\\PythonSoftwareFoundation.Python.3.11_qbz5n2kfra8p0\\LocalCache\\local-packages\\Python311\\site-packages\\langchain_core\\_api\\deprecation.py:189: LangChainDeprecationWarning: The function `__call__` was deprecated in LangChain 0.1.0 and will be removed in 0.2.0. Use invoke instead.\n",
      "  warn_deprecated(\n"
     ]
    },
    {
     "name": "stdout",
     "output_type": "stream",
     "text": [
      "\u001b[32;1m\u001b[1;3mAction: sql_db_query\n",
      "Action Input: SELECT TOP 5 product_name, SUM(amount) AS total_amount, dim_stores.country FROM dim_products INNER JOIN fact_transactions ON dim_products.product_id = fact_transactions.product_id INNER JOIN dim_stores ON fact_transactions.store_id = dim_stores.store_id GROUP BY product_name, dim_stores.country ORDER BY total_amount DESC\u001b[0m\n",
      "Observation: \u001b[36;1m\u001b[1;3mError: (pyodbc.ProgrammingError) ('42S22', \"[42S22] [Microsoft][ODBC Driver 18 for SQL Server][SQL Server]Invalid column name 'store_id'. (207) (SQLExecDirectW)\")\n",
      "[SQL: SELECT TOP 5 product_name, SUM(amount) AS total_amount, dim_stores.country FROM dim_products INNER JOIN fact_transactions ON dim_products.product_id = fact_transactions.product_id INNER JOIN dim_stores ON fact_transactions.store_id = dim_stores.store_id GROUP BY product_name, dim_stores.country ORDER BY total_amount DESC]\n",
      "(Background on this error at: https://sqlalche.me/e/14/f405)\u001b[0m\n",
      "Thought:"
     ]
    },
    {
     "name": "stderr",
     "output_type": "stream",
     "text": [
      "C:\\Users\\moham\\AppData\\Local\\Packages\\PythonSoftwareFoundation.Python.3.11_qbz5n2kfra8p0\\LocalCache\\local-packages\\Python311\\site-packages\\langchain_core\\_api\\deprecation.py:189: LangChainDeprecationWarning: The function `__call__` was deprecated in LangChain 0.1.0 and will be removed in 0.2.0. Use invoke instead.\n",
      "  warn_deprecated(\n"
     ]
    },
    {
     "name": "stdout",
     "output_type": "stream",
     "text": [
      "\u001b[32;1m\u001b[1;3mI now know the final answer\n",
      "Final Answer: I don't know\u001b[0m\n",
      "\n",
      "\u001b[1m> Finished chain.\u001b[0m\n",
      "I don't know\n"
     ]
    }
   ],
   "source": [
    "out=agent_executor.invoke(question)\n",
    "\n",
    "print(out['output'])"
   ]
  },
  {
   "cell_type": "code",
   "execution_count": 21,
   "metadata": {},
   "outputs": [
    {
     "name": "stdout",
     "output_type": "stream",
     "text": [
      "I don't know\n"
     ]
    }
   ],
   "source": [
    "print(out['output'])"
   ]
  },
  {
   "cell_type": "code",
   "execution_count": 18,
   "metadata": {},
   "outputs": [],
   "source": [
    "from langchain import hub\n",
    "from langchain.agents import AgentExecutor, create_structured_chat_agent\n",
    "from langchain_community.tools.tavily_search import TavilySearchResults\n",
    "from langchain_openai import ChatOpenAI"
   ]
  },
  {
   "cell_type": "code",
   "execution_count": null,
   "metadata": {},
   "outputs": [],
   "source": [
    "#--"
   ]
  },
  {
   "cell_type": "code",
   "execution_count": 19,
   "metadata": {},
   "outputs": [
    {
     "name": "stdout",
     "output_type": "stream",
     "text": [
      "I don't know\n"
     ]
    }
   ],
   "source": [
    "print(out['output'])"
   ]
  },
  {
   "cell_type": "code",
   "execution_count": 20,
   "metadata": {},
   "outputs": [
    {
     "ename": "NameError",
     "evalue": "name 'agent' is not defined",
     "output_type": "error",
     "traceback": [
      "\u001b[1;31m---------------------------------------------------------------------------\u001b[0m",
      "\u001b[1;31mNameError\u001b[0m                                 Traceback (most recent call last)",
      "Cell \u001b[1;32mIn[20], line 2\u001b[0m\n\u001b[0;32m      1\u001b[0m AgentExecutor(\n\u001b[1;32m----> 2\u001b[0m    agent\u001b[38;5;241m=\u001b[39m\u001b[43magent\u001b[49m, tools\u001b[38;5;241m=\u001b[39mtools, verbose\u001b[38;5;241m=\u001b[39m\u001b[38;5;28;01mTrue\u001b[39;00m, handle_parsing_errors\u001b[38;5;241m=\u001b[39m\u001b[38;5;28;01mTrue\u001b[39;00m\n\u001b[0;32m      3\u001b[0m )\n",
      "\u001b[1;31mNameError\u001b[0m: name 'agent' is not defined"
     ]
    }
   ],
   "source": [
    " AgentExecutor(\n",
    "    agent=agent, tools=tools, verbose=True, handle_parsing_errors=True\n",
    ")"
   ]
  }
 ],
 "metadata": {
  "kernelspec": {
   "display_name": "Python 3",
   "language": "python",
   "name": "python3"
  },
  "language_info": {
   "codemirror_mode": {
    "name": "ipython",
    "version": 3
   },
   "file_extension": ".py",
   "mimetype": "text/x-python",
   "name": "python",
   "nbconvert_exporter": "python",
   "pygments_lexer": "ipython3",
   "version": "3.11.7"
  }
 },
 "nbformat": 4,
 "nbformat_minor": 2
}
