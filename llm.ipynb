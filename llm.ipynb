{
 "cells": [
  {
   "cell_type": "code",
   "execution_count": 1,
   "metadata": {},
   "outputs": [
    {
     "name": "stdout",
     "output_type": "stream",
     "text": [
      "Collecting langchain\n",
      "  Downloading langchain-0.1.0-py3-none-any.whl.metadata (13 kB)\n",
      "Collecting PyYAML>=5.3 (from langchain)\n",
      "  Downloading PyYAML-6.0.1-cp311-cp311-win_amd64.whl.metadata (2.1 kB)\n",
      "Requirement already satisfied: SQLAlchemy<3,>=1.4 in c:\\users\\moham\\appdata\\local\\packages\\pythonsoftwarefoundation.python.3.11_qbz5n2kfra8p0\\localcache\\local-packages\\python311\\site-packages (from langchain) (1.4.47)\n",
      "Requirement already satisfied: aiohttp<4.0.0,>=3.8.3 in c:\\users\\moham\\appdata\\local\\packages\\pythonsoftwarefoundation.python.3.11_qbz5n2kfra8p0\\localcache\\local-packages\\python311\\site-packages (from langchain) (3.9.1)\n",
      "Collecting dataclasses-json<0.7,>=0.5.7 (from langchain)\n",
      "  Downloading dataclasses_json-0.6.3-py3-none-any.whl.metadata (25 kB)\n",
      "Collecting jsonpatch<2.0,>=1.33 (from langchain)\n",
      "  Downloading jsonpatch-1.33-py2.py3-none-any.whl.metadata (3.0 kB)\n",
      "Collecting langchain-community<0.1,>=0.0.9 (from langchain)\n",
      "  Downloading langchain_community-0.0.9-py3-none-any.whl.metadata (7.3 kB)\n",
      "Collecting langchain-core<0.2,>=0.1.7 (from langchain)\n",
      "  Downloading langchain_core-0.1.7-py3-none-any.whl.metadata (4.0 kB)\n",
      "Collecting langsmith<0.1.0,>=0.0.77 (from langchain)\n",
      "  Downloading langsmith-0.0.77-py3-none-any.whl.metadata (10 kB)\n",
      "Requirement already satisfied: numpy<2,>=1 in c:\\users\\moham\\appdata\\local\\packages\\pythonsoftwarefoundation.python.3.11_qbz5n2kfra8p0\\localcache\\local-packages\\python311\\site-packages (from langchain) (1.26.3)\n",
      "Requirement already satisfied: pydantic<3,>=1 in c:\\users\\moham\\appdata\\local\\packages\\pythonsoftwarefoundation.python.3.11_qbz5n2kfra8p0\\localcache\\local-packages\\python311\\site-packages (from langchain) (2.5.3)\n",
      "Requirement already satisfied: requests<3,>=2 in c:\\users\\moham\\appdata\\local\\packages\\pythonsoftwarefoundation.python.3.11_qbz5n2kfra8p0\\localcache\\local-packages\\python311\\site-packages (from langchain) (2.31.0)\n",
      "Collecting tenacity<9.0.0,>=8.1.0 (from langchain)\n",
      "  Downloading tenacity-8.2.3-py3-none-any.whl.metadata (1.0 kB)\n",
      "Requirement already satisfied: attrs>=17.3.0 in c:\\users\\moham\\appdata\\local\\packages\\pythonsoftwarefoundation.python.3.11_qbz5n2kfra8p0\\localcache\\local-packages\\python311\\site-packages (from aiohttp<4.0.0,>=3.8.3->langchain) (23.2.0)\n",
      "Requirement already satisfied: multidict<7.0,>=4.5 in c:\\users\\moham\\appdata\\local\\packages\\pythonsoftwarefoundation.python.3.11_qbz5n2kfra8p0\\localcache\\local-packages\\python311\\site-packages (from aiohttp<4.0.0,>=3.8.3->langchain) (6.0.4)\n",
      "Requirement already satisfied: yarl<2.0,>=1.0 in c:\\users\\moham\\appdata\\local\\packages\\pythonsoftwarefoundation.python.3.11_qbz5n2kfra8p0\\localcache\\local-packages\\python311\\site-packages (from aiohttp<4.0.0,>=3.8.3->langchain) (1.9.4)\n",
      "Requirement already satisfied: frozenlist>=1.1.1 in c:\\users\\moham\\appdata\\local\\packages\\pythonsoftwarefoundation.python.3.11_qbz5n2kfra8p0\\localcache\\local-packages\\python311\\site-packages (from aiohttp<4.0.0,>=3.8.3->langchain) (1.4.1)\n",
      "Requirement already satisfied: aiosignal>=1.1.2 in c:\\users\\moham\\appdata\\local\\packages\\pythonsoftwarefoundation.python.3.11_qbz5n2kfra8p0\\localcache\\local-packages\\python311\\site-packages (from aiohttp<4.0.0,>=3.8.3->langchain) (1.3.1)\n",
      "Collecting marshmallow<4.0.0,>=3.18.0 (from dataclasses-json<0.7,>=0.5.7->langchain)\n",
      "  Downloading marshmallow-3.20.1-py3-none-any.whl.metadata (7.8 kB)\n",
      "Collecting typing-inspect<1,>=0.4.0 (from dataclasses-json<0.7,>=0.5.7->langchain)\n",
      "  Downloading typing_inspect-0.9.0-py3-none-any.whl.metadata (1.5 kB)\n",
      "Collecting jsonpointer>=1.9 (from jsonpatch<2.0,>=1.33->langchain)\n",
      "  Downloading jsonpointer-2.4-py2.py3-none-any.whl.metadata (2.5 kB)\n",
      "Requirement already satisfied: anyio<5,>=3 in c:\\users\\moham\\appdata\\local\\packages\\pythonsoftwarefoundation.python.3.11_qbz5n2kfra8p0\\localcache\\local-packages\\python311\\site-packages (from langchain-core<0.2,>=0.1.7->langchain) (4.2.0)\n",
      "Requirement already satisfied: packaging<24.0,>=23.2 in c:\\users\\moham\\appdata\\local\\packages\\pythonsoftwarefoundation.python.3.11_qbz5n2kfra8p0\\localcache\\local-packages\\python311\\site-packages (from langchain-core<0.2,>=0.1.7->langchain) (23.2)\n",
      "Requirement already satisfied: annotated-types>=0.4.0 in c:\\users\\moham\\appdata\\local\\packages\\pythonsoftwarefoundation.python.3.11_qbz5n2kfra8p0\\localcache\\local-packages\\python311\\site-packages (from pydantic<3,>=1->langchain) (0.6.0)\n",
      "Requirement already satisfied: pydantic-core==2.14.6 in c:\\users\\moham\\appdata\\local\\packages\\pythonsoftwarefoundation.python.3.11_qbz5n2kfra8p0\\localcache\\local-packages\\python311\\site-packages (from pydantic<3,>=1->langchain) (2.14.6)\n",
      "Requirement already satisfied: typing-extensions>=4.6.1 in c:\\users\\moham\\appdata\\local\\packages\\pythonsoftwarefoundation.python.3.11_qbz5n2kfra8p0\\localcache\\local-packages\\python311\\site-packages (from pydantic<3,>=1->langchain) (4.9.0)\n",
      "Requirement already satisfied: charset-normalizer<4,>=2 in c:\\users\\moham\\appdata\\local\\packages\\pythonsoftwarefoundation.python.3.11_qbz5n2kfra8p0\\localcache\\local-packages\\python311\\site-packages (from requests<3,>=2->langchain) (3.3.2)\n",
      "Requirement already satisfied: idna<4,>=2.5 in c:\\users\\moham\\appdata\\local\\packages\\pythonsoftwarefoundation.python.3.11_qbz5n2kfra8p0\\localcache\\local-packages\\python311\\site-packages (from requests<3,>=2->langchain) (3.6)\n",
      "Requirement already satisfied: urllib3<3,>=1.21.1 in c:\\users\\moham\\appdata\\local\\packages\\pythonsoftwarefoundation.python.3.11_qbz5n2kfra8p0\\localcache\\local-packages\\python311\\site-packages (from requests<3,>=2->langchain) (2.1.0)\n",
      "Requirement already satisfied: certifi>=2017.4.17 in c:\\users\\moham\\appdata\\local\\packages\\pythonsoftwarefoundation.python.3.11_qbz5n2kfra8p0\\localcache\\local-packages\\python311\\site-packages (from requests<3,>=2->langchain) (2023.11.17)\n",
      "Requirement already satisfied: greenlet!=0.4.17 in c:\\users\\moham\\appdata\\local\\packages\\pythonsoftwarefoundation.python.3.11_qbz5n2kfra8p0\\localcache\\local-packages\\python311\\site-packages (from SQLAlchemy<3,>=1.4->langchain) (3.0.3)\n",
      "Requirement already satisfied: sniffio>=1.1 in c:\\users\\moham\\appdata\\local\\packages\\pythonsoftwarefoundation.python.3.11_qbz5n2kfra8p0\\localcache\\local-packages\\python311\\site-packages (from anyio<5,>=3->langchain-core<0.2,>=0.1.7->langchain) (1.3.0)\n",
      "Collecting mypy-extensions>=0.3.0 (from typing-inspect<1,>=0.4.0->dataclasses-json<0.7,>=0.5.7->langchain)\n",
      "  Downloading mypy_extensions-1.0.0-py3-none-any.whl (4.7 kB)\n",
      "Downloading langchain-0.1.0-py3-none-any.whl (797 kB)\n",
      "   ---------------------------------------- 0.0/798.0 kB ? eta -:--:--\n",
      "    --------------------------------------- 10.2/798.0 kB ? eta -:--:--\n",
      "   - ------------------------------------- 30.7/798.0 kB 660.6 kB/s eta 0:00:02\n",
      "   -- ------------------------------------ 41.0/798.0 kB 393.8 kB/s eta 0:00:02\n",
      "   -- ------------------------------------ 41.0/798.0 kB 393.8 kB/s eta 0:00:02\n",
      "   -- ------------------------------------ 41.0/798.0 kB 393.8 kB/s eta 0:00:02\n",
      "   --- ----------------------------------- 61.4/798.0 kB 252.2 kB/s eta 0:00:03\n",
      "   ---- ---------------------------------- 81.9/798.0 kB 270.5 kB/s eta 0:00:03\n",
      "   ---- ---------------------------------- 92.2/798.0 kB 262.6 kB/s eta 0:00:03\n",
      "   ----- -------------------------------- 122.9/798.0 kB 300.4 kB/s eta 0:00:03\n",
      "   ----- -------------------------------- 122.9/798.0 kB 300.4 kB/s eta 0:00:03\n",
      "   ------ ------------------------------- 143.4/798.0 kB 315.4 kB/s eta 0:00:03\n",
      "   -------- ----------------------------- 174.1/798.0 kB 318.1 kB/s eta 0:00:02\n",
      "   --------- ---------------------------- 194.6/798.0 kB 337.0 kB/s eta 0:00:02\n",
      "   --------- ---------------------------- 204.8/798.0 kB 336.6 kB/s eta 0:00:02\n",
      "   ---------- --------------------------- 225.3/798.0 kB 344.1 kB/s eta 0:00:02\n",
      "   ----------- -------------------------- 245.8/798.0 kB 350.5 kB/s eta 0:00:02\n",
      "   ------------- ------------------------ 276.5/798.0 kB 355.0 kB/s eta 0:00:02\n",
      "   -------------- ----------------------- 307.2/798.0 kB 365.7 kB/s eta 0:00:02\n",
      "   --------------- ---------------------- 327.7/798.0 kB 369.5 kB/s eta 0:00:02\n",
      "   ---------------- --------------------- 337.9/798.0 kB 368.2 kB/s eta 0:00:02\n",
      "   ----------------- -------------------- 358.4/798.0 kB 371.6 kB/s eta 0:00:02\n",
      "   ----------------- -------------------- 368.6/798.0 kB 369.9 kB/s eta 0:00:02\n",
      "   ------------------- ------------------ 409.6/798.0 kB 387.4 kB/s eta 0:00:02\n",
      "   ------------------- ------------------ 409.6/798.0 kB 387.4 kB/s eta 0:00:02\n",
      "   -------------------- ----------------- 440.3/798.0 kB 387.8 kB/s eta 0:00:01\n",
      "   --------------------- ---------------- 450.6/798.0 kB 386.2 kB/s eta 0:00:01\n",
      "   ----------------------- -------------- 491.5/798.0 kB 400.1 kB/s eta 0:00:01\n",
      "   ----------------------- -------------- 501.8/798.0 kB 398.3 kB/s eta 0:00:01\n",
      "   ------------------------ ------------- 522.2/798.0 kB 399.7 kB/s eta 0:00:01\n",
      "   -------------------------- ----------- 553.0/798.0 kB 403.8 kB/s eta 0:00:01\n",
      "   --------------------------- ---------- 573.4/798.0 kB 409.6 kB/s eta 0:00:01\n",
      "   ---------------------------- --------- 604.2/798.0 kB 408.8 kB/s eta 0:00:01\n",
      "   ------------------------------ ------- 634.9/798.0 kB 416.4 kB/s eta 0:00:01\n",
      "   ------------------------------- ------ 655.4/798.0 kB 421.4 kB/s eta 0:00:01\n",
      "   ------------------------------- ------ 665.6/798.0 kB 419.6 kB/s eta 0:00:01\n",
      "   --------------------------------- ---- 696.3/798.0 kB 418.3 kB/s eta 0:00:01\n",
      "   ----------------------------------- -- 737.3/798.0 kB 431.0 kB/s eta 0:00:01\n",
      "   ----------------------------------- -- 747.5/798.0 kB 428.9 kB/s eta 0:00:01\n",
      "   -------------------------------------  778.2/798.0 kB 431.2 kB/s eta 0:00:01\n",
      "   -------------------------------------  778.2/798.0 kB 431.2 kB/s eta 0:00:01\n",
      "   -------------------------------------  778.2/798.0 kB 431.2 kB/s eta 0:00:01\n",
      "   -------------------------------------- 798.0/798.0 kB 413.3 kB/s eta 0:00:00\n",
      "Downloading dataclasses_json-0.6.3-py3-none-any.whl (28 kB)\n",
      "Downloading jsonpatch-1.33-py2.py3-none-any.whl (12 kB)\n",
      "Downloading langchain_community-0.0.9-py3-none-any.whl (1.5 MB)\n",
      "   ---------------------------------------- 0.0/1.5 MB ? eta -:--:--\n",
      "   ---------------------------------------- 0.0/1.5 MB ? eta -:--:--\n",
      "   - -------------------------------------- 0.0/1.5 MB 653.6 kB/s eta 0:00:03\n",
      "   -- ------------------------------------- 0.1/1.5 MB 762.6 kB/s eta 0:00:02\n",
      "   -- ------------------------------------- 0.1/1.5 MB 751.6 kB/s eta 0:00:02\n",
      "   -- ------------------------------------- 0.1/1.5 MB 656.4 kB/s eta 0:00:03\n",
      "   --- ------------------------------------ 0.1/1.5 MB 655.8 kB/s eta 0:00:03\n",
      "   ---- ----------------------------------- 0.2/1.5 MB 618.3 kB/s eta 0:00:03\n",
      "   ----- ---------------------------------- 0.2/1.5 MB 620.6 kB/s eta 0:00:03\n",
      "   ----- ---------------------------------- 0.2/1.5 MB 625.1 kB/s eta 0:00:03\n",
      "   ------ --------------------------------- 0.2/1.5 MB 628.1 kB/s eta 0:00:03\n",
      "   ------ --------------------------------- 0.2/1.5 MB 628.1 kB/s eta 0:00:03\n",
      "   ------- -------------------------------- 0.3/1.5 MB 611.3 kB/s eta 0:00:03\n",
      "   -------- ------------------------------- 0.3/1.5 MB 614.4 kB/s eta 0:00:02\n",
      "   --------- ------------------------------ 0.3/1.5 MB 617.8 kB/s eta 0:00:02\n",
      "   --------- ------------------------------ 0.4/1.5 MB 620.1 kB/s eta 0:00:02\n",
      "   ---------- ----------------------------- 0.4/1.5 MB 622.6 kB/s eta 0:00:02\n",
      "   ----------- ---------------------------- 0.4/1.5 MB 624.8 kB/s eta 0:00:02\n",
      "   ----------- ---------------------------- 0.4/1.5 MB 624.8 kB/s eta 0:00:02\n",
      "   ------------ --------------------------- 0.5/1.5 MB 628.1 kB/s eta 0:00:02\n",
      "   ------------ --------------------------- 0.5/1.5 MB 628.1 kB/s eta 0:00:02\n",
      "   ------------ --------------------------- 0.5/1.5 MB 593.6 kB/s eta 0:00:02\n",
      "   -------------- ------------------------- 0.5/1.5 MB 619.9 kB/s eta 0:00:02\n",
      "   -------------- ------------------------- 0.6/1.5 MB 588.6 kB/s eta 0:00:02\n",
      "   --------------- ------------------------ 0.6/1.5 MB 591.8 kB/s eta 0:00:02\n",
      "   ---------------- ----------------------- 0.6/1.5 MB 605.9 kB/s eta 0:00:02\n",
      "   ----------------- ---------------------- 0.7/1.5 MB 607.9 kB/s eta 0:00:02\n",
      "   ------------------ --------------------- 0.7/1.5 MB 619.0 kB/s eta 0:00:02\n",
      "   ------------------ --------------------- 0.7/1.5 MB 619.8 kB/s eta 0:00:02\n",
      "   ------------------- -------------------- 0.7/1.5 MB 621.1 kB/s eta 0:00:02\n",
      "   -------------------- ------------------- 0.8/1.5 MB 622.6 kB/s eta 0:00:02\n",
      "   --------------------- ------------------ 0.8/1.5 MB 631.6 kB/s eta 0:00:02\n",
      "   ---------------------- ----------------- 0.9/1.5 MB 647.7 kB/s eta 0:00:02\n",
      "   ----------------------- ---------------- 0.9/1.5 MB 647.9 kB/s eta 0:00:01\n",
      "   ------------------------ --------------- 0.9/1.5 MB 641.3 kB/s eta 0:00:01\n",
      "   ------------------------ --------------- 1.0/1.5 MB 648.3 kB/s eta 0:00:01\n",
      "   -------------------------- ------------- 1.0/1.5 MB 655.5 kB/s eta 0:00:01\n",
      "   --------------------------- ------------ 1.1/1.5 MB 668.4 kB/s eta 0:00:01\n",
      "   --------------------------- ------------ 1.1/1.5 MB 655.4 kB/s eta 0:00:01\n",
      "   ----------------------------- ---------- 1.1/1.5 MB 667.6 kB/s eta 0:00:01\n",
      "   ------------------------------ --------- 1.2/1.5 MB 679.1 kB/s eta 0:00:01\n",
      "   ------------------------------- -------- 1.2/1.5 MB 684.6 kB/s eta 0:00:01\n",
      "   -------------------------------- ------- 1.2/1.5 MB 683.8 kB/s eta 0:00:01\n",
      "   --------------------------------- ------ 1.3/1.5 MB 677.2 kB/s eta 0:00:01\n",
      "   ---------------------------------- ----- 1.3/1.5 MB 682.0 kB/s eta 0:00:01\n",
      "   ----------------------------------- ---- 1.4/1.5 MB 691.7 kB/s eta 0:00:01\n",
      "   ------------------------------------ --- 1.4/1.5 MB 706.6 kB/s eta 0:00:01\n",
      "   ------------------------------------- -- 1.4/1.5 MB 705.9 kB/s eta 0:00:01\n",
      "   -------------------------------------- - 1.5/1.5 MB 704.2 kB/s eta 0:00:01\n",
      "   ---------------------------------------  1.5/1.5 MB 713.0 kB/s eta 0:00:01\n",
      "   ---------------------------------------- 1.5/1.5 MB 711.6 kB/s eta 0:00:00\n",
      "Downloading langchain_core-0.1.7-py3-none-any.whl (214 kB)\n",
      "   ---------------------------------------- 0.0/214.3 kB ? eta -:--:--\n",
      "   ------- ------------------------------- 41.0/214.3 kB 960.0 kB/s eta 0:00:01\n",
      "   ----------------- ---------------------- 92.2/214.3 kB 1.0 MB/s eta 0:00:01\n",
      "   ---------------------------- ----------- 153.6/214.3 kB 1.1 MB/s eta 0:00:01\n",
      "   -------------------------------- ------- 174.1/214.3 kB 1.2 MB/s eta 0:00:01\n",
      "   ------------------------------------ - 204.8/214.3 kB 953.7 kB/s eta 0:00:01\n",
      "   ------------------------------------ - 204.8/214.3 kB 953.7 kB/s eta 0:00:01\n",
      "   ------------------------------------ - 204.8/214.3 kB 953.7 kB/s eta 0:00:01\n",
      "   -------------------------------------- 214.3/214.3 kB 651.9 kB/s eta 0:00:00\n",
      "Downloading langsmith-0.0.77-py3-none-any.whl (48 kB)\n",
      "   ---------------------------------------- 0.0/48.2 kB ? eta -:--:--\n",
      "   ------------------------- -------------- 30.7/48.2 kB 1.3 MB/s eta 0:00:01\n",
      "   ---------------------------------------- 48.2/48.2 kB 602.9 kB/s eta 0:00:00\n",
      "Downloading PyYAML-6.0.1-cp311-cp311-win_amd64.whl (144 kB)\n",
      "   ---------------------------------------- 0.0/144.7 kB ? eta -:--:--\n",
      "   -------- ------------------------------ 30.7/144.7 kB 660.6 kB/s eta 0:00:01\n",
      "   ------------------------- -------------- 92.2/144.7 kB 1.1 MB/s eta 0:00:01\n",
      "   --------------------------------- ------ 122.9/144.7 kB 1.0 MB/s eta 0:00:01\n",
      "   --------------------------------- ------ 122.9/144.7 kB 1.0 MB/s eta 0:00:01\n",
      "   -------------------------------------- 144.7/144.7 kB 614.0 kB/s eta 0:00:00\n",
      "Downloading tenacity-8.2.3-py3-none-any.whl (24 kB)\n",
      "Downloading jsonpointer-2.4-py2.py3-none-any.whl (7.8 kB)\n",
      "Downloading marshmallow-3.20.1-py3-none-any.whl (49 kB)\n",
      "   ---------------------------------------- 0.0/49.4 kB ? eta -:--:--\n",
      "   ------------------------ --------------- 30.7/49.4 kB 1.4 MB/s eta 0:00:01\n",
      "   ------------------------ --------------- 30.7/49.4 kB 1.4 MB/s eta 0:00:01\n",
      "   --------------------------------- ------ 41.0/49.4 kB 281.8 kB/s eta 0:00:01\n",
      "   ---------------------------------------- 49.4/49.4 kB 313.6 kB/s eta 0:00:00\n",
      "Downloading typing_inspect-0.9.0-py3-none-any.whl (8.8 kB)\n",
      "Installing collected packages: tenacity, PyYAML, mypy-extensions, marshmallow, jsonpointer, typing-inspect, jsonpatch, langsmith, dataclasses-json, langchain-core, langchain-community, langchain\n",
      "Successfully installed PyYAML-6.0.1 dataclasses-json-0.6.3 jsonpatch-1.33 jsonpointer-2.4 langchain-0.1.0 langchain-community-0.0.9 langchain-core-0.1.7 langsmith-0.0.77 marshmallow-3.20.1 mypy-extensions-1.0.0 tenacity-8.2.3 typing-inspect-0.9.0\n",
      "Note: you may need to restart the kernel to use updated packages.\n"
     ]
    }
   ],
   "source": [
    "pip install langchain \n"
   ]
  },
  {
   "cell_type": "code",
   "execution_count": 2,
   "metadata": {},
   "outputs": [
    {
     "name": "stdout",
     "output_type": "stream",
     "text": [
      "Collecting psycopg2\n",
      "  Downloading psycopg2-2.9.9-cp311-cp311-win_amd64.whl.metadata (4.5 kB)\n",
      "Downloading psycopg2-2.9.9-cp311-cp311-win_amd64.whl (1.2 MB)\n",
      "   ---------------------------------------- 0.0/1.2 MB ? eta -:--:--\n",
      "   ---------------------------------------- 0.0/1.2 MB ? eta -:--:--\n",
      "   ---------------------------------------- 0.0/1.2 MB ? eta -:--:--\n",
      "   ---------------------------------------- 0.0/1.2 MB ? eta -:--:--\n",
      "   - -------------------------------------- 0.0/1.2 MB 325.1 kB/s eta 0:00:04\n",
      "   - -------------------------------------- 0.0/1.2 MB 325.1 kB/s eta 0:00:04\n",
      "   - -------------------------------------- 0.0/1.2 MB 196.9 kB/s eta 0:00:06\n",
      "   -- ------------------------------------- 0.1/1.2 MB 252.2 kB/s eta 0:00:05\n",
      "   -- ------------------------------------- 0.1/1.2 MB 286.7 kB/s eta 0:00:04\n",
      "   --- ------------------------------------ 0.1/1.2 MB 291.5 kB/s eta 0:00:04\n",
      "   ---- ----------------------------------- 0.1/1.2 MB 327.4 kB/s eta 0:00:04\n",
      "   ---- ----------------------------------- 0.1/1.2 MB 355.0 kB/s eta 0:00:03\n",
      "   ----- ---------------------------------- 0.2/1.2 MB 350.7 kB/s eta 0:00:03\n",
      "   ------- -------------------------------- 0.2/1.2 MB 401.2 kB/s eta 0:00:03\n",
      "   -------- ------------------------------- 0.3/1.2 MB 476.3 kB/s eta 0:00:02\n",
      "   --------- ------------------------------ 0.3/1.2 MB 491.1 kB/s eta 0:00:02\n",
      "   ----------- ---------------------------- 0.3/1.2 MB 537.2 kB/s eta 0:00:02\n",
      "   ------------- -------------------------- 0.4/1.2 MB 577.6 kB/s eta 0:00:02\n",
      "   --------------- ------------------------ 0.5/1.2 MB 626.3 kB/s eta 0:00:02\n",
      "   ----------------- ---------------------- 0.5/1.2 MB 655.4 kB/s eta 0:00:02\n",
      "   ------------------- -------------------- 0.6/1.2 MB 681.0 kB/s eta 0:00:01\n",
      "   --------------------- ------------------ 0.6/1.2 MB 715.8 kB/s eta 0:00:01\n",
      "   ---------------------- ----------------- 0.7/1.2 MB 749.0 kB/s eta 0:00:01\n",
      "   ------------------------ --------------- 0.7/1.2 MB 755.2 kB/s eta 0:00:01\n",
      "   -------------------------- ------------- 0.8/1.2 MB 792.6 kB/s eta 0:00:01\n",
      "   ---------------------------- ----------- 0.8/1.2 MB 806.3 kB/s eta 0:00:01\n",
      "   ----------------------------- ---------- 0.9/1.2 MB 821.5 kB/s eta 0:00:01\n",
      "   -------------------------------- ------- 1.0/1.2 MB 848.7 kB/s eta 0:00:01\n",
      "   ---------------------------------- ----- 1.0/1.2 MB 859.2 kB/s eta 0:00:01\n",
      "   ------------------------------------ --- 1.1/1.2 MB 879.2 kB/s eta 0:00:01\n",
      "   -------------------------------------- - 1.1/1.2 MB 887.2 kB/s eta 0:00:01\n",
      "   ---------------------------------------  1.2/1.2 MB 895.3 kB/s eta 0:00:01\n",
      "   ---------------------------------------- 1.2/1.2 MB 889.2 kB/s eta 0:00:00\n",
      "Installing collected packages: psycopg2\n",
      "Successfully installed psycopg2-2.9.9\n",
      "Note: you may need to restart the kernel to use updated packages.\n"
     ]
    }
   ],
   "source": [
    "pip install psycopg2\n"
   ]
  },
  {
   "cell_type": "code",
   "execution_count": 5,
   "metadata": {},
   "outputs": [],
   "source": [
    "from langchain.agents import create_sql_agent\n",
    "from langchain.agents.agent_toolkits import SQLDatabaseToolkit\n",
    "from langchain.sql_database import SQLDatabase\n",
    "from langchain.llms.openai import OpenAI\n",
    "from langchain.agents import AgentExecutor\n",
    "import os\n",
    "from langchain_community.llms import AzureOpenAI\n",
    "os.environ[\"OPENAI_API_TYPE\"] = \"azure\"\n",
    "import openai\n",
    "\n"
   ]
  },
  {
   "cell_type": "code",
   "execution_count": null,
   "metadata": {},
   "outputs": [],
   "source": [
    "openai.api_type = \"azure\"\n",
    "openai.api_base = \"https://like-card-test.openai.azure.com/\"\n",
    "openai.api_version = \"2023-07-01-preview\"\n",
    "openai.api_key = \"85889c7998dd4adb9a4c89abe56b1242\"\n",
    "openai.azure_endpoint=\"https://like-card-test.openai.azure.com/openai/deployments/gpt-35-turbo/chat/completions?api-version=2023-07-01-preview\""
   ]
  },
  {
   "cell_type": "code",
   "execution_count": 23,
   "metadata": {},
   "outputs": [],
   "source": [
    "import os\n",
    "\n",
    "os.environ[\"OPENAI_API_TYPE\"] = \"azure\"\n",
    "os.environ[\"OPENAI_API_VERSION\"] = \"2023-07-01-preview\"\n",
    "os.environ[\"OPENAI_API_BASE\"] = \"https://like-card-test.openai.azure.com/\"\n",
    "os.environ[\"OPENAI_API_KEY\"] = \"85889c7998dd4adb9a4c89abe56b1242\"\n",
    "os.environ[\"OPENAI_API_ENDPOINT\"]=\"https://like-card-test.openai.azure.com/openai/deployments/gpt-35-turbo/chat/completions?api-version=2023-07-01-preview\""
   ]
  },
  {
   "cell_type": "code",
   "execution_count": null,
   "metadata": {},
   "outputs": [],
   "source": [
    "f = open(\"Credintials.txt\", \"r\")\n",
    "email = None\n",
    "password = None\n",
    "for i, line in enumerate(f):\n",
    "    if i == 0:\n",
    "        email = line.strip()  # Assign the first line to email variable\n",
    "    elif i == 1:\n",
    "        password = line.strip()  # Assign the second line to password variable\n",
    "\n",
    "f.close()"
   ]
  },
  {
   "cell_type": "code",
   "execution_count": 30,
   "metadata": {},
   "outputs": [],
   "source": [
    "server = 'anmx3c2yurjethctgyba6xtuaq-vkvbn7t4322edeguc3ufhjtjeu.datawarehouse.pbidedicated.windows.net'\n",
    "database = 'likeCard'\n",
    "driver='ODBC Driver 18 for SQL Server'\n",
    "user= email # use %40 inplace of @\n",
    "pass1=password # use %40 inplace of @   \n",
    "db_string =f'mssql+pyodbc://{user}:{pass1}@{server}/{database}?driver={driver}&Trusted_Connection=no&Authentication=ActiveDirectoryInteractive'\n",
    "dp=SQLDatabase.from_uri(db_string)\n"
   ]
  },
  {
   "cell_type": "code",
   "execution_count": 62,
   "metadata": {},
   "outputs": [
    {
     "name": "stderr",
     "output_type": "stream",
     "text": [
      "C:\\Users\\moham\\AppData\\Local\\Packages\\PythonSoftwareFoundation.Python.3.11_qbz5n2kfra8p0\\LocalCache\\local-packages\\Python311\\site-packages\\langchain_core\\_api\\deprecation.py:189: LangChainDeprecationWarning: The class `AzureOpenAI` was deprecated in LangChain 0.1.0 and will be removed in 0.2.0. Use langchain_openai.AzureOpenAI instead.\n",
      "  warn_deprecated(\n"
     ]
    }
   ],
   "source": [
    "llm = AzureOpenAI( model_name=\"gpt-35-turbo-instruct\",deployment_name=\"gpt-35-turbo-instruct\",temperature=0)"
   ]
  },
  {
   "cell_type": "code",
   "execution_count": 63,
   "metadata": {},
   "outputs": [],
   "source": [
    "toolkit = SQLDatabaseToolkit(db=dp,llm=llm)\n"
   ]
  },
  {
   "cell_type": "code",
   "execution_count": 64,
   "metadata": {},
   "outputs": [
    {
     "name": "stderr",
     "output_type": "stream",
     "text": [
      "C:\\Users\\moham\\AppData\\Local\\Packages\\PythonSoftwareFoundation.Python.3.11_qbz5n2kfra8p0\\LocalCache\\local-packages\\Python311\\site-packages\\langchain_core\\_api\\deprecation.py:189: LangChainDeprecationWarning: The class `ZeroShotAgent` was deprecated in LangChain 0.1.0 and will be removed in 0.2.0. Use create_react_agent instead.\n",
      "  warn_deprecated(\n",
      "C:\\Users\\moham\\AppData\\Local\\Packages\\PythonSoftwareFoundation.Python.3.11_qbz5n2kfra8p0\\LocalCache\\local-packages\\Python311\\site-packages\\langchain_core\\_api\\deprecation.py:189: LangChainDeprecationWarning: The class `Agent` was deprecated in LangChain 0.1.0 and will be removed in 0.2.0. Use Use new agent constructor methods like create_react_agent, create_json_agent, create_structured_chat_agent, etc. instead.\n",
      "  warn_deprecated(\n"
     ]
    }
   ],
   "source": [
    "agent_executor = create_sql_agent(\n",
    "    llm=llm,\n",
    "    toolkit=toolkit,\n",
    "    verbose=True \n",
    ")"
   ]
  },
  {
   "cell_type": "code",
   "execution_count": null,
   "metadata": {},
   "outputs": [],
   "source": [
    "PROMPT = \"\"\" \n",
    "Given an input question, first create sql server query to run,  \n",
    "then look at the results of the query and return the answer.  \n",
    "The question: {question}\n",
    "\"\"\"\n",
    "question = \"what is the total sales for b2b\"\n",
    "agent_executor.run(PROMPT.format(question=question))\n",
    "  "
   ]
  },
  {
   "cell_type": "code",
   "execution_count": 66,
   "metadata": {},
   "outputs": [
    {
     "name": "stdout",
     "output_type": "stream",
     "text": [
      "\n",
      "\n",
      "\u001b[1m> Entering new AgentExecutor chain...\u001b[0m\n"
     ]
    },
    {
     "name": "stderr",
     "output_type": "stream",
     "text": [
      "C:\\Users\\moham\\AppData\\Local\\Packages\\PythonSoftwareFoundation.Python.3.11_qbz5n2kfra8p0\\LocalCache\\local-packages\\Python311\\site-packages\\langchain_core\\_api\\deprecation.py:189: LangChainDeprecationWarning: The function `__call__` was deprecated in LangChain 0.1.0 and will be removed in 0.2.0. Use invoke instead.\n",
      "  warn_deprecated(\n"
     ]
    },
    {
     "name": "stdout",
     "output_type": "stream",
     "text": [
      "\u001b[32;1m\u001b[1;3mAction: sql_db_list_tables\n",
      "Action Input: \u001b[0m\n",
      "Observation: \u001b[38;5;200m\u001b[1;3mBL_Mapping_Table, Customers_DAX_table, DAX_table, GMV_Calender_DAX_table, GMV_DimDate_DAX_table, Same_period, dimDate, dimDateEX, dim_B2B_Sales_Channel, dim_B2B_Sales_Channel_new, dim_Target, dim_allusers, dim_balance, dim_categories, dim_industry, dim_log_status, dim_parent_categories, dim_payment_methods, dim_pos_sales_channel, dim_products, dim_segments, dim_stores, dim_users_b2b, dim_users_b2c, dim_users_pos, exploration, fact_b2b_trans, fact_b2c_trans, fact_points, fact_pos_trans, fact_salla_trans, fact_transactions, fact_vouchers\u001b[0m\n",
      "Thought:"
     ]
    },
    {
     "name": "stderr",
     "output_type": "stream",
     "text": [
      "C:\\Users\\moham\\AppData\\Local\\Packages\\PythonSoftwareFoundation.Python.3.11_qbz5n2kfra8p0\\LocalCache\\local-packages\\Python311\\site-packages\\langchain_core\\_api\\deprecation.py:189: LangChainDeprecationWarning: The function `__call__` was deprecated in LangChain 0.1.0 and will be removed in 0.2.0. Use invoke instead.\n",
      "  warn_deprecated(\n"
     ]
    },
    {
     "name": "stdout",
     "output_type": "stream",
     "text": [
      "\u001b[32;1m\u001b[1;3m I should query the schema of the fact_b2b_trans table to see what columns I can use to calculate sales.\n",
      "Action: sql_db_schema\n",
      "Action Input: fact_b2b_trans\u001b[0m\n",
      "Observation: \u001b[33;1m\u001b[1;3m\n",
      "CREATE TABLE fact_b2b_trans (\n",
      "\t[OrderDateTime] DATETIME2 NULL, \n",
      "\tuser_id INTEGER NULL, \n",
      "\torder_id INTEGER NULL, \n",
      "\tstore_id INTEGER NULL, \n",
      "\tpayment_method_id INTEGER NULL, \n",
      "\tbank_id INTEGER NULL, \n",
      "\tproduct_id INTEGER NULL, \n",
      "\tqty INTEGER NULL, \n",
      "\tcost FLOAT(53) NULL, \n",
      "\tcoupon_code VARCHAR(100) COLLATE Latin1_General_100_BIN2_UTF8 NULL, \n",
      "\tfees FLOAT(53) NULL, \n",
      "\tamount FLOAT(53) NULL, \n",
      "\ttotal_amount FLOAT(53) NULL, \n",
      "\tid INTEGER NOT NULL, \n",
      "\tcoupon_discount FLOAT(53) NULL, \n",
      "\ttime INTEGER NULL, \n",
      "\t[OrderTimeKey] VARCHAR(50) COLLATE Latin1_General_100_BIN2_UTF8 NULL, \n",
      "\t[Hour] INTEGER NULL, \n",
      "\t[Business_line] VARCHAR(10) COLLATE Latin1_General_100_BIN2_UTF8 NULL, \n",
      "\tCONSTRAINT [PK_id_trans_b2b] PRIMARY KEY (id)\n",
      ")\n",
      "\n",
      "/*\n",
      "3 rows from fact_b2b_trans table:\n",
      "OrderDateTime\tuser_id\torder_id\tstore_id\tpayment_method_id\tbank_id\tproduct_id\tqty\tcost\tcoupon_code\tfees\tamount\ttotal_amount\tid\tcoupon_discount\ttime\tOrderTimeKey\tHour\tBusiness_line\n",
      "2023-12-25 13:43:01\t1560886454\t95872907\t2\t1\t0\t974\t8\t1278.1\t\t0.0\t1247.36\t1247.36\t73208846\t0.0\t1703511901\t20231225\t13\tB2B\n",
      "2023-12-24 23:33:54\t1560886454\t95840972\t2\t1\t0\t974\t25\t3994.05\t\t0.0\t3898.0\t3898.0\t73178640\t0.0\t1703460901\t20231224\t23\tB2B\n",
      "2023-12-21 16:06:19\t1560886454\t95602049\t2\t1\t0\t974\t16\t2430.08\t\t0.0\t2494.72\t2494.72\t72954761\t0.0\t1703174941\t20231221\t16\tB2B\n",
      "*/\u001b[0m\n",
      "Thought:"
     ]
    },
    {
     "name": "stderr",
     "output_type": "stream",
     "text": [
      "C:\\Users\\moham\\AppData\\Local\\Packages\\PythonSoftwareFoundation.Python.3.11_qbz5n2kfra8p0\\LocalCache\\local-packages\\Python311\\site-packages\\langchain_core\\_api\\deprecation.py:189: LangChainDeprecationWarning: The function `__call__` was deprecated in LangChain 0.1.0 and will be removed in 0.2.0. Use invoke instead.\n",
      "  warn_deprecated(\n"
     ]
    },
    {
     "name": "stdout",
     "output_type": "stream",
     "text": [
      "\u001b[32;1m\u001b[1;3m I should query the fact_b2b_trans table to get the total sales yesterday.\n",
      "Action: sql_db_query\n",
      "Action Input: SELECT SUM(total_amount) FROM fact_b2b_trans WHERE OrderDateTime >= '2023-12-25 00:00:00' AND OrderDateTime < '2023-12-26 00:00:00'\u001b[0m\n",
      "Observation: \u001b[36;1m\u001b[1;3m[(1164526.1309999377,)]\u001b[0m\n",
      "Thought:"
     ]
    },
    {
     "name": "stderr",
     "output_type": "stream",
     "text": [
      "C:\\Users\\moham\\AppData\\Local\\Packages\\PythonSoftwareFoundation.Python.3.11_qbz5n2kfra8p0\\LocalCache\\local-packages\\Python311\\site-packages\\langchain_core\\_api\\deprecation.py:189: LangChainDeprecationWarning: The function `__call__` was deprecated in LangChain 0.1.0 and will be removed in 0.2.0. Use invoke instead.\n",
      "  warn_deprecated(\n"
     ]
    },
    {
     "name": "stdout",
     "output_type": "stream",
     "text": [
      "\u001b[32;1m\u001b[1;3m The total sales yesterday was 1,164,526.13\n",
      "Final Answer: 1,164,526.13<|im_end|>\u001b[0m\n",
      "\n",
      "\u001b[1m> Finished chain.\u001b[0m\n"
     ]
    },
    {
     "data": {
      "text/plain": [
       "{'input': 'what is the total sales yesterday',\n",
       " 'output': '1,164,526.13<|im_end|>'}"
      ]
     },
     "execution_count": 66,
     "metadata": {},
     "output_type": "execute_result"
    }
   ],
   "source": [
    "agent_executor.run(\"what is the total sales yesterday\")\n"
   ]
  },
  {
   "cell_type": "code",
   "execution_count": null,
   "metadata": {},
   "outputs": [],
   "source": []
  }
 ],
 "metadata": {
  "kernelspec": {
   "display_name": "Python 3",
   "language": "python",
   "name": "python3"
  },
  "language_info": {
   "codemirror_mode": {
    "name": "ipython",
    "version": 3
   },
   "file_extension": ".py",
   "mimetype": "text/x-python",
   "name": "python",
   "nbconvert_exporter": "python",
   "pygments_lexer": "ipython3",
   "version": "3.11.7"
  }
 },
 "nbformat": 4,
 "nbformat_minor": 2
}
